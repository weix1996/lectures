{
 "cells": [
  {
   "cell_type": "markdown",
   "metadata": {},
   "source": [
    "# Sentiment Analysis of Twitter Data"
   ]
  },
  {
   "cell_type": "markdown",
   "metadata": {},
   "source": [
    "**Note: you need a Twitter developer account in order to execute the following code**"
   ]
  },
  {
   "cell_type": "code",
   "execution_count": 1,
   "metadata": {},
   "outputs": [],
   "source": [
    "import pandas as pd\n",
    "import matplotlib.pyplot as plt\n",
    "import numpy as np"
   ]
  },
  {
   "cell_type": "code",
   "execution_count": 2,
   "metadata": {},
   "outputs": [],
   "source": [
    "# Load credentials from json file\n",
    "# For this to work, you need your own credentials file\n",
    "import json\n",
    "with open(\"twitter_credentials.json\", \"r\") as file:\n",
    "    creds = json.load(file)"
   ]
  },
  {
   "cell_type": "markdown",
   "metadata": {},
   "source": [
    "**The Structure of a Tweet**\n",
    "\n",
    "There are various components of a tweet that you can use to extract information:\n",
    "\n",
    "* User Name: This is how each unique user is identified.\n",
    "* Time Stamp: When the tweet was sent.\n",
    "* Tweet Text: The body of the tweet - needs to be 140 characters of less!\n",
    "* Hashtags: Always proceeded by a # symbol. A hashtag is often describes a particular event or can be related to a particular topic. It is a way for users to communicate with a particular group of people on twitter - for instance those attending a conference #agu2016 or those using r #rstats.\n",
    "* Links: Links can be embedded within a tweet. Links are a way that users share information.\n",
    "* Embedded Media: tweets can contain pictures and videos. The most popular tweets often contain pictures.\n",
    "* Replies: When someone posts a tweet, another user can reply directly to that user - similar to a text message except the message is visible to the public.\n",
    "* Retweets: a retweet is when someone shares a tweet with their followers.\n",
    "* Favorites: You can “like” a tweet to keep a history of content that you like in your account.\n",
    "* Latitude/Longitude: about 1% of all tweets contains coordinate information."
   ]
  },
  {
   "cell_type": "code",
   "execution_count": null,
   "metadata": {},
   "outputs": [],
   "source": [
    "pip install tweepy"
   ]
  },
  {
   "cell_type": "code",
   "execution_count": 4,
   "metadata": {},
   "outputs": [],
   "source": [
    "import os\n",
    "import tweepy as tw"
   ]
  },
  {
   "cell_type": "markdown",
   "metadata": {},
   "source": [
    "## Version 1.1"
   ]
  },
  {
   "cell_type": "code",
   "execution_count": 5,
   "metadata": {},
   "outputs": [],
   "source": [
    "auth = tw.OAuthHandler(creds['CONSUMER_KEY'], creds['CONSUMER_SECRET'],creds['ACCESS_TOKEN'], creds['ACCESS_SECRET'])"
   ]
  },
  {
   "cell_type": "code",
   "execution_count": 6,
   "metadata": {},
   "outputs": [],
   "source": [
    "api = tw.API(auth)"
   ]
  },
  {
   "cell_type": "code",
   "execution_count": 7,
   "metadata": {},
   "outputs": [
    {
     "name": "stdout",
     "output_type": "stream",
     "text": [
      "Crypto YouTuber: Don’t get caught up in the emotions and cry over the thousands of dollars you lost listening to me… https://t.co/aZppu2k1nI\n",
      "Liz Truss is set to become one of the key instigators in breaking international law, causing the EU to possibly sus… https://t.co/Qy5pg4x6Te\n",
      "RT @bennyjohnson: BREAKING: Donald Trump posts new video slamming Biden on Truth Social: https://t.co/tDV43jzwD0\n",
      "RT @MorePerfectUS: On CNBC this morning, @jimcramer called for Amazon to shut down the Staten Island warehouse that recently unionized with…\n",
      "RT @marynmck: Journalists covering demonstrations in from of Alito’s house are being given wine and cheese by neighors (and key lime pie, i…\n",
      "RT @CharlotteEmmaUK: Never forget these people! https://t.co/xOt1Iq1qoq\n",
      "RT @DailyTrix: @nycsouthpaw Great Moments in Neighborly Protesting https://t.co/zt8HpDn27R\n",
      "RT @nycsouthpaw: The thing that’s just so obvious if you take half a second to look at these protests, is they live there! To date, these a…\n",
      "Russian Orthodox Christian churches are drawing in far-right American converts in West Virginia https://t.co/uOE59E2w08\n",
      "RT @SollenbergerRC: NEW: That oppo dump targeting Madison Cawthorn? It’s coming from Republicans in his own state—including former friends.…\n",
      "RT @CAFinUS: They wouldn't accept him because of their racism, Canada's racism.\n",
      "\n",
      "It's Asian Heritage Month. Remember Wee Tan Louie.\n",
      "Vintage found footage - Don't go Alan https://t.co/p8FwpgJxU3  #animation #animated #Animatedvideos… https://t.co/5BwRa9yWb3\n",
      "RT @lizmattphilly: @JoelLawsonDC @Chewythewookie1 https://t.co/4FzU7XVG1o\n",
      "The Capitol insurrectionists must be prosecuted to the full extent of the law. https://t.co/M2Si3jSTiu\n",
      "RT @WaPoSean: NEW: A group of liberal cong. Ds is introducing a  proposal to tighten judicial ethics laws, reflecting the rising anger on t…\n",
      "😂😂😂😂 https://t.co/2ykV1jP81j\n",
      "RT @ylanmui: WOW: @SecYellen weighs in on abortion debate -- with an economic angle:\n",
      "\n",
      "\"Eliminating the right of women to make decisions abo…\n",
      "RT @todayng: Court discharges HEDA chairman as Nigerian government withdraws ‘cyberstalking’ charge https://t.co/YOMRicqBfi\n"
     ]
    }
   ],
   "source": [
    "# Show tweets from my timeline\n",
    "public_tweets = api.home_timeline()\n",
    "for tweet in public_tweets:\n",
    "    print(tweet.text)"
   ]
  },
  {
   "cell_type": "code",
   "execution_count": 8,
   "metadata": {},
   "outputs": [],
   "source": [
    "# Get the User object for twitter...\n",
    "user = api.get_user(screen_name='SentimentVoter')"
   ]
  },
  {
   "cell_type": "code",
   "execution_count": 9,
   "metadata": {},
   "outputs": [
    {
     "name": "stdout",
     "output_type": "stream",
     "text": [
      "SentimentVoter\n",
      "15\n",
      "jrpsaki\n",
      "DisinfoIndex\n",
      "SearchDigitalHQ\n",
      "theMAGAlion\n",
      "cwilken\n",
      "progressivepush\n",
      "electroboyusa\n",
      "Cruellaisdevine\n",
      "vickicon72\n",
      "kevincaldwell\n",
      "confunctionist\n",
      "CadillacCT52021\n",
      "politicalHEDGE\n",
      "OxfordDiplomat\n",
      "politvidchannel\n",
      "SKYRIDER4538\n",
      "SierraWhiskee\n",
      "AndyWendt\n",
      "jennycohn1\n",
      "UROCKlive1\n"
     ]
    }
   ],
   "source": [
    "print(user.screen_name)\n",
    "print(user.followers_count)\n",
    "for friend in user.friends():\n",
    "   print(friend.screen_name)"
   ]
  },
  {
   "cell_type": "markdown",
   "metadata": {},
   "source": [
    "## Version 2"
   ]
  },
  {
   "cell_type": "code",
   "execution_count": null,
   "metadata": {},
   "outputs": [],
   "source": [
    "bearer_token = 'XXX' # You need to obtain this from Twitter"
   ]
  },
  {
   "cell_type": "code",
   "execution_count": 10,
   "metadata": {},
   "outputs": [],
   "source": [
    "client = tw.Client(bearer_token)"
   ]
  },
  {
   "cell_type": "code",
   "execution_count": 13,
   "metadata": {},
   "outputs": [],
   "source": [
    "response = client.search_recent_tweets('Supreme Court', max_results=10)"
   ]
  },
  {
   "cell_type": "code",
   "execution_count": 14,
   "metadata": {},
   "outputs": [
    {
     "name": "stdout",
     "output_type": "stream",
     "text": [
      "{'newest_id': '1524034756635209728', 'oldest_id': '1524034750897340417', 'result_count': 10, 'next_token': 'b26v89c19zqg8o3fpywmh0rney0872qw720sxl7ps5hfh'}\n"
     ]
    }
   ],
   "source": [
    "print(response.meta)"
   ]
  },
  {
   "cell_type": "code",
   "execution_count": 15,
   "metadata": {},
   "outputs": [],
   "source": [
    "tweets = response.data"
   ]
  },
  {
   "cell_type": "code",
   "execution_count": 16,
   "metadata": {},
   "outputs": [
    {
     "name": "stdout",
     "output_type": "stream",
     "text": [
      "1524034756635209728\n",
      "RT @bennyjohnson: Good morning to everyone except for Democrat politicians who issue a “call to arms” over a potential Supreme Court decisi…\n",
      "1524034754999644160\n",
      "RT @carla_bertulfo: #NeverForget , Duterte’s admin set all the key positions in the Comelec, Supreme Court and legislative bodies to ensure…\n",
      "1524034754508697603\n",
      "RT @tribelaw: Three-fifths of the Supreme Court justices who joined that Alito abomination were nominated by a serial abuser of women, Dona…\n",
      "1524034753829261314\n",
      "RT @briantylercohen: If Republicans take power, they’ll pass a law banning abortion nationwide, and the Supreme Court will uphold it. Find…\n",
      "1524034753548201989\n",
      "RT @tribelaw: The Alito draft undermines the Constitution itself by tying the interpretation of its implied but unenumerated rights so clos…\n",
      "1524034753111932928\n",
      "RT @TomCottonAR: The \"protestors\" who are harassing and threatening Supreme Court Justices at their homes are breaking the law. \n",
      "\n",
      "Every one…\n",
      "1524034752965189634\n",
      "RT @sparki1969: They legalize running over protesters with cars. They legalize harassment of people going to abortion clinics. But will out…\n",
      "1524034752730202112\n",
      "RT @ewarren: Well then it’s time for Justice Clarence Thomas to look in the mirror. And it’s time for the Supreme Court to follow a basic,…\n",
      "1524034751207809024\n",
      "RT @CongressmanRaja: Roe v. Wade is only the first target of this Supreme Court. We must take action to codify not just a woman’s right to…\n",
      "1524034750897340417\n",
      "RT @danielschuman: The Senate passed a bill granting further powers to the Supreme Court police yesterday. It expands who they protect to f…\n"
     ]
    }
   ],
   "source": [
    "for tweet in tweets:\n",
    "    print(tweet.id)\n",
    "    print(tweet.text)"
   ]
  },
  {
   "cell_type": "code",
   "execution_count": 17,
   "metadata": {},
   "outputs": [
    {
     "name": "stdout",
     "output_type": "stream",
     "text": [
      "1523377561975214080\n",
      "I’m a Hawai’i kid, so I’ve got to congratulate the Rainbow Warriors for their back-to-back national volleyball championships! @HawaiiMensVB, you've made all of Hawai'i proud. https://t.co/UWjoDTVEVH\n",
      "1523325020059090945\n",
      "Happy Mother's Day! I hope you all let the moms and mother-figures in your life know how much they mean to you.\n",
      "\n",
      "@MichelleObama, thank you for being a wonderful mother and role model to our daughters and to so many others around the world. https://t.co/xirbzZC1P0\n",
      "1522622624756637697\n",
      "Happy birthday to one of the greats, Willie Mays! I’ll always remember this conversation we had while on Air Force One during the first year of my presidency. I’ve always looked up to the Say Hey Kid, and I hope he’s having a great 91st birthday. https://t.co/PcVZg8Gp9i\n",
      "1522599997195366400\n",
      "I couldn't be more grateful for all the love and support I’ve received from my mother-in-law, Marian Robinson, especially during those years in the White House when she was right by our side. We look forward to honoring her with this exhibit. https://t.co/MrHs8xslMy\n",
      "1521569658960240642\n",
      "Here’s my statement with Michelle on the draft Supreme Court decision to overturn Roe v. Wade. https://t.co/xBJJkLYGlQ\n",
      "1521242035218522125\n",
      "Michelle and I extend our warmest wishes to Muslims across our country and around the world as they celebrate Eid al-Fitr. From our family to yours, Eid Mubarak.\n",
      "1521237572403535874\n",
      "RT @ObamaFoundation: Last year, to mark 10 years since the operation against Osama bin Laden, President Obama joined Admiral Bill McRaven t…\n",
      "1520101200653340673\n",
      "Our Great National Parks on Netflix showcases the power and beauty of the world’s most breathtaking national parks and wildlife.\n",
      "\n",
      "I hope watching inspires you to experience the outdoors and take action to protect it. Join our Wild For All campaign at https://t.co/PTlffHC7gv. https://t.co/F7hHz6BHKC\n",
      "1520071084967612417\n",
      "We can learn a lot from what Europe is doing to improve social media. Their approach may not be exactly right for the U.S., but it points toward a path forward. https://t.co/BQBBw9z8wu\n",
      "1519776352240549888\n",
      "When I hear about the courage of young leaders in our @ObamaFoundation network, I can't help but feel hopeful. Read Yuliia Sachuk’s powerful story, and learn how she’s helping Ukrainians with disabilities get to safety. https://t.co/hIXHWizpic\n"
     ]
    }
   ],
   "source": [
    "user_id = 813286\n",
    "response = client.get_users_tweets(user_id)\n",
    "for tweet in response.data:\n",
    "    print(tweet.id)\n",
    "    print(tweet.text)"
   ]
  },
  {
   "cell_type": "markdown",
   "metadata": {},
   "source": [
    "## Reading tweets (back to ver 1.1)"
   ]
  },
  {
   "cell_type": "code",
   "execution_count": 18,
   "metadata": {},
   "outputs": [],
   "source": [
    "search_words = 'Supreme Court'\n",
    "date_since = '2022-05-05'"
   ]
  },
  {
   "cell_type": "code",
   "execution_count": 19,
   "metadata": {},
   "outputs": [],
   "source": [
    "tweets = tw.Cursor(api.search_tweets,\n",
    "              q=search_words,\n",
    "              lang=\"en\").items(50)"
   ]
  },
  {
   "cell_type": "code",
   "execution_count": 20,
   "metadata": {},
   "outputs": [],
   "source": [
    "users_locs = [[tweet.user.screen_name, tweet.user.location] for tweet in tweets]\n",
    "loc_df = pd.DataFrame(data=users_locs, columns=['user','location'])"
   ]
  },
  {
   "cell_type": "code",
   "execution_count": 21,
   "metadata": {},
   "outputs": [
    {
     "data": {
      "text/html": [
       "<div>\n",
       "<style scoped>\n",
       "    .dataframe tbody tr th:only-of-type {\n",
       "        vertical-align: middle;\n",
       "    }\n",
       "\n",
       "    .dataframe tbody tr th {\n",
       "        vertical-align: top;\n",
       "    }\n",
       "\n",
       "    .dataframe thead th {\n",
       "        text-align: right;\n",
       "    }\n",
       "</style>\n",
       "<table border=\"1\" class=\"dataframe\">\n",
       "  <thead>\n",
       "    <tr style=\"text-align: right;\">\n",
       "      <th></th>\n",
       "      <th>user</th>\n",
       "      <th>location</th>\n",
       "    </tr>\n",
       "  </thead>\n",
       "  <tbody>\n",
       "    <tr>\n",
       "      <th>0</th>\n",
       "      <td>SOGLCSW</td>\n",
       "      <td>Chicago, IL</td>\n",
       "    </tr>\n",
       "    <tr>\n",
       "      <th>1</th>\n",
       "      <td>LuisD_53</td>\n",
       "      <td></td>\n",
       "    </tr>\n",
       "    <tr>\n",
       "      <th>2</th>\n",
       "      <td>rightwingertoo</td>\n",
       "      <td>Behind the Blue Curtain (CA)</td>\n",
       "    </tr>\n",
       "    <tr>\n",
       "      <th>3</th>\n",
       "      <td>wisedonkey2</td>\n",
       "      <td></td>\n",
       "    </tr>\n",
       "    <tr>\n",
       "      <th>4</th>\n",
       "      <td>BotForEquality</td>\n",
       "      <td></td>\n",
       "    </tr>\n",
       "    <tr>\n",
       "      <th>5</th>\n",
       "      <td>ItzThe_Tuno</td>\n",
       "      <td></td>\n",
       "    </tr>\n",
       "    <tr>\n",
       "      <th>6</th>\n",
       "      <td>oshunsdawta</td>\n",
       "      <td>Philadelphia, PA</td>\n",
       "    </tr>\n",
       "    <tr>\n",
       "      <th>7</th>\n",
       "      <td>sargent_kris</td>\n",
       "      <td>Bay of Plenty, NZ</td>\n",
       "    </tr>\n",
       "    <tr>\n",
       "      <th>8</th>\n",
       "      <td>beand199</td>\n",
       "      <td></td>\n",
       "    </tr>\n",
       "    <tr>\n",
       "      <th>9</th>\n",
       "      <td>nanagrizz22</td>\n",
       "      <td></td>\n",
       "    </tr>\n",
       "    <tr>\n",
       "      <th>10</th>\n",
       "      <td>EllieShortKa</td>\n",
       "      <td></td>\n",
       "    </tr>\n",
       "    <tr>\n",
       "      <th>11</th>\n",
       "      <td>56blackcat</td>\n",
       "      <td>Northern Ireland, UK 🇬🇧</td>\n",
       "    </tr>\n",
       "    <tr>\n",
       "      <th>12</th>\n",
       "      <td>RexEHorne1</td>\n",
       "      <td></td>\n",
       "    </tr>\n",
       "    <tr>\n",
       "      <th>13</th>\n",
       "      <td>redwingsgoal</td>\n",
       "      <td>Fort Collins, CO</td>\n",
       "    </tr>\n",
       "    <tr>\n",
       "      <th>14</th>\n",
       "      <td>richdiet_mel</td>\n",
       "      <td>Land O’ Lunatics</td>\n",
       "    </tr>\n",
       "    <tr>\n",
       "      <th>15</th>\n",
       "      <td>Dexternosis</td>\n",
       "      <td>Virginia, Northern</td>\n",
       "    </tr>\n",
       "    <tr>\n",
       "      <th>16</th>\n",
       "      <td>preaction</td>\n",
       "      <td></td>\n",
       "    </tr>\n",
       "    <tr>\n",
       "      <th>17</th>\n",
       "      <td>DujelindaMz</td>\n",
       "      <td></td>\n",
       "    </tr>\n",
       "    <tr>\n",
       "      <th>18</th>\n",
       "      <td>juliefehr</td>\n",
       "      <td></td>\n",
       "    </tr>\n",
       "    <tr>\n",
       "      <th>19</th>\n",
       "      <td>davidetn23</td>\n",
       "      <td>Eastern Tennessee, USA</td>\n",
       "    </tr>\n",
       "    <tr>\n",
       "      <th>20</th>\n",
       "      <td>mdtoorder</td>\n",
       "      <td>Arizona, USA</td>\n",
       "    </tr>\n",
       "    <tr>\n",
       "      <th>21</th>\n",
       "      <td>raeraeh1</td>\n",
       "      <td>Chicago, IL</td>\n",
       "    </tr>\n",
       "    <tr>\n",
       "      <th>22</th>\n",
       "      <td>AdrianeAmf502</td>\n",
       "      <td></td>\n",
       "    </tr>\n",
       "    <tr>\n",
       "      <th>23</th>\n",
       "      <td>BillyCorriher</td>\n",
       "      <td>Mebane, NC (Orange County)</td>\n",
       "    </tr>\n",
       "    <tr>\n",
       "      <th>24</th>\n",
       "      <td>TonyLeventhal</td>\n",
       "      <td>Brooklyn, NY</td>\n",
       "    </tr>\n",
       "    <tr>\n",
       "      <th>25</th>\n",
       "      <td>AlexMorse</td>\n",
       "      <td>Louisville, KY</td>\n",
       "    </tr>\n",
       "    <tr>\n",
       "      <th>26</th>\n",
       "      <td>FoundersFollows</td>\n",
       "      <td></td>\n",
       "    </tr>\n",
       "    <tr>\n",
       "      <th>27</th>\n",
       "      <td>gmpeckg2</td>\n",
       "      <td>Atlanta, GA</td>\n",
       "    </tr>\n",
       "    <tr>\n",
       "      <th>28</th>\n",
       "      <td>frankdugan</td>\n",
       "      <td>Southern California</td>\n",
       "    </tr>\n",
       "    <tr>\n",
       "      <th>29</th>\n",
       "      <td>KempDarold</td>\n",
       "      <td></td>\n",
       "    </tr>\n",
       "    <tr>\n",
       "      <th>30</th>\n",
       "      <td>AaronMartins10</td>\n",
       "      <td></td>\n",
       "    </tr>\n",
       "    <tr>\n",
       "      <th>31</th>\n",
       "      <td>bfassassin30</td>\n",
       "      <td>Nampa, ID</td>\n",
       "    </tr>\n",
       "    <tr>\n",
       "      <th>32</th>\n",
       "      <td>Bcgal19</td>\n",
       "      <td>🇨🇦 &amp; 🇺🇸</td>\n",
       "    </tr>\n",
       "    <tr>\n",
       "      <th>33</th>\n",
       "      <td>Lane141161007</td>\n",
       "      <td></td>\n",
       "    </tr>\n",
       "    <tr>\n",
       "      <th>34</th>\n",
       "      <td>GalvinIv</td>\n",
       "      <td></td>\n",
       "    </tr>\n",
       "    <tr>\n",
       "      <th>35</th>\n",
       "      <td>BillyCorriher</td>\n",
       "      <td>Mebane, NC (Orange County)</td>\n",
       "    </tr>\n",
       "    <tr>\n",
       "      <th>36</th>\n",
       "      <td>Bryce_Engstrom</td>\n",
       "      <td>Arroyo Grande, CA</td>\n",
       "    </tr>\n",
       "    <tr>\n",
       "      <th>37</th>\n",
       "      <td>WolfgangRUL</td>\n",
       "      <td>Miami</td>\n",
       "    </tr>\n",
       "    <tr>\n",
       "      <th>38</th>\n",
       "      <td>_alyssasyren</td>\n",
       "      <td></td>\n",
       "    </tr>\n",
       "    <tr>\n",
       "      <th>39</th>\n",
       "      <td>RossMcleanSec</td>\n",
       "      <td>Toronto</td>\n",
       "    </tr>\n",
       "    <tr>\n",
       "      <th>40</th>\n",
       "      <td>RAJBALAMSharma2</td>\n",
       "      <td></td>\n",
       "    </tr>\n",
       "    <tr>\n",
       "      <th>41</th>\n",
       "      <td>MadHungryWoman</td>\n",
       "      <td>Southern California</td>\n",
       "    </tr>\n",
       "    <tr>\n",
       "      <th>42</th>\n",
       "      <td>FartSeb</td>\n",
       "      <td>Seb gorkas brain</td>\n",
       "    </tr>\n",
       "    <tr>\n",
       "      <th>43</th>\n",
       "      <td>judywilliams58</td>\n",
       "      <td></td>\n",
       "    </tr>\n",
       "    <tr>\n",
       "      <th>44</th>\n",
       "      <td>gerkius</td>\n",
       "      <td>America</td>\n",
       "    </tr>\n",
       "    <tr>\n",
       "      <th>45</th>\n",
       "      <td>RaymondAMartin2</td>\n",
       "      <td>TX</td>\n",
       "    </tr>\n",
       "    <tr>\n",
       "      <th>46</th>\n",
       "      <td>JakeC80503952</td>\n",
       "      <td></td>\n",
       "    </tr>\n",
       "    <tr>\n",
       "      <th>47</th>\n",
       "      <td>zonecruiser</td>\n",
       "      <td>Raleigh NC</td>\n",
       "    </tr>\n",
       "    <tr>\n",
       "      <th>48</th>\n",
       "      <td>elizabetm1</td>\n",
       "      <td>florida</td>\n",
       "    </tr>\n",
       "    <tr>\n",
       "      <th>49</th>\n",
       "      <td>JohnBap46737841</td>\n",
       "      <td></td>\n",
       "    </tr>\n",
       "  </tbody>\n",
       "</table>\n",
       "</div>"
      ],
      "text/plain": [
       "               user                      location\n",
       "0           SOGLCSW                   Chicago, IL\n",
       "1          LuisD_53                              \n",
       "2    rightwingertoo  Behind the Blue Curtain (CA)\n",
       "3       wisedonkey2                              \n",
       "4    BotForEquality                              \n",
       "5       ItzThe_Tuno                              \n",
       "6       oshunsdawta              Philadelphia, PA\n",
       "7      sargent_kris             Bay of Plenty, NZ\n",
       "8          beand199                              \n",
       "9       nanagrizz22                              \n",
       "10     EllieShortKa                              \n",
       "11       56blackcat      Northern Ireland, UK 🇬🇧 \n",
       "12       RexEHorne1                              \n",
       "13     redwingsgoal              Fort Collins, CO\n",
       "14     richdiet_mel              Land O’ Lunatics\n",
       "15      Dexternosis            Virginia, Northern\n",
       "16        preaction                              \n",
       "17      DujelindaMz                              \n",
       "18        juliefehr                              \n",
       "19       davidetn23        Eastern Tennessee, USA\n",
       "20        mdtoorder                  Arizona, USA\n",
       "21         raeraeh1                   Chicago, IL\n",
       "22    AdrianeAmf502                              \n",
       "23    BillyCorriher    Mebane, NC (Orange County)\n",
       "24    TonyLeventhal                  Brooklyn, NY\n",
       "25        AlexMorse                Louisville, KY\n",
       "26  FoundersFollows                              \n",
       "27         gmpeckg2                   Atlanta, GA\n",
       "28       frankdugan           Southern California\n",
       "29       KempDarold                              \n",
       "30   AaronMartins10                              \n",
       "31     bfassassin30                     Nampa, ID\n",
       "32          Bcgal19                       🇨🇦 & 🇺🇸\n",
       "33    Lane141161007                              \n",
       "34         GalvinIv                              \n",
       "35    BillyCorriher    Mebane, NC (Orange County)\n",
       "36   Bryce_Engstrom             Arroyo Grande, CA\n",
       "37      WolfgangRUL                         Miami\n",
       "38     _alyssasyren                              \n",
       "39    RossMcleanSec                       Toronto\n",
       "40  RAJBALAMSharma2                              \n",
       "41   MadHungryWoman           Southern California\n",
       "42          FartSeb              Seb gorkas brain\n",
       "43   judywilliams58                              \n",
       "44          gerkius                       America\n",
       "45  RaymondAMartin2                            TX\n",
       "46    JakeC80503952                              \n",
       "47      zonecruiser                    Raleigh NC\n",
       "48       elizabetm1                       florida\n",
       "49  JohnBap46737841                              "
      ]
     },
     "execution_count": 21,
     "metadata": {},
     "output_type": "execute_result"
    }
   ],
   "source": [
    "loc_df"
   ]
  },
  {
   "cell_type": "code",
   "execution_count": 22,
   "metadata": {},
   "outputs": [],
   "source": [
    "tweets = tw.Cursor(api.search_tweets,\n",
    "              q=search_words,\n",
    "              lang=\"en\").items(500)"
   ]
  },
  {
   "cell_type": "code",
   "execution_count": 23,
   "metadata": {},
   "outputs": [],
   "source": [
    "all_tweets = [tweet.text for tweet in tweets]"
   ]
  },
  {
   "cell_type": "code",
   "execution_count": 24,
   "metadata": {},
   "outputs": [],
   "source": [
    "# Step 1 remove URLs\n",
    "import re\n",
    "def remove_url(txt):\n",
    "    \"\"\"Replace URLs found in a text string with nothing \n",
    "    (i.e. it will remove the URL from the string).\n",
    "\n",
    "    Parameters\n",
    "    ----------\n",
    "    txt : string\n",
    "        A text string that you want to parse and remove urls.\n",
    "\n",
    "    Returns\n",
    "    -------\n",
    "    The same txt string with url's removed.\n",
    "    \"\"\"\n",
    "\n",
    "    return \" \".join(re.sub(\"([^0-9A-Za-z \\t])|(\\w+:\\/\\/\\S+)\", \"\", txt).split())"
   ]
  },
  {
   "cell_type": "code",
   "execution_count": 25,
   "metadata": {},
   "outputs": [
    {
     "data": {
      "text/plain": [
       "['RT LifeNewsHQ Federal US code 1507 prohibits mob protests with the intent of influencing any judgeViolators face fines andor impr',\n",
       " 'RT TomCottonAR The protestors who are harassing and threatening Supreme Court Justices at their homes are breaking the law Every one',\n",
       " 'RT AmoneyResists Good morning If youre feigning outrage over the impropriety of protesting outside justices houses you should know',\n",
       " 'RT duty2warn In America any rapist can grow up to become president or a Supreme Court justice',\n",
       " 'RT thisisinsider The issue of reproductive freedom is likely to resonate with many Americans at the moment amid the news of a potenti']"
      ]
     },
     "execution_count": 25,
     "metadata": {},
     "output_type": "execute_result"
    }
   ],
   "source": [
    "all_tweets_no_urls = [remove_url(tweet) for tweet in all_tweets]\n",
    "all_tweets_no_urls[:5]"
   ]
  },
  {
   "cell_type": "code",
   "execution_count": 26,
   "metadata": {},
   "outputs": [
    {
     "data": {
      "text/plain": [
       "[['rt',\n",
       "  'lifenewshq',\n",
       "  'federal',\n",
       "  'us',\n",
       "  'code',\n",
       "  '1507',\n",
       "  'prohibits',\n",
       "  'mob',\n",
       "  'protests',\n",
       "  'with',\n",
       "  'the',\n",
       "  'intent',\n",
       "  'of',\n",
       "  'influencing',\n",
       "  'any',\n",
       "  'judgeviolators',\n",
       "  'face',\n",
       "  'fines',\n",
       "  'andor',\n",
       "  'impr'],\n",
       " ['rt',\n",
       "  'tomcottonar',\n",
       "  'the',\n",
       "  'protestors',\n",
       "  'who',\n",
       "  'are',\n",
       "  'harassing',\n",
       "  'and',\n",
       "  'threatening',\n",
       "  'supreme',\n",
       "  'court',\n",
       "  'justices',\n",
       "  'at',\n",
       "  'their',\n",
       "  'homes',\n",
       "  'are',\n",
       "  'breaking',\n",
       "  'the',\n",
       "  'law',\n",
       "  'every',\n",
       "  'one']]"
      ]
     },
     "execution_count": 26,
     "metadata": {},
     "output_type": "execute_result"
    }
   ],
   "source": [
    "# step 2 split tweets into lists of words\n",
    "words_in_tweet = [tweet.lower().split() for tweet in all_tweets_no_urls]\n",
    "words_in_tweet[:2]"
   ]
  },
  {
   "cell_type": "markdown",
   "metadata": {},
   "source": [
    "To get the count of how many times each word appears in the sample, you can use the built-in Python library `collections`, which helps create a special type of a Python dictonary. The `collection.Counter` object has a useful built-in method `most_common` that will return the most commonly used words and the number of times that they are used."
   ]
  },
  {
   "cell_type": "code",
   "execution_count": 27,
   "metadata": {},
   "outputs": [],
   "source": [
    "import collections\n",
    "import itertools"
   ]
  },
  {
   "cell_type": "code",
   "execution_count": 28,
   "metadata": {},
   "outputs": [
    {
     "data": {
      "text/plain": [
       "[('the', 570),\n",
       " ('rt', 453),\n",
       " ('supreme', 348),\n",
       " ('court', 333),\n",
       " ('to', 277),\n",
       " ('a', 250),\n",
       " ('of', 237),\n",
       " ('in', 169),\n",
       " ('and', 132),\n",
       " ('is', 132),\n",
       " ('justices', 124),\n",
       " ('that', 107),\n",
       " ('at', 88),\n",
       " ('for', 87),\n",
       " ('on', 86)]"
      ]
     },
     "execution_count": 28,
     "metadata": {},
     "output_type": "execute_result"
    }
   ],
   "source": [
    "# Step 3: what are the frequently used words?\n",
    "# List of all words across tweets\n",
    "all_words_no_urls = list(itertools.chain(*words_in_tweet))\n",
    "\n",
    "# Create counter\n",
    "counts_no_urls = collections.Counter(all_words_no_urls)\n",
    "\n",
    "counts_no_urls.most_common(15)"
   ]
  },
  {
   "cell_type": "code",
   "execution_count": 29,
   "metadata": {},
   "outputs": [
    {
     "data": {
      "text/html": [
       "<div>\n",
       "<style scoped>\n",
       "    .dataframe tbody tr th:only-of-type {\n",
       "        vertical-align: middle;\n",
       "    }\n",
       "\n",
       "    .dataframe tbody tr th {\n",
       "        vertical-align: top;\n",
       "    }\n",
       "\n",
       "    .dataframe thead th {\n",
       "        text-align: right;\n",
       "    }\n",
       "</style>\n",
       "<table border=\"1\" class=\"dataframe\">\n",
       "  <thead>\n",
       "    <tr style=\"text-align: right;\">\n",
       "      <th></th>\n",
       "      <th>words</th>\n",
       "      <th>count</th>\n",
       "    </tr>\n",
       "  </thead>\n",
       "  <tbody>\n",
       "    <tr>\n",
       "      <th>0</th>\n",
       "      <td>the</td>\n",
       "      <td>570</td>\n",
       "    </tr>\n",
       "    <tr>\n",
       "      <th>1</th>\n",
       "      <td>rt</td>\n",
       "      <td>453</td>\n",
       "    </tr>\n",
       "    <tr>\n",
       "      <th>2</th>\n",
       "      <td>supreme</td>\n",
       "      <td>348</td>\n",
       "    </tr>\n",
       "    <tr>\n",
       "      <th>3</th>\n",
       "      <td>court</td>\n",
       "      <td>333</td>\n",
       "    </tr>\n",
       "    <tr>\n",
       "      <th>4</th>\n",
       "      <td>to</td>\n",
       "      <td>277</td>\n",
       "    </tr>\n",
       "  </tbody>\n",
       "</table>\n",
       "</div>"
      ],
      "text/plain": [
       "     words  count\n",
       "0      the    570\n",
       "1       rt    453\n",
       "2  supreme    348\n",
       "3    court    333\n",
       "4       to    277"
      ]
     },
     "execution_count": 29,
     "metadata": {},
     "output_type": "execute_result"
    }
   ],
   "source": [
    "clean_tweets_no_urls = pd.DataFrame(counts_no_urls.most_common(15),\n",
    "                             columns=['words', 'count'])\n",
    "\n",
    "clean_tweets_no_urls.head()"
   ]
  },
  {
   "cell_type": "code",
   "execution_count": 30,
   "metadata": {},
   "outputs": [
    {
     "data": {
      "image/png": "[encoded data removed]",
      "text/plain": [
       "<Figure size 576x576 with 1 Axes>"
      ]
     },
     "metadata": {
      "needs_background": "light"
     },
     "output_type": "display_data"
    }
   ],
   "source": [
    "fig, ax = plt.subplots(figsize=(8, 8))\n",
    "\n",
    "# Plot horizontal bar graph\n",
    "clean_tweets_no_urls.sort_values(by='count').plot.barh(x='words',\n",
    "                      y='count',\n",
    "                      ax=ax,\n",
    "                      color=\"purple\")\n",
    "\n",
    "ax.set_title(\"Common Words Found in Tweets (Including All Words)\")\n",
    "\n",
    "plt.show()"
   ]
  },
  {
   "cell_type": "code",
   "execution_count": 31,
   "metadata": {},
   "outputs": [],
   "source": [
    "# step 4 get rid of garbage words (stopwords)\n",
    "import nltk\n",
    "from nltk.corpus import stopwords"
   ]
  },
  {
   "cell_type": "code",
   "execution_count": 32,
   "metadata": {},
   "outputs": [
    {
     "name": "stderr",
     "output_type": "stream",
     "text": [
      "[nltk_data] Downloading package stopwords to /Users/wei/nltk_data...\n",
      "[nltk_data]   Package stopwords is already up-to-date!\n"
     ]
    },
    {
     "data": {
      "text/plain": [
       "True"
      ]
     },
     "execution_count": 32,
     "metadata": {},
     "output_type": "execute_result"
    }
   ],
   "source": [
    "nltk.download('stopwords')"
   ]
  },
  {
   "cell_type": "code",
   "execution_count": 33,
   "metadata": {},
   "outputs": [],
   "source": [
    "stop_words = set(stopwords.words('english'))"
   ]
  },
  {
   "cell_type": "code",
   "execution_count": 34,
   "metadata": {},
   "outputs": [
    {
     "data": {
      "text/plain": [
       "[\"you'll\",\n",
       " 'shouldn',\n",
       " 'under',\n",
       " \"you'd\",\n",
       " 'am',\n",
       " 'just',\n",
       " 'above',\n",
       " 'about',\n",
       " 'other',\n",
       " 'and',\n",
       " 'below',\n",
       " 'my',\n",
       " 'had',\n",
       " 'doing',\n",
       " 'during',\n",
       " 'her',\n",
       " 'ain',\n",
       " 'this',\n",
       " 'has',\n",
       " 'were',\n",
       " 'that',\n",
       " 'himself',\n",
       " 'whom',\n",
       " 've',\n",
       " 'hers',\n",
       " 'or',\n",
       " 'all',\n",
       " 'have',\n",
       " 'once',\n",
       " 'for',\n",
       " 'themselves',\n",
       " 'is',\n",
       " 'but',\n",
       " 'weren',\n",
       " 'too',\n",
       " 'his',\n",
       " 'of',\n",
       " 'we',\n",
       " 'why',\n",
       " 'll',\n",
       " \"hadn't\",\n",
       " \"weren't\",\n",
       " \"haven't\",\n",
       " 'me',\n",
       " 'you',\n",
       " 'a',\n",
       " 'only',\n",
       " 'on',\n",
       " \"doesn't\",\n",
       " 'being',\n",
       " \"couldn't\",\n",
       " 't',\n",
       " \"it's\",\n",
       " 'wouldn',\n",
       " \"shouldn't\",\n",
       " 'some',\n",
       " 'don',\n",
       " 'over',\n",
       " 'your',\n",
       " 'the',\n",
       " 'been',\n",
       " 'with',\n",
       " 'how',\n",
       " 'him',\n",
       " 'she',\n",
       " 'any',\n",
       " 'o',\n",
       " 'theirs',\n",
       " 'against',\n",
       " 'at',\n",
       " 'nor',\n",
       " 'didn',\n",
       " 'myself',\n",
       " 'hasn',\n",
       " \"aren't\",\n",
       " 'further',\n",
       " 'our',\n",
       " 'there',\n",
       " 'doesn',\n",
       " \"didn't\",\n",
       " 'from',\n",
       " 'wasn',\n",
       " 'through',\n",
       " 'as',\n",
       " 'here',\n",
       " \"wouldn't\",\n",
       " 'herself',\n",
       " \"hasn't\",\n",
       " 'few',\n",
       " 'mustn',\n",
       " 'aren',\n",
       " 'most',\n",
       " \"wasn't\",\n",
       " 's',\n",
       " 'yourselves',\n",
       " 'such',\n",
       " 'what',\n",
       " 'out',\n",
       " 'these',\n",
       " 'after',\n",
       " 'down',\n",
       " 'couldn',\n",
       " 'd',\n",
       " 'them',\n",
       " \"don't\",\n",
       " \"she's\",\n",
       " 'off',\n",
       " 'yours',\n",
       " \"that'll\",\n",
       " 'into',\n",
       " 'those',\n",
       " 'are',\n",
       " 'to',\n",
       " 'm',\n",
       " 'own',\n",
       " 'if',\n",
       " 'ma',\n",
       " 'having',\n",
       " 'no',\n",
       " 'again',\n",
       " 'won',\n",
       " 'itself',\n",
       " 'an',\n",
       " 'than',\n",
       " 'haven',\n",
       " \"mustn't\",\n",
       " 'y',\n",
       " 'so',\n",
       " \"won't\",\n",
       " 'did',\n",
       " 'ourselves',\n",
       " 'does',\n",
       " 'can',\n",
       " 're',\n",
       " \"isn't\",\n",
       " 'now',\n",
       " 'they',\n",
       " 'be',\n",
       " 'in',\n",
       " \"you've\",\n",
       " 'isn',\n",
       " 'hadn',\n",
       " 'up',\n",
       " 'should',\n",
       " 'mightn',\n",
       " 'between',\n",
       " 'then',\n",
       " 'before',\n",
       " 'both',\n",
       " \"you're\",\n",
       " 'until',\n",
       " 'who',\n",
       " 'very',\n",
       " 'shan',\n",
       " \"needn't\",\n",
       " 'while',\n",
       " 'was',\n",
       " 'same',\n",
       " \"shan't\",\n",
       " 'by',\n",
       " 'when',\n",
       " 'where',\n",
       " 'yourself',\n",
       " 'which',\n",
       " 'will',\n",
       " 'ours',\n",
       " 'i',\n",
       " 'its',\n",
       " 'needn',\n",
       " 'more',\n",
       " \"mightn't\",\n",
       " \"should've\",\n",
       " 'their',\n",
       " 'not',\n",
       " 'do',\n",
       " 'he',\n",
       " 'each',\n",
       " 'because',\n",
       " 'it']"
      ]
     },
     "execution_count": 34,
     "metadata": {},
     "output_type": "execute_result"
    }
   ],
   "source": [
    "list(stop_words)"
   ]
  },
  {
   "cell_type": "code",
   "execution_count": 35,
   "metadata": {},
   "outputs": [
    {
     "data": {
      "text/plain": [
       "['rt',\n",
       " 'lifenewshq',\n",
       " 'federal',\n",
       " 'us',\n",
       " 'code',\n",
       " '1507',\n",
       " 'prohibits',\n",
       " 'mob',\n",
       " 'protests',\n",
       " 'intent',\n",
       " 'influencing',\n",
       " 'judgeviolators',\n",
       " 'face',\n",
       " 'fines',\n",
       " 'andor',\n",
       " 'impr']"
      ]
     },
     "execution_count": 35,
     "metadata": {},
     "output_type": "execute_result"
    }
   ],
   "source": [
    "# Remove stop words from each tweet list of words\n",
    "tweets_nsw = [[word for word in tweet_words if not word in stop_words]\n",
    "              for tweet_words in words_in_tweet]\n",
    "\n",
    "tweets_nsw[0]"
   ]
  },
  {
   "cell_type": "code",
   "execution_count": 36,
   "metadata": {},
   "outputs": [
    {
     "data": {
      "text/plain": [
       "[('rt', 453),\n",
       " ('supreme', 348),\n",
       " ('court', 333),\n",
       " ('justices', 124),\n",
       " ('outside', 56),\n",
       " ('homes', 49),\n",
       " ('protesting', 46),\n",
       " ('time', 41),\n",
       " ('justice', 38),\n",
       " ('breaking', 35),\n",
       " ('abortion', 35),\n",
       " ('us', 30),\n",
       " ('youre', 30),\n",
       " ('law', 29),\n",
       " ('rights', 29),\n",
       " ('call', 28),\n",
       " ('thomas', 28),\n",
       " ('harassing', 27),\n",
       " ('think', 26),\n",
       " ('remember', 26)]"
      ]
     },
     "execution_count": 36,
     "metadata": {},
     "output_type": "execute_result"
    }
   ],
   "source": [
    "all_words_nsw = list(itertools.chain(*tweets_nsw))\n",
    "\n",
    "counts_nsw = collections.Counter(all_words_nsw)\n",
    "\n",
    "counts_nsw.most_common(20)"
   ]
  },
  {
   "cell_type": "code",
   "execution_count": 37,
   "metadata": {},
   "outputs": [],
   "source": [
    "# step 5 remove collections words\n",
    "collection_words = ['supreme', 'court', 'justices','people','trumps','rt']"
   ]
  },
  {
   "cell_type": "code",
   "execution_count": 38,
   "metadata": {},
   "outputs": [],
   "source": [
    "tweets_nsw_nc = [[w for w in word if not w in collection_words]\n",
    "                 for word in tweets_nsw]"
   ]
  },
  {
   "cell_type": "code",
   "execution_count": 39,
   "metadata": {},
   "outputs": [
    {
     "data": {
      "text/plain": [
       "[('outside', 56),\n",
       " ('homes', 49),\n",
       " ('protesting', 46),\n",
       " ('time', 41),\n",
       " ('justice', 38),\n",
       " ('breaking', 35),\n",
       " ('abortion', 35),\n",
       " ('us', 30),\n",
       " ('youre', 30),\n",
       " ('law', 29),\n",
       " ('rights', 29),\n",
       " ('call', 28),\n",
       " ('thomas', 28),\n",
       " ('harassing', 27),\n",
       " ('think', 26)]"
      ]
     },
     "execution_count": 39,
     "metadata": {},
     "output_type": "execute_result"
    }
   ],
   "source": [
    "# Flatten list of words in clean tweets\n",
    "all_words_nsw_nc = list(itertools.chain(*tweets_nsw_nc))\n",
    "\n",
    "# Create counter of words in clean tweets\n",
    "counts_nsw_nc = collections.Counter(all_words_nsw_nc)\n",
    "\n",
    "counts_nsw_nc.most_common(15)"
   ]
  },
  {
   "cell_type": "code",
   "execution_count": 40,
   "metadata": {},
   "outputs": [
    {
     "data": {
      "text/html": [
       "<div>\n",
       "<style scoped>\n",
       "    .dataframe tbody tr th:only-of-type {\n",
       "        vertical-align: middle;\n",
       "    }\n",
       "\n",
       "    .dataframe tbody tr th {\n",
       "        vertical-align: top;\n",
       "    }\n",
       "\n",
       "    .dataframe thead th {\n",
       "        text-align: right;\n",
       "    }\n",
       "</style>\n",
       "<table border=\"1\" class=\"dataframe\">\n",
       "  <thead>\n",
       "    <tr style=\"text-align: right;\">\n",
       "      <th></th>\n",
       "      <th>words</th>\n",
       "      <th>count</th>\n",
       "    </tr>\n",
       "  </thead>\n",
       "  <tbody>\n",
       "    <tr>\n",
       "      <th>0</th>\n",
       "      <td>outside</td>\n",
       "      <td>56</td>\n",
       "    </tr>\n",
       "    <tr>\n",
       "      <th>1</th>\n",
       "      <td>homes</td>\n",
       "      <td>49</td>\n",
       "    </tr>\n",
       "    <tr>\n",
       "      <th>2</th>\n",
       "      <td>protesting</td>\n",
       "      <td>46</td>\n",
       "    </tr>\n",
       "    <tr>\n",
       "      <th>3</th>\n",
       "      <td>time</td>\n",
       "      <td>41</td>\n",
       "    </tr>\n",
       "    <tr>\n",
       "      <th>4</th>\n",
       "      <td>justice</td>\n",
       "      <td>38</td>\n",
       "    </tr>\n",
       "  </tbody>\n",
       "</table>\n",
       "</div>"
      ],
      "text/plain": [
       "        words  count\n",
       "0     outside     56\n",
       "1       homes     49\n",
       "2  protesting     46\n",
       "3        time     41\n",
       "4     justice     38"
      ]
     },
     "execution_count": 40,
     "metadata": {},
     "output_type": "execute_result"
    }
   ],
   "source": [
    "clean_tweets_ncw = pd.DataFrame(counts_nsw_nc.most_common(15),\n",
    "                             columns=['words', 'count'])\n",
    "clean_tweets_ncw.head()"
   ]
  },
  {
   "cell_type": "code",
   "execution_count": 41,
   "metadata": {},
   "outputs": [
    {
     "data": {
      "image/png": "[encoded data removed]",
      "text/plain": [
       "<Figure size 576x576 with 1 Axes>"
      ]
     },
     "metadata": {
      "needs_background": "light"
     },
     "output_type": "display_data"
    }
   ],
   "source": [
    "fig, ax = plt.subplots(figsize=(8, 8))\n",
    "\n",
    "# Plot horizontal bar graph\n",
    "clean_tweets_ncw.sort_values(by='count').plot.barh(x='words',\n",
    "                      y='count',\n",
    "                      ax=ax,\n",
    "                      color=\"purple\")\n",
    "\n",
    "ax.set_title(\"Common Words Found in Tweets (Without Stop or Collection Words)\")\n",
    "\n",
    "plt.show()"
   ]
  },
  {
   "cell_type": "code",
   "execution_count": 42,
   "metadata": {},
   "outputs": [],
   "source": [
    "# bigram analysis\n",
    "import networkx as nx\n",
    "import seaborn as sns"
   ]
  },
  {
   "cell_type": "code",
   "execution_count": 43,
   "metadata": {},
   "outputs": [],
   "source": [
    "from nltk import bigrams"
   ]
  },
  {
   "cell_type": "code",
   "execution_count": 44,
   "metadata": {},
   "outputs": [],
   "source": [
    "import warnings\n",
    "warnings.filterwarnings(\"ignore\")\n",
    "\n",
    "sns.set(font_scale=1.5)\n",
    "sns.set_style(\"whitegrid\")"
   ]
  },
  {
   "cell_type": "code",
   "execution_count": 45,
   "metadata": {},
   "outputs": [
    {
     "data": {
      "text/plain": [
       "[('lifenewshq', 'federal'),\n",
       " ('federal', 'us'),\n",
       " ('us', 'code'),\n",
       " ('code', '1507'),\n",
       " ('1507', 'prohibits'),\n",
       " ('prohibits', 'mob'),\n",
       " ('mob', 'protests'),\n",
       " ('protests', 'intent'),\n",
       " ('intent', 'influencing'),\n",
       " ('influencing', 'judgeviolators'),\n",
       " ('judgeviolators', 'face'),\n",
       " ('face', 'fines'),\n",
       " ('fines', 'andor'),\n",
       " ('andor', 'impr')]"
      ]
     },
     "execution_count": 45,
     "metadata": {},
     "output_type": "execute_result"
    }
   ],
   "source": [
    "# Create list of lists containing bigrams in tweets\n",
    "terms_bigram = [list(bigrams(tweet)) for tweet in tweets_nsw_nc]\n",
    "\n",
    "# View bigrams for the first tweet\n",
    "terms_bigram[0]"
   ]
  },
  {
   "cell_type": "code",
   "execution_count": 46,
   "metadata": {},
   "outputs": [
    {
     "data": {
      "text/plain": [
       "[(('protesting', 'outside'), 44),\n",
       " (('outside', 'homes'), 28),\n",
       " (('thelawboy', 'discussing'), 23),\n",
       " (('discussing', 'propriety'), 23),\n",
       " (('propriety', 'protesting'), 23),\n",
       " (('homes', 'important'), 23),\n",
       " (('important', 'remember'), 23),\n",
       " (('good', 'morning'), 22),\n",
       " (('clarence', 'thomas'), 22),\n",
       " (('call', 'arms'), 20),\n",
       " (('outside', 'houses'), 19),\n",
       " (('roe', 'v'), 19),\n",
       " (('v', 'wade'), 18),\n",
       " (('ewarren', 'well'), 18),\n",
       " (('well', 'time'), 18),\n",
       " (('time', 'justice'), 18),\n",
       " (('justice', 'clarence'), 18),\n",
       " (('thomas', 'look'), 18),\n",
       " (('look', 'mirror'), 18),\n",
       " (('mirror', 'time'), 18)]"
      ]
     },
     "execution_count": 46,
     "metadata": {},
     "output_type": "execute_result"
    }
   ],
   "source": [
    "# Flatten list of bigrams in clean tweets\n",
    "bigrams = list(itertools.chain(*terms_bigram))\n",
    "\n",
    "# Create counter of words in clean bigrams\n",
    "bigram_counts = collections.Counter(bigrams)\n",
    "\n",
    "bigram_counts.most_common(20)"
   ]
  },
  {
   "cell_type": "code",
   "execution_count": 47,
   "metadata": {},
   "outputs": [
    {
     "data": {
      "text/html": [
       "<div>\n",
       "<style scoped>\n",
       "    .dataframe tbody tr th:only-of-type {\n",
       "        vertical-align: middle;\n",
       "    }\n",
       "\n",
       "    .dataframe tbody tr th {\n",
       "        vertical-align: top;\n",
       "    }\n",
       "\n",
       "    .dataframe thead th {\n",
       "        text-align: right;\n",
       "    }\n",
       "</style>\n",
       "<table border=\"1\" class=\"dataframe\">\n",
       "  <thead>\n",
       "    <tr style=\"text-align: right;\">\n",
       "      <th></th>\n",
       "      <th>bigram</th>\n",
       "      <th>count</th>\n",
       "    </tr>\n",
       "  </thead>\n",
       "  <tbody>\n",
       "    <tr>\n",
       "      <th>0</th>\n",
       "      <td>(protesting, outside)</td>\n",
       "      <td>44</td>\n",
       "    </tr>\n",
       "    <tr>\n",
       "      <th>1</th>\n",
       "      <td>(outside, homes)</td>\n",
       "      <td>28</td>\n",
       "    </tr>\n",
       "    <tr>\n",
       "      <th>2</th>\n",
       "      <td>(thelawboy, discussing)</td>\n",
       "      <td>23</td>\n",
       "    </tr>\n",
       "    <tr>\n",
       "      <th>3</th>\n",
       "      <td>(discussing, propriety)</td>\n",
       "      <td>23</td>\n",
       "    </tr>\n",
       "    <tr>\n",
       "      <th>4</th>\n",
       "      <td>(propriety, protesting)</td>\n",
       "      <td>23</td>\n",
       "    </tr>\n",
       "    <tr>\n",
       "      <th>5</th>\n",
       "      <td>(homes, important)</td>\n",
       "      <td>23</td>\n",
       "    </tr>\n",
       "    <tr>\n",
       "      <th>6</th>\n",
       "      <td>(important, remember)</td>\n",
       "      <td>23</td>\n",
       "    </tr>\n",
       "    <tr>\n",
       "      <th>7</th>\n",
       "      <td>(good, morning)</td>\n",
       "      <td>22</td>\n",
       "    </tr>\n",
       "    <tr>\n",
       "      <th>8</th>\n",
       "      <td>(clarence, thomas)</td>\n",
       "      <td>22</td>\n",
       "    </tr>\n",
       "    <tr>\n",
       "      <th>9</th>\n",
       "      <td>(call, arms)</td>\n",
       "      <td>20</td>\n",
       "    </tr>\n",
       "    <tr>\n",
       "      <th>10</th>\n",
       "      <td>(outside, houses)</td>\n",
       "      <td>19</td>\n",
       "    </tr>\n",
       "    <tr>\n",
       "      <th>11</th>\n",
       "      <td>(roe, v)</td>\n",
       "      <td>19</td>\n",
       "    </tr>\n",
       "    <tr>\n",
       "      <th>12</th>\n",
       "      <td>(v, wade)</td>\n",
       "      <td>18</td>\n",
       "    </tr>\n",
       "    <tr>\n",
       "      <th>13</th>\n",
       "      <td>(ewarren, well)</td>\n",
       "      <td>18</td>\n",
       "    </tr>\n",
       "    <tr>\n",
       "      <th>14</th>\n",
       "      <td>(well, time)</td>\n",
       "      <td>18</td>\n",
       "    </tr>\n",
       "    <tr>\n",
       "      <th>15</th>\n",
       "      <td>(time, justice)</td>\n",
       "      <td>18</td>\n",
       "    </tr>\n",
       "    <tr>\n",
       "      <th>16</th>\n",
       "      <td>(justice, clarence)</td>\n",
       "      <td>18</td>\n",
       "    </tr>\n",
       "    <tr>\n",
       "      <th>17</th>\n",
       "      <td>(thomas, look)</td>\n",
       "      <td>18</td>\n",
       "    </tr>\n",
       "    <tr>\n",
       "      <th>18</th>\n",
       "      <td>(look, mirror)</td>\n",
       "      <td>18</td>\n",
       "    </tr>\n",
       "    <tr>\n",
       "      <th>19</th>\n",
       "      <td>(mirror, time)</td>\n",
       "      <td>18</td>\n",
       "    </tr>\n",
       "  </tbody>\n",
       "</table>\n",
       "</div>"
      ],
      "text/plain": [
       "                     bigram  count\n",
       "0     (protesting, outside)     44\n",
       "1          (outside, homes)     28\n",
       "2   (thelawboy, discussing)     23\n",
       "3   (discussing, propriety)     23\n",
       "4   (propriety, protesting)     23\n",
       "5        (homes, important)     23\n",
       "6     (important, remember)     23\n",
       "7           (good, morning)     22\n",
       "8        (clarence, thomas)     22\n",
       "9              (call, arms)     20\n",
       "10        (outside, houses)     19\n",
       "11                 (roe, v)     19\n",
       "12                (v, wade)     18\n",
       "13          (ewarren, well)     18\n",
       "14             (well, time)     18\n",
       "15          (time, justice)     18\n",
       "16      (justice, clarence)     18\n",
       "17           (thomas, look)     18\n",
       "18           (look, mirror)     18\n",
       "19           (mirror, time)     18"
      ]
     },
     "execution_count": 47,
     "metadata": {},
     "output_type": "execute_result"
    }
   ],
   "source": [
    "bigram_df = pd.DataFrame(bigram_counts.most_common(20),\n",
    "                             columns=['bigram', 'count'])\n",
    "\n",
    "bigram_df"
   ]
  },
  {
   "cell_type": "code",
   "execution_count": 48,
   "metadata": {},
   "outputs": [],
   "source": [
    "# Create dictionary of bigrams and their counts\n",
    "d = bigram_df.set_index('bigram').T.to_dict('records')"
   ]
  },
  {
   "cell_type": "code",
   "execution_count": 49,
   "metadata": {},
   "outputs": [
    {
     "data": {
      "text/plain": [
       "[{('protesting', 'outside'): 44,\n",
       "  ('outside', 'homes'): 28,\n",
       "  ('thelawboy', 'discussing'): 23,\n",
       "  ('discussing', 'propriety'): 23,\n",
       "  ('propriety', 'protesting'): 23,\n",
       "  ('homes', 'important'): 23,\n",
       "  ('important', 'remember'): 23,\n",
       "  ('good', 'morning'): 22,\n",
       "  ('clarence', 'thomas'): 22,\n",
       "  ('call', 'arms'): 20,\n",
       "  ('outside', 'houses'): 19,\n",
       "  ('roe', 'v'): 19,\n",
       "  ('v', 'wade'): 18,\n",
       "  ('ewarren', 'well'): 18,\n",
       "  ('well', 'time'): 18,\n",
       "  ('time', 'justice'): 18,\n",
       "  ('justice', 'clarence'): 18,\n",
       "  ('thomas', 'look'): 18,\n",
       "  ('look', 'mirror'): 18,\n",
       "  ('mirror', 'time'): 18}]"
      ]
     },
     "execution_count": 49,
     "metadata": {},
     "output_type": "execute_result"
    }
   ],
   "source": [
    "d"
   ]
  },
  {
   "cell_type": "code",
   "execution_count": null,
   "metadata": {},
   "outputs": [],
   "source": [
    "# Last step: do sentiment analysis\n",
    "pip install -U textblob"
   ]
  },
  {
   "cell_type": "code",
   "execution_count": 50,
   "metadata": {},
   "outputs": [],
   "source": [
    "from textblob import TextBlob"
   ]
  },
  {
   "cell_type": "code",
   "execution_count": 51,
   "metadata": {},
   "outputs": [
    {
     "data": {
      "text/plain": [
       "(0.0,\n",
       " TextBlob(\"RT LifeNewsHQ Federal US code 1507 prohibits mob protests with the intent of influencing any judgeViolators face fines andor impr\"))"
      ]
     },
     "execution_count": 51,
     "metadata": {},
     "output_type": "execute_result"
    }
   ],
   "source": [
    "# Create textblob objects of the tweets\n",
    "sentiment_objects = [TextBlob(tweet) for tweet in all_tweets_no_urls]\n",
    "\n",
    "sentiment_objects[0].polarity, sentiment_objects[0]"
   ]
  },
  {
   "cell_type": "code",
   "execution_count": 52,
   "metadata": {},
   "outputs": [
    {
     "data": {
      "text/plain": [
       "(0.0,\n",
       " TextBlob(\"RT TomCottonAR The protestors who are harassing and threatening Supreme Court Justices at their homes are breaking the law Every one\"))"
      ]
     },
     "execution_count": 52,
     "metadata": {},
     "output_type": "execute_result"
    }
   ],
   "source": [
    "sentiment_objects[0].polarity, sentiment_objects[1]"
   ]
  },
  {
   "cell_type": "code",
   "execution_count": 53,
   "metadata": {},
   "outputs": [
    {
     "data": {
      "text/plain": [
       "(0.0,\n",
       " TextBlob(\"RT AmoneyResists Good morning If youre feigning outrage over the impropriety of protesting outside justices houses you should know\"))"
      ]
     },
     "execution_count": 53,
     "metadata": {},
     "output_type": "execute_result"
    }
   ],
   "source": [
    "sentiment_objects[0].polarity, sentiment_objects[2]"
   ]
  },
  {
   "cell_type": "code",
   "execution_count": 54,
   "metadata": {},
   "outputs": [
    {
     "data": {
      "text/plain": [
       "(0.0,\n",
       " TextBlob(\"RT risingserpent Forget trying to find who leaked the Supreme Court documents Joe Biden cant be bothered to even condemn it but dont\"))"
      ]
     },
     "execution_count": 54,
     "metadata": {},
     "output_type": "execute_result"
    }
   ],
   "source": [
    "sentiment_objects[0].polarity, sentiment_objects[10]"
   ]
  },
  {
   "cell_type": "code",
   "execution_count": 56,
   "metadata": {},
   "outputs": [
    {
     "data": {
      "text/plain": [
       "[0.0,\n",
       " 'RT LifeNewsHQ Federal US code 1507 prohibits mob protests with the intent of influencing any judgeViolators face fines andor impr']"
      ]
     },
     "execution_count": 56,
     "metadata": {},
     "output_type": "execute_result"
    }
   ],
   "source": [
    "# Create list of polarity valuesx and tweet text\n",
    "sentiment_values = [[tweet.sentiment.polarity, str(tweet)] for tweet in sentiment_objects]\n",
    "\n",
    "sentiment_values[0]"
   ]
  },
  {
   "cell_type": "code",
   "execution_count": 57,
   "metadata": {},
   "outputs": [
    {
     "data": {
      "text/html": [
       "<div>\n",
       "<style scoped>\n",
       "    .dataframe tbody tr th:only-of-type {\n",
       "        vertical-align: middle;\n",
       "    }\n",
       "\n",
       "    .dataframe tbody tr th {\n",
       "        vertical-align: top;\n",
       "    }\n",
       "\n",
       "    .dataframe thead th {\n",
       "        text-align: right;\n",
       "    }\n",
       "</style>\n",
       "<table border=\"1\" class=\"dataframe\">\n",
       "  <thead>\n",
       "    <tr style=\"text-align: right;\">\n",
       "      <th></th>\n",
       "      <th>polarity</th>\n",
       "      <th>tweet</th>\n",
       "    </tr>\n",
       "  </thead>\n",
       "  <tbody>\n",
       "    <tr>\n",
       "      <th>0</th>\n",
       "      <td>0.00</td>\n",
       "      <td>RT LifeNewsHQ Federal US code 1507 prohibits m...</td>\n",
       "    </tr>\n",
       "    <tr>\n",
       "      <th>1</th>\n",
       "      <td>0.00</td>\n",
       "      <td>RT TomCottonAR The protestors who are harassin...</td>\n",
       "    </tr>\n",
       "    <tr>\n",
       "      <th>2</th>\n",
       "      <td>0.35</td>\n",
       "      <td>RT AmoneyResists Good morning If youre feignin...</td>\n",
       "    </tr>\n",
       "    <tr>\n",
       "      <th>3</th>\n",
       "      <td>0.00</td>\n",
       "      <td>RT duty2warn In America any rapist can grow up...</td>\n",
       "    </tr>\n",
       "    <tr>\n",
       "      <th>4</th>\n",
       "      <td>0.25</td>\n",
       "      <td>RT thisisinsider The issue of reproductive fre...</td>\n",
       "    </tr>\n",
       "  </tbody>\n",
       "</table>\n",
       "</div>"
      ],
      "text/plain": [
       "   polarity                                              tweet\n",
       "0      0.00  RT LifeNewsHQ Federal US code 1507 prohibits m...\n",
       "1      0.00  RT TomCottonAR The protestors who are harassin...\n",
       "2      0.35  RT AmoneyResists Good morning If youre feignin...\n",
       "3      0.00  RT duty2warn In America any rapist can grow up...\n",
       "4      0.25  RT thisisinsider The issue of reproductive fre..."
      ]
     },
     "execution_count": 57,
     "metadata": {},
     "output_type": "execute_result"
    }
   ],
   "source": [
    "sentiment_df = pd.DataFrame(sentiment_values, columns=[\"polarity\", \"tweet\"])\n",
    "\n",
    "sentiment_df.head()"
   ]
  },
  {
   "cell_type": "code",
   "execution_count": 58,
   "metadata": {},
   "outputs": [
    {
     "data": {
      "image/png": "[encoded data removed]",
      "text/plain": [
       "<Figure size 576x432 with 1 Axes>"
      ]
     },
     "metadata": {},
     "output_type": "display_data"
    }
   ],
   "source": [
    "fig, ax = plt.subplots(figsize=(8, 6))\n",
    "\n",
    "# Plot histogram of the polarity values\n",
    "sentiment_df.hist(bins=[-1, -0.75, -0.5, -0.25, 0.25, 0.5, 0.75, 1],\n",
    "             ax=ax,\n",
    "             color=\"purple\")\n",
    "\n",
    "plt.title(\"Sentiments from Tweets on Supreme Court\")\n",
    "plt.show()"
   ]
  },
  {
   "cell_type": "code",
   "execution_count": 59,
   "metadata": {},
   "outputs": [],
   "source": [
    "# Remove polarity values equal to zero\n",
    "sentiment_df = sentiment_df[sentiment_df.polarity != 0]"
   ]
  },
  {
   "cell_type": "code",
   "execution_count": 61,
   "metadata": {},
   "outputs": [
    {
     "data": {
      "image/png": "[encoded data removed]",
      "text/plain": [
       "<Figure size 576x432 with 1 Axes>"
      ]
     },
     "metadata": {},
     "output_type": "display_data"
    }
   ],
   "source": [
    "fig, ax = plt.subplots(figsize=(8, 6))\n",
    "\n",
    "# Plot histogram with break at zero\n",
    "sentiment_df.hist(bins=[-1, -0.75, -0.5, -0.25, 0.0, 0.25, 0.5, 0.75, 1],\n",
    "             ax=ax,\n",
    "             color=\"purple\")\n",
    "\n",
    "plt.title(\"Sentiments from Tweets on Supreme Court\")\n",
    "plt.show()"
   ]
  }
 ],
 "metadata": {
  "kernelspec": {
   "display_name": "Python 3",
   "language": "python",
   "name": "python3"
  },
  "language_info": {
   "codemirror_mode": {
    "name": "ipython",
    "version": 3
   },
   "file_extension": ".py",
   "mimetype": "text/x-python",
   "name": "python",
   "nbconvert_exporter": "python",
   "pygments_lexer": "ipython3",
   "version": "3.8.5"
  }
 },
 "nbformat": 4,
 "nbformat_minor": 5
}
