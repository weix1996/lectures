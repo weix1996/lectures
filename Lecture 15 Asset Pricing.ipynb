{
 "cells": [
  {
   "cell_type": "markdown",
   "id": "c6e4e8d5",
   "metadata": {},
   "source": [
    "# Asset Pricing"
   ]
  },
  {
   "cell_type": "code",
   "execution_count": 1,
   "id": "37236ce3",
   "metadata": {},
   "outputs": [],
   "source": [
    "import numpy as np\n",
    "import matplotlib.pyplot as plt"
   ]
  },
  {
   "cell_type": "code",
   "execution_count": 2,
   "id": "b98cd775",
   "metadata": {},
   "outputs": [],
   "source": [
    "import quantecon as qe"
   ]
  },
  {
   "cell_type": "markdown",
   "id": "fee0dbe1",
   "metadata": {},
   "source": [
    "## Generate a Markov process with raw code"
   ]
  },
  {
   "cell_type": "code",
   "execution_count": 3,
   "id": "0c46a212",
   "metadata": {},
   "outputs": [],
   "source": [
    "from scipy.stats import binom"
   ]
  },
  {
   "cell_type": "code",
   "execution_count": 4,
   "id": "9c852ec9",
   "metadata": {},
   "outputs": [],
   "source": [
    "P = np.array([[0.85, 0.15],[0.65, 0.35]])"
   ]
  },
  {
   "cell_type": "code",
   "execution_count": 5,
   "id": "e09d40a0",
   "metadata": {},
   "outputs": [
    {
     "data": {
      "text/plain": [
       "array([[0.85, 0.15],\n",
       "       [0.65, 0.35]])"
      ]
     },
     "execution_count": 5,
     "metadata": {},
     "output_type": "execute_result"
    }
   ],
   "source": [
    "P"
   ]
  },
  {
   "cell_type": "code",
   "execution_count": 8,
   "id": "1be175b6",
   "metadata": {},
   "outputs": [],
   "source": [
    "def mc_sample(P,size=1000):\n",
    "    X = np.empty(size,dtype=int)\n",
    "    X[0] = 0\n",
    "    for t in range(size-1):\n",
    "        if X[t] == 1:\n",
    "            X[t+1] = binom.rvs(1,P[0,0])\n",
    "        else:\n",
    "            X[t+1] = binom.rvs(1,P[1,0])\n",
    "    return X"
   ]
  },
  {
   "cell_type": "code",
   "execution_count": 9,
   "id": "d835950d",
   "metadata": {},
   "outputs": [],
   "source": [
    "X = mc_sample(P,size=1000_000)"
   ]
  },
  {
   "cell_type": "code",
   "execution_count": 10,
   "id": "1e788503",
   "metadata": {},
   "outputs": [
    {
     "data": {
      "text/plain": [
       "array([0, 0, 1, ..., 1, 1, 1])"
      ]
     },
     "execution_count": 10,
     "metadata": {},
     "output_type": "execute_result"
    }
   ],
   "source": [
    "X"
   ]
  },
  {
   "cell_type": "code",
   "execution_count": 11,
   "id": "8bdcd396",
   "metadata": {},
   "outputs": [
    {
     "data": {
      "text/plain": [
       "0.813159"
      ]
     },
     "execution_count": 11,
     "metadata": {},
     "output_type": "execute_result"
    }
   ],
   "source": [
    "np.mean(X==1)"
   ]
  },
  {
   "cell_type": "markdown",
   "id": "1b5c5975",
   "metadata": {},
   "source": [
    "## Using `quantecon`"
   ]
  },
  {
   "cell_type": "code",
   "execution_count": 12,
   "id": "26c64c17",
   "metadata": {},
   "outputs": [],
   "source": [
    "mc = qe.MarkovChain(P)"
   ]
  },
  {
   "cell_type": "code",
   "execution_count": 13,
   "id": "7ff6aaad",
   "metadata": {},
   "outputs": [],
   "source": [
    "X = mc.simulate(ts_length=1000_000)"
   ]
  },
  {
   "cell_type": "code",
   "execution_count": 14,
   "id": "002bc32b",
   "metadata": {},
   "outputs": [
    {
     "data": {
      "text/plain": [
       "0.18693"
      ]
     },
     "execution_count": 14,
     "metadata": {},
     "output_type": "execute_result"
    }
   ],
   "source": [
    "np.mean(X==1)"
   ]
  },
  {
   "cell_type": "code",
   "execution_count": 15,
   "id": "8d61d7e1",
   "metadata": {},
   "outputs": [
    {
     "data": {
      "text/plain": [
       "array([[0.8125, 0.1875]])"
      ]
     },
     "execution_count": 15,
     "metadata": {},
     "output_type": "execute_result"
    }
   ],
   "source": [
    "mc.stationary_distributions"
   ]
  },
  {
   "cell_type": "markdown",
   "id": "c4b7edb5",
   "metadata": {},
   "source": [
    "## Simulate dividend growth"
   ]
  },
  {
   "cell_type": "code",
   "execution_count": 16,
   "id": "73b70737",
   "metadata": {},
   "outputs": [],
   "source": [
    "mc = qe.MarkovChain(P, state_values=(1.03,0.94))"
   ]
  },
  {
   "cell_type": "code",
   "execution_count": 17,
   "id": "a1beec8a",
   "metadata": {},
   "outputs": [],
   "source": [
    "sim_length = 80\n",
    "g_series = mc.simulate(ts_length=sim_length)\n",
    "d_series = np.cumprod(g_series) # Assumes d_0 = 1"
   ]
  },
  {
   "cell_type": "code",
   "execution_count": 18,
   "id": "e0766c93",
   "metadata": {},
   "outputs": [
    {
     "data": {
      "image/png": "[encoded data removed]",
      "text/plain": [
       "<Figure size 864x288 with 3 Axes>"
      ]
     },
     "metadata": {
      "needs_background": "light"
     },
     "output_type": "display_data"
    }
   ],
   "source": [
    "series = [ g_series, d_series, np.log(d_series)]\n",
    "labels = ['$g_t$', '$d_t$', r'$\\log \\, d_t$']\n",
    "\n",
    "fig, axes = plt.subplots(1, 3, figsize=(12,4))\n",
    "for ax, s, label in zip(axes.flatten(), series, labels):\n",
    "    ax.plot(s, 'b-', lw=2, label=label)\n",
    "    ax.legend(loc='upper left', frameon=False)\n",
    "plt.tight_layout()\n",
    "plt.show()"
   ]
  },
  {
   "cell_type": "markdown",
   "id": "1f8990d8",
   "metadata": {},
   "source": [
    "## Modelling Asset Pricing"
   ]
  },
  {
   "cell_type": "code",
   "execution_count": 19,
   "id": "384efd43",
   "metadata": {},
   "outputs": [],
   "source": [
    "from numpy.linalg import eigvals, solve"
   ]
  },
  {
   "cell_type": "code",
   "execution_count": 20,
   "id": "78640118",
   "metadata": {},
   "outputs": [],
   "source": [
    "class AssetPriceModel:\n",
    "    \"\"\"\n",
    "    A class that stores the primitives of the asset pricing model.\n",
    "\n",
    "    Parameters\n",
    "    ----------\n",
    "    β : scalar, float\n",
    "        Discount factor\n",
    "    mc : MarkovChain\n",
    "        Contains the transition matrix and set of state values for the state\n",
    "        process\n",
    "    γ : scalar(float)\n",
    "        Coefficient of risk aversion\n",
    "    g : callable\n",
    "        The function mapping states to growth rates\n",
    "\n",
    "    \"\"\"\n",
    "    def __init__(self, β=0.96, mc=None, γ=1.5, g=lambda x: x):\n",
    "        self.β, self.γ = β, γ\n",
    "        self.g = g\n",
    "        self.mc = mc\n",
    "        self.n = self.mc.P.shape[0]\n",
    "\n",
    "    def test_stability(self, Q):\n",
    "        \"\"\"\n",
    "        Stability test for a given matrix Q.\n",
    "        \"\"\"\n",
    "        sr = np.max(np.abs(eigvals(Q)))\n",
    "        if not sr < 1 / self.β:\n",
    "            msg = f\"Spectral radius condition failed with radius = {sr}\"\n",
    "            raise ValueError(msg)"
   ]
  },
  {
   "cell_type": "code",
   "execution_count": 21,
   "id": "9299be7c",
   "metadata": {},
   "outputs": [],
   "source": [
    "def tree_price(ap):\n",
    "    \"\"\"\n",
    "    Computes the price-dividend ratio of the Lucas tree.\n",
    "\n",
    "    Parameters\n",
    "    ----------\n",
    "    ap: AssetPriceModel\n",
    "        An instance of AssetPriceModel containing primitives\n",
    "\n",
    "    Returns\n",
    "    -------\n",
    "    v : array_like(float)\n",
    "        Lucas tree price-dividend ratio\n",
    "\n",
    "    \"\"\"\n",
    "    # Simplify names, set up matrices\n",
    "    β, γ, P, y = ap.β, ap.γ, ap.mc.P, ap.mc.state_values\n",
    "    J = P * ap.g(y)**(1 - γ)\n",
    "\n",
    "    # Make sure that a unique solution exists\n",
    "    ap.test_stability(J)\n",
    "\n",
    "    # Compute v\n",
    "    I = np.identity(ap.n)\n",
    "    Ones = np.ones(ap.n)\n",
    "    v = solve(I - β * J, β * J @ Ones)\n",
    "\n",
    "    return v"
   ]
  },
  {
   "cell_type": "code",
   "execution_count": 22,
   "id": "f369b550",
   "metadata": {},
   "outputs": [],
   "source": [
    "ap = AssetPriceModel(mc=mc, γ=0)\n",
    "v = tree_price(ap)"
   ]
  },
  {
   "cell_type": "code",
   "execution_count": 23,
   "id": "2108a6bb",
   "metadata": {},
   "outputs": [
    {
     "data": {
      "text/plain": [
       "array([36.01765747, 35.23712115])"
      ]
     },
     "execution_count": 23,
     "metadata": {},
     "output_type": "execute_result"
    }
   ],
   "source": [
    "v"
   ]
  },
  {
   "cell_type": "code",
   "execution_count": 24,
   "id": "3e6a66f9",
   "metadata": {},
   "outputs": [],
   "source": [
    "state_ids = np.where(g_series>1,1,0) # 0: negative dividend pgrowth, 1: positive growth"
   ]
  },
  {
   "cell_type": "code",
   "execution_count": 25,
   "id": "f8271380",
   "metadata": {},
   "outputs": [],
   "source": [
    "v_series = np.where(state_ids, v[0], v[1])"
   ]
  },
  {
   "cell_type": "code",
   "execution_count": 26,
   "id": "0e3e9dbd",
   "metadata": {},
   "outputs": [],
   "source": [
    "p_series = v_series * d_series"
   ]
  },
  {
   "cell_type": "code",
   "execution_count": 27,
   "id": "4e968e4f",
   "metadata": {},
   "outputs": [
    {
     "data": {
      "text/plain": [
       "[<matplotlib.lines.Line2D at 0x7f8059abe8e0>]"
      ]
     },
     "execution_count": 27,
     "metadata": {},
     "output_type": "execute_result"
    },
    {
     "data": {
      "image/png": "[encoded data removed]",
      "text/plain": [
       "<Figure size 432x288 with 1 Axes>"
      ]
     },
     "metadata": {
      "needs_background": "light"
     },
     "output_type": "display_data"
    }
   ],
   "source": [
    "plt.plot(p_series)"
   ]
  },
  {
   "cell_type": "code",
   "execution_count": null,
   "id": "cdef9b69",
   "metadata": {},
   "outputs": [],
   "source": []
  }
 ],
 "metadata": {
  "kernelspec": {
   "display_name": "Python 3 (ipykernel)",
   "language": "python",
   "name": "python3"
  },
  "language_info": {
   "codemirror_mode": {
    "name": "ipython",
    "version": 3
   },
   "file_extension": ".py",
   "mimetype": "text/x-python",
   "name": "python",
   "nbconvert_exporter": "python",
   "pygments_lexer": "ipython3",
   "version": "3.8.13"
  }
 },
 "nbformat": 4,
 "nbformat_minor": 5
}
