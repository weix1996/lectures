{
 "cells": [
  {
   "cell_type": "markdown",
   "metadata": {},
   "source": [
    "# Accessing Twitter"
   ]
  },
  {
   "cell_type": "code",
   "execution_count": 79,
   "metadata": {},
   "outputs": [],
   "source": [
    "import pandas as pd\n",
    "import matplotlib.pyplot as plt\n",
    "import numpy as np"
   ]
  },
  {
   "cell_type": "markdown",
   "metadata": {},
   "source": [
    "**The Structure of a Tweet**\n",
    "\n",
    "There are various components of a tweet that you can use to extract information:\n",
    "\n",
    "* User Name: This is how each unique user is identified.\n",
    "* Time Stamp: When the tweet was sent.\n",
    "* Tweet Text: The body of the tweet - needs to be 140 characters of less!\n",
    "* Hashtags: Always proceeded by a # symbol. A hashtag is often describes a particular event or can be related to a particular topic. It is a way for users to communicate with a particular group of people on twitter - for instance those attending a conference #agu2016 or those using r #rstats.\n",
    "* Links: Links can be embedded within a tweet. Links are a way that users share information.\n",
    "* Embedded Media: tweets can contain pictures and videos. The most popular tweets often contain pictures.\n",
    "* Replies: When someone posts a tweet, another user can reply directly to that user - similar to a text message except the message is visible to the public.\n",
    "* Retweets: a retweet is when someone shares a tweet with their followers.\n",
    "* Favorites: You can “like” a tweet to keep a history of content that you like in your account.\n",
    "* Latitude/Longitude: about 1% of all tweets contains coordinate information."
   ]
  },
  {
   "cell_type": "markdown",
   "metadata": {},
   "source": [
    "## Tweepy"
   ]
  },
  {
   "cell_type": "code",
   "execution_count": 1,
   "metadata": {},
   "outputs": [
    {
     "name": "stdout",
     "output_type": "stream",
     "text": [
      "Collecting tweepy\n",
      "  Downloading tweepy-4.9.0-py3-none-any.whl (77 kB)\n",
      "\u001b[K     |████████████████████████████████| 77 kB 1.9 MB/s eta 0:00:01\n",
      "\u001b[?25hCollecting requests-oauthlib<2,>=1.2.0\n",
      "  Downloading requests_oauthlib-1.3.1-py2.py3-none-any.whl (23 kB)\n",
      "Collecting oauthlib<4,>=3.2.0\n",
      "  Downloading oauthlib-3.2.0-py3-none-any.whl (151 kB)\n",
      "\u001b[K     |████████████████████████████████| 151 kB 3.4 MB/s eta 0:00:01\n",
      "\u001b[?25hRequirement already satisfied: requests<3,>=2.27.0 in /Users/wei/opt/anaconda3/lib/python3.8/site-packages (from tweepy) (2.27.1)\n",
      "Requirement already satisfied: charset-normalizer~=2.0.0 in /Users/wei/opt/anaconda3/lib/python3.8/site-packages (from requests<3,>=2.27.0->tweepy) (2.0.4)\n",
      "Requirement already satisfied: urllib3<1.27,>=1.21.1 in /Users/wei/opt/anaconda3/lib/python3.8/site-packages (from requests<3,>=2.27.0->tweepy) (1.26.9)\n",
      "Requirement already satisfied: idna<4,>=2.5 in /Users/wei/opt/anaconda3/lib/python3.8/site-packages (from requests<3,>=2.27.0->tweepy) (3.3)\n",
      "Requirement already satisfied: certifi>=2017.4.17 in /Users/wei/opt/anaconda3/lib/python3.8/site-packages (from requests<3,>=2.27.0->tweepy) (2021.10.8)\n",
      "Installing collected packages: oauthlib, requests-oauthlib, tweepy\n",
      "Successfully installed oauthlib-3.2.0 requests-oauthlib-1.3.1 tweepy-4.9.0\n",
      "Note: you may need to restart the kernel to use updated packages.\n"
     ]
    }
   ],
   "source": [
    "pip install tweepy"
   ]
  },
  {
   "cell_type": "code",
   "execution_count": 3,
   "metadata": {},
   "outputs": [],
   "source": [
    "# Load credentials from json file\n",
    "import json\n",
    "with open(\"twitter_credentials.json\", \"r\") as file:\n",
    "    creds = json.load(file)"
   ]
  },
  {
   "cell_type": "code",
   "execution_count": 4,
   "metadata": {},
   "outputs": [],
   "source": [
    "import os\n",
    "import tweepy as tw"
   ]
  },
  {
   "cell_type": "markdown",
   "metadata": {},
   "source": [
    "### Version 1.1"
   ]
  },
  {
   "cell_type": "code",
   "execution_count": 73,
   "metadata": {},
   "outputs": [],
   "source": [
    "auth = tw.OAuthHandler(creds['CONSUMER_KEY'], creds['CONSUMER_SECRET'],creds['ACCESS_TOKEN'], creds['ACCESS_SECRET'])\n",
    "#api = tw.API(auth, wait_on_rate_limit=True)\n",
    "# api is for v1.1\n",
    "api = tw.API(auth)"
   ]
  },
  {
   "cell_type": "code",
   "execution_count": 56,
   "metadata": {},
   "outputs": [
    {
     "name": "stdout",
     "output_type": "stream",
     "text": [
      "RT @wonderofscience: The Sun unleashing a spectacular solar flare and coronal mass ejection, captured by the Solar Dynamics Observatory spa…\n",
      "RT @SethCotlar: It's easy to forget that these White Citizens Councils (tho they eventually dropped the \"White\" part) existed in many local…\n",
      "RT @SethCotlar: Shannon was a very early advocate of the idea that the GOP should strive to win white Southern voters from the Democrats by…\n",
      "The EU can't quite get it together on a Russian oil embargo via @voxdotcom https://t.co/sSTkzMmOfc\n",
      "RT @SethCotlar: Shreveport Journal, 17 November 1970. Not hard to understand why George Wallace gave a speech at Shannon's retirement party…\n",
      "RT @SethCotlar: Needless to say, that honky, Shannon, did not refrain from just spelling the n-word out, multiple times.\n",
      "RT @SethCotlar: The article was a riposte to “Julian Bond, black male” who filed suit in response to the FCC’s decision NOT to ban the use…\n",
      "RT @SethCotlar: It appeared in this publication, the managing editor of which was Yale PHD, Medford Evans. https://t.co/cgkgtjQip5\n",
      "RT @RottenInDenmark: Remember: Democrats are dangerous radicals because of what some random Oberlin sophomore yelled at a rally. \n",
      "Republica…\n",
      "Alan.. St Patrick's day special. https://t.co/eO2wcIbIFw  #StPatricksWeekend #StPatricksDay #StPatricksDayParade… https://t.co/giq9b0BjDh\n",
      "RT @kjhealy: Just impossible not to imagine him saying this with a smirk on his face. https://t.co/t8LBhqJhJ1\n",
      "Critical Race Theory (CRT) isn't even taught in public schools. It's a graduate-level course offered in some law sc… https://t.co/RG1Rwwm2Z9\n",
      "RT @JuddLegum: 11. Something else of note. Several of the people reviewing these Florida math textbooks have no expertise in math. \n",
      "\n",
      "At lea…\n",
      "RT @JuddLegum: 10. Reviewers evaluated each criteria on a scale of 1-5. Florida concluded that anything less than a 5 on the \"CRT\" category…\n",
      "RT @JuddLegum: 9. Let's dive in a little deeper. How did DeSantis and Florida claim there were dozens of textbooks seeking to indoctrinate…\n",
      "US Capitol rioter Guy Reffitt 'sought to physically remove' Pelosi and McConnell, prosecutors say - CNNPolitics https://t.co/bn6JV4MWtZ\n",
      "RT @JuddLegum: 7. But even if you accept that Allen's analysis is correct (it's not) it still doesn't back up DeSantis' claim that these ma…\n",
      "RT @JuddLegum: @Moms4Liberty 6. Chris Allen, the @Moms4Liberty member, complained of CRT  in two high school math textbooks. \n",
      "\n",
      "She cites \"M…\n",
      "RT @JuddLegum: 5. The reviewer who complained about CRT is a member of @Moms4Liberty. This is a group that is trying to ban biographies of…\n",
      "RT @JuddLegum: 4. The Florida Department of Education has now released THOUSANDS of pages documenting the review of these textbooks. \n",
      "\n",
      "Of t…\n"
     ]
    }
   ],
   "source": [
    "# Show tweets from my timeline\n",
    "public_tweets = api.home_timeline()\n",
    "for tweet in public_tweets:\n",
    "    print(tweet.text)"
   ]
  },
  {
   "cell_type": "code",
   "execution_count": 59,
   "metadata": {},
   "outputs": [],
   "source": [
    "# Get the User object for twitter...\n",
    "user = api.get_user(screen_name='SentimentVoter')"
   ]
  },
  {
   "cell_type": "code",
   "execution_count": 60,
   "metadata": {},
   "outputs": [
    {
     "name": "stdout",
     "output_type": "stream",
     "text": [
      "SentimentVoter\n",
      "15\n",
      "jrpsaki\n",
      "DisinfoIndex\n",
      "SearchDigitalHQ\n",
      "theMAGAlion\n",
      "cwilken\n",
      "progressivepush\n",
      "electroboyusa\n",
      "Cruellaisdevine\n",
      "vickicon72\n",
      "kevincaldwell\n",
      "confunctionist\n",
      "CadillacCT52021\n",
      "politicalHEDGE\n",
      "OxfordDiplomat\n",
      "politvidchannel\n",
      "SKYRIDER4538\n",
      "SierraWhiskee\n",
      "AndyWendt\n",
      "jennycohn1\n",
      "UROCKlive1\n"
     ]
    }
   ],
   "source": [
    "print(user.screen_name)\n",
    "print(user.followers_count)\n",
    "for friend in user.friends():\n",
    "   print(friend.screen_name)"
   ]
  },
  {
   "cell_type": "markdown",
   "metadata": {},
   "source": [
    "### Version 2: Search recent tweets"
   ]
  },
  {
   "cell_type": "code",
   "execution_count": 61,
   "metadata": {},
   "outputs": [],
   "source": [
    "bearer_token = 'AAAAAAAAAAAAAAAAAAAAALMnRAEAAAAA8TDZBChiNl5r53dC1TZv5Up%2FPwc%3DxbJP8drF9RPVanjJOpopguadETGOHWe4jRCeQZPRkbhKYggUxo'"
   ]
  },
  {
   "cell_type": "code",
   "execution_count": 62,
   "metadata": {},
   "outputs": [
    {
     "name": "stdout",
     "output_type": "stream",
     "text": [
      "{'newest_id': '1523053247933861889', 'oldest_id': '1523053240832897024', 'result_count': 10, 'next_token': 'b26v89c19zqg8o3fpywm1v6b172e3d66odr7uq2jl4hvh'}\n",
      "1523053247933861889\n",
      "RT @PaulCogan: Conservative Supreme Court Justice Barrett, wrote a brief about abortion. She noted the USA needed a “domestic supply of inf…\n",
      "1523053247816212480\n",
      "@skymelilemyks @farid__jalali Well, about that. Now that the Supreme Court has decided that a woman’s body can be used for medical purposes, even at risk of her own life, we may as well go full Monty Python. \n",
      "\n",
      "https://t.co/obEaKACP7E\n",
      "1523053247543398400\n",
      "His wife helped plan an attempted coup, and he wouldn’t recuse himself on matters before the Court related to the events. Who doesn’t respect institutions here? https://t.co/kmaNkcb8h0\n",
      "1523053246612340736\n",
      "RT @PaulCogan: Conservative Supreme Court Justice Barrett, wrote a brief about abortion. She noted the USA needed a “domestic supply of inf…\n",
      "1523053246578790400\n",
      "RT @OccupyDemocrats: BREAKING: Supreme Court Justice Clarence Thomas criticizes pro-choice women for being unwilling to “live with outcomes…\n",
      "1523053246436495360\n",
      "RT @roz_levine: @NoLieWithBTC We're talking about 9 unelected people with no worries about job security. Sounds more like the Supreme Court…\n",
      "1523053245718958080\n",
      "RT @DEAcampaign: \"Only a free and unrestrained press can effectively expose deception in government.\"—US Supreme Court in its landmark ruli…\n",
      "1523053244859052033\n",
      "@thehill Mr. Thomas \n",
      "If you tell a group of people that they are no longer a full citizen of the United States because the supreme Court said.   \n",
      "That's a slippy slope .... Q:How far back is Thomas going to take us? https://t.co/Y8fbKMPeyE\n",
      "1523053243344965632\n",
      "RT @Rschooley: So we're supposed to believe that faith in the Supreme Court is irreparably damged because of 1 leak and not because of 4 li…\n",
      "1523053240832897024\n",
      "RT @Out5p0ken: In an unanimous decision, The Supreme Court struck down a law ensuring a 35-foot “buffer zone” outside abortion clinics, rul…\n"
     ]
    }
   ],
   "source": [
    "#client = tw.Client(consumer_key=creds['CONSUMER_KEY'], consumer_secret=creds['CONSUMER_SECRET'],\\\n",
    "#                   access_token=creds['ACCESS_TOKEN'], access_token_secret=creds['ACCESS_SECRET'])\n",
    "client = tw.Client(bearer_token)\n",
    "# Search Recent Tweets\n",
    "\n",
    "# This endpoint/method returns Tweets from the last seven days\n",
    "# user_auth = true: if not use bearer_token\n",
    "#response = client.search_recent_tweets(\"Supreme Court\", user_auth = True) \n",
    "\n",
    "response = client.search_recent_tweets(\"Supreme Court\", max_results=10)\n",
    "# The method returns a Response object, a named tuple with data, includes,\n",
    "# errors, and meta fields\n",
    "print(response.meta)\n",
    "\n",
    "# In this case, the data field of the Response returned is a list of Tweet\n",
    "# objects\n",
    "tweets = response.data\n",
    "\n",
    "# Each Tweet object has default ID and text fields\n",
    "for tweet in tweets:\n",
    "    print(tweet.id)\n",
    "    print(tweet.text)"
   ]
  },
  {
   "cell_type": "code",
   "execution_count": 65,
   "metadata": {},
   "outputs": [
    {
     "name": "stdout",
     "output_type": "stream",
     "text": [
      "1523057698274643969 en Twitter for Android 2022-05-07 21:50:26+00:00\n",
      "1523057698157531136 en Twitter for iPhone 2022-05-07 21:50:26+00:00\n",
      "1523057698031374336 en Twitter for iPhone 2022-05-07 21:50:26+00:00\n",
      "1523057697808998400 und Twitter for iPhone 2022-05-07 21:50:26+00:00\n",
      "1523057697570308096 en Twitter for iPhone 2022-05-07 21:50:26+00:00\n",
      "1523057696718553088 en Twitter for iPhone 2022-05-07 21:50:26+00:00\n",
      "1523057696593047552 en Twitter for Android 2022-05-07 21:50:26+00:00\n",
      "1523057696508944384 en Twitter for iPhone 2022-05-07 21:50:26+00:00\n",
      "1523057695015677953 en Twitter for Android 2022-05-07 21:50:26+00:00\n",
      "1523057693740748815 en Twitter Web App 2022-05-07 21:50:25+00:00\n",
      "{'id': '1523057698274643969', 'lang': 'en', 'text': \"RT @Denton21990: I'm hearing all these nightmare scenario's if a woman chooses to have an abortion. Some states want to call it murder &amp; ch…\", 'created_at': '2022-05-07T21:50:26.000Z', 'source': 'Twitter for Android'}\n",
      "{'id': '1523057698157531136', 'lang': 'en', 'text': 'RT @duhhjuh: keep abortion legal https://t.co/otGYv8qQIj', 'created_at': '2022-05-07T21:50:26.000Z', 'source': 'Twitter for iPhone'}\n",
      "{'id': '1523057698031374336', 'lang': 'en', 'text': 'RT @duhhjuh: keep abortion legal https://t.co/otGYv8qQIj', 'created_at': '2022-05-07T21:50:26.000Z', 'source': 'Twitter for iPhone'}\n",
      "{'id': '1523057697808998400', 'lang': 'und', 'text': 'RT @Emywinst: https://t.co/5tVUkN07JA', 'created_at': '2022-05-07T21:50:26.000Z', 'source': 'Twitter for iPhone'}\n",
      "{'id': '1523057697570308096', 'lang': 'en', 'text': 'RT @WTopelius: I wonder if the Gregg Abbotts of the Dystopian States of America are aware that one of our founding fathers, Ben Franklin, p…', 'created_at': '2022-05-07T21:50:26.000Z', 'source': 'Twitter for iPhone'}\n",
      "{'id': '1523057696718553088', 'lang': 'en', 'text': 'RT @DrGJackBrown: Criminalizing Abortion is one form of Forced Pregnancy. Forced Pregnancy is a Crime Against Humanity —\\xa0United Nations, Ar…', 'created_at': '2022-05-07T21:50:26.000Z', 'source': 'Twitter for iPhone'}\n",
      "{'id': '1523057696593047552', 'lang': 'en', 'text': 'RT @DearAuntCrabby: Clarence Thomas says he worries respect for institutions is eroding \\n\\nThanks to RWNJ idiots like him and Ginni, yes.\\n\\nh…', 'created_at': '2022-05-07T21:50:26.000Z', 'source': 'Twitter for Android'}\n",
      "{'id': '1523057696508944384', 'lang': 'en', 'text': 'RT @breakchainsmag: 🆓 📚Download your free copy of “Not a Moral Issue” — an issue focused on abortion rights— starting today until May 11th.…', 'created_at': '2022-05-07T21:50:26.000Z', 'source': 'Twitter for iPhone'}\n",
      "{'id': '1523057695015677953', 'lang': 'en', 'text': 'RT @ChrisMSarracino: The young gentleman in the middle is a FDNY firefighter leading the Rosary against the mob of abortion lovers.  God bl…', 'created_at': '2022-05-07T21:50:26.000Z', 'source': 'Twitter for Android'}\n",
      "{'id': '1523057693740748815', 'lang': 'en', 'text': 'RT @ggreenwald: \"Tesla is covering travel costs for employees seeking out-of-state abortions...to benefit workers affected by new restricti…', 'created_at': '2022-05-07T21:50:25.000Z', 'source': 'Twitter Web App'}\n"
     ]
    }
   ],
   "source": [
    "# You can specify additional Tweet fields to retrieve using tweet_fields\n",
    "response = client.search_recent_tweets(\n",
    "    \"abortion\", tweet_fields=['id',\"created_at\", \"lang\",'source']\n",
    ")\n",
    "tweets = response.data\n",
    "\n",
    "# You can then access those fields as attributes of the Tweet objects\n",
    "for tweet in tweets:\n",
    "    print(tweet.id, tweet.lang,tweet['source'],tweet['created_at'])\n",
    "\n",
    "# There’s also a data attribute/key that provides the entire data dictionary\n",
    "for tweet in tweets:\n",
    "    print(tweet.data)"
   ]
  },
  {
   "cell_type": "code",
   "execution_count": 43,
   "metadata": {},
   "outputs": [
    {
     "name": "stdout",
     "output_type": "stream",
     "text": [
      "1522622624756637697\n",
      "Happy birthday to one of the greats, Willie Mays! I’ll always remember this conversation we had while on Air Force One during the first year of my presidency. I’ve always looked up to the Say Hey Kid, and I hope he’s having a great 91st birthday. https://t.co/PcVZg8Gp9i\n",
      "1522599997195366400\n",
      "I couldn't be more grateful for all the love and support I’ve received from my mother-in-law, Marian Robinson, especially during those years in the White House when she was right by our side. We look forward to honoring her with this exhibit. https://t.co/MrHs8xslMy\n",
      "1521569658960240642\n",
      "Here’s my statement with Michelle on the draft Supreme Court decision to overturn Roe v. Wade. https://t.co/xBJJkLYGlQ\n",
      "1521242035218522125\n",
      "Michelle and I extend our warmest wishes to Muslims across our country and around the world as they celebrate Eid al-Fitr. From our family to yours, Eid Mubarak.\n",
      "1521237572403535874\n",
      "RT @ObamaFoundation: Last year, to mark 10 years since the operation against Osama bin Laden, President Obama joined Admiral Bill McRaven t…\n",
      "1520101200653340673\n",
      "Our Great National Parks on Netflix showcases the power and beauty of the world’s most breathtaking national parks and wildlife.\n",
      "\n",
      "I hope watching inspires you to experience the outdoors and take action to protect it. Join our Wild For All campaign at https://t.co/PTlffHC7gv. https://t.co/F7hHz6BHKC\n",
      "1520071084967612417\n",
      "We can learn a lot from what Europe is doing to improve social media. Their approach may not be exactly right for the U.S., but it points toward a path forward. https://t.co/BQBBw9z8wu\n",
      "1519776352240549888\n",
      "When I hear about the courage of young leaders in our @ObamaFoundation network, I can't help but feel hopeful. Read Yuliia Sachuk’s powerful story, and learn how she’s helping Ukrainians with disabilities get to safety. https://t.co/hIXHWizpic\n",
      "1519693114356740097\n",
      "Last week, I spoke with some of the young activists who have already recognized the problem that disinformation poses to our communities and are doing their part to fix it. Take a look at our conversation: https://t.co/37LIVnyAdg\n",
      "1517615941412040704\n",
      "I was at @Stanford with the @ObamaFoundation to talk about the rise of disinformation around the world and the threat it poses to democracy. We all have a role to play here, so let’s get to work. https://t.co/IO6oi5CdQs\n"
     ]
    }
   ],
   "source": [
    "# Get User's Tweets\n",
    "\n",
    "# This endpoint/method returns Tweets composed by a single user, specified by\n",
    "# the requested user ID\n",
    "\n",
    "user_id = 813286\n",
    "\n",
    "response = client.get_users_tweets(user_id)\n",
    "\n",
    "# By default, only the ID and text fields of each Tweet will be returned\n",
    "for tweet in response.data:\n",
    "    print(tweet.id)\n",
    "    print(tweet.text)"
   ]
  },
  {
   "cell_type": "code",
   "execution_count": 44,
   "metadata": {},
   "outputs": [
    {
     "name": "stdout",
     "output_type": "stream",
     "text": [
      "kehajna213 https://pbs.twimg.com/profile_images/1499208117149741056/y1hI8OGg_normal.jpg\n",
      "JaxHarley5 https://pbs.twimg.com/profile_images/1291130905818550274/Kxw2uRd2_normal.jpg\n",
      "1967_jules https://pbs.twimg.com/profile_images/1197213852112310272/apw6tYsU_normal.jpg\n",
      "crystalpear1954 https://abs.twimg.com/sticky/default_profile_images/default_profile_normal.png\n",
      "denice_lawson https://pbs.twimg.com/profile_images/1518576163857305601/x4IIlaIT_normal.jpg\n",
      "BMTRunner https://pbs.twimg.com/profile_images/1505773492192493571/rWe41tLk_normal.jpg\n",
      "manon75272567 https://pbs.twimg.com/profile_images/1424826238804402185/EtBp6UIu_normal.jpg\n",
      "DenisePalmer https://pbs.twimg.com/profile_images/1053486614360424449/Y9hO3hO4_normal.jpg\n",
      "l_losco https://pbs.twimg.com/profile_images/1269483997983277056/2CKTOW9i_normal.jpg\n",
      "suzyqjordan https://pbs.twimg.com/profile_images/968874839082594305/guFEe1H6_normal.jpg\n",
      "ragtimerayray https://pbs.twimg.com/profile_images/1349559228910895104/_s08mksp_normal.jpg\n",
      "TinaYi8 https://pbs.twimg.com/profile_images/1007617670902976512/7fr2ONQI_normal.jpg\n",
      "GeminiGirlX42 https://pbs.twimg.com/profile_images/1362445193715318787/1YAuelxL_normal.jpg\n",
      "DeerlingDarlinq https://pbs.twimg.com/profile_images/1492689818588827651/QrMZJTmQ_normal.jpg\n",
      "Klaas_Kid_8 https://pbs.twimg.com/profile_images/1428665869417254916/gaE-40Rw_normal.png\n",
      "kamm_connie https://pbs.twimg.com/profile_images/1504657284579745798/pNsDEs3v_normal.jpg\n",
      "CKnitkindness https://pbs.twimg.com/profile_images/949331360040173569/4YS7IX1O_normal.jpg\n",
      "simiancyborg https://pbs.twimg.com/profile_images/1521651120451604481/Et4eEZPF_normal.jpg\n",
      "FrazerEva https://pbs.twimg.com/profile_images/611951607912071168/rv7Ucwyd_normal.jpg\n",
      "DavidHuber15 https://pbs.twimg.com/profile_images/1512849488767254531/o3b2W5_K_normal.jpg\n",
      "MartinaCollend1 https://pbs.twimg.com/profile_images/1290004931093700613/ktqJc8dJ_normal.jpg\n",
      "Lorence_Hyler https://pbs.twimg.com/profile_images/1288153737253527554/VenRpuQc_normal.jpg\n",
      "ahenk10 https://pbs.twimg.com/profile_images/640241438630907904/vhtls6QA_normal.jpg\n",
      "mamabowe https://pbs.twimg.com/profile_images/796082987804692480/_6xkaXwV_normal.jpg\n",
      "TKupec https://pbs.twimg.com/profile_images/749304901403086848/IQMFNM5W_normal.jpg\n",
      "amps513 https://pbs.twimg.com/profile_images/1194932421231292421/lJMdHPm6_normal.jpg\n",
      "Peutty https://pbs.twimg.com/profile_images/1444356557223907334/Alr1iQie_normal.jpg\n",
      "GoodTroubleKim https://pbs.twimg.com/profile_images/1452072278456418304/di8wWoS1_normal.jpg\n",
      "BellaDawn22 https://abs.twimg.com/sticky/default_profile_images/default_profile_normal.png\n",
      "WendyJacobsMcC1 https://abs.twimg.com/sticky/default_profile_images/default_profile_normal.png\n",
      "DorothyCollet11 https://pbs.twimg.com/profile_images/1477035583419691012/y-WXDK5T_normal.jpg\n",
      "Nanettefilippo https://pbs.twimg.com/profile_images/806968658169761792/m9stUi2v_normal.jpg\n",
      "CathyKing70 https://pbs.twimg.com/profile_images/1499822350962814977/fE0yc5_s_normal.jpg\n",
      "needsoloistjk https://pbs.twimg.com/profile_images/1518496955680317440/BOMx3swe_normal.jpg\n",
      "MotherR64466939 https://pbs.twimg.com/profile_images/1499763813318545416/7aKKQwC3_normal.jpg\n",
      "isonsbutterfly https://pbs.twimg.com/profile_images/880010633/butterfly_normal.jpg\n",
      "ChristineLCline https://pbs.twimg.com/profile_images/510966099576627200/pWmozS9y_normal.jpeg\n",
      "TakenKobates https://pbs.twimg.com/profile_images/1268579101347942400/kuuExgTl_normal.jpg\n",
      "BlackiSharron https://pbs.twimg.com/profile_images/1241306013036355584/n0rU6E75_normal.jpg\n",
      "kalyhyuga https://pbs.twimg.com/profile_images/1515973043050455040/xuVoscbv_normal.jpg\n",
      "_Kaitie_ https://pbs.twimg.com/profile_images/1152721266/meprofilepic_normal.jpg\n",
      "mh_paget https://pbs.twimg.com/profile_images/1490361219303288844/BTieKu0E_normal.png\n",
      "JEDSUIS1 https://abs.twimg.com/sticky/default_profile_images/default_profile_normal.png\n",
      "qyou185 https://pbs.twimg.com/profile_images/1520060582505943040/z0yOPSAM_normal.jpg\n",
      "SylviaStevens88 https://pbs.twimg.com/profile_images/3317767832/0e5f68663b9fa2dd84fefbd0ba0b0acf_normal.jpeg\n",
      "klongturtlebend https://pbs.twimg.com/profile_images/1361838576313507844/utLo4zWp_normal.jpg\n",
      "ObaAkinlab https://pbs.twimg.com/profile_images/1510578626235932673/lehF0Sq3_normal.jpg\n",
      "Drileymack https://pbs.twimg.com/profile_images/1432111044277809154/ci29kA_0_normal.jpg\n",
      "Wazer321 https://pbs.twimg.com/profile_images/576927365537775616/QcSSTYcl_normal.jpg\n",
      "MusicWttn https://pbs.twimg.com/profile_images/1407164190855475203/_VwWOTEr_normal.jpg\n",
      "KatSheridan https://pbs.twimg.com/profile_images/1248417289247981569/NNy2-L9b_normal.jpg\n",
      "ccarvelwrites https://pbs.twimg.com/profile_images/1287515337240514560/Ia-uYUuF_normal.jpg\n",
      "jfk_kaufman https://pbs.twimg.com/profile_images/1450454065742241801/mElHxAB1_normal.jpg\n",
      "RealSethPittman https://pbs.twimg.com/profile_images/1304447305093910534/FHxQIlF4_normal.jpg\n",
      "MarO2526591 https://pbs.twimg.com/profile_images/824260420512923648/a4mXtqLU_normal.jpg\n",
      "GeorgeMigliacc1 https://pbs.twimg.com/profile_images/1468597108211081217/VZswj6a2_normal.jpg\n",
      "artreinholt1 https://pbs.twimg.com/profile_images/1171424026411118593/wc10Sc_Z_normal.jpg\n",
      "ZuhalYeniceri https://pbs.twimg.com/profile_images/1041123437236768768/oSivt-TD_normal.jpg\n",
      "cheesedoodles75 https://pbs.twimg.com/profile_images/1266254621099491328/-BuY3IH5_normal.jpg\n",
      "Mocha630 https://pbs.twimg.com/profile_images/1052986183553146880/foj_Vv7M_normal.jpg\n",
      "C172FlyGuy https://pbs.twimg.com/profile_images/1310446191465750529/6uIP9QYU_normal.jpg\n",
      "santanDanny81 https://pbs.twimg.com/profile_images/1484943739428786177/j1dy4DDG_normal.jpg\n",
      "JacquelineNaud2 https://abs.twimg.com/sticky/default_profile_images/default_profile_normal.png\n",
      "Litus1960 https://pbs.twimg.com/profile_images/1441969998/Tomas_bijgesneden_normal.jpg\n",
      "DigbyGherkinPFC https://abs.twimg.com/sticky/default_profile_images/default_profile_normal.png\n",
      "pisidesign https://pbs.twimg.com/profile_images/925005742532382720/P8x1qeKv_normal.jpg\n",
      "random_mix56 https://pbs.twimg.com/profile_images/1509582112575401989/lmpjhoYF_normal.jpg\n",
      "picestella https://pbs.twimg.com/profile_images/1235728613539905536/QIsc_WL3_normal.jpg\n",
      "KathyMattsson https://pbs.twimg.com/profile_images/1495060096522629125/Bbu2XudK_normal.jpg\n",
      "theemilyesse https://pbs.twimg.com/profile_images/1374142421014097922/u6ATAyR3_normal.jpg\n",
      "mwgarb https://pbs.twimg.com/profile_images/1344995590250373121/xADSt4rb_normal.jpg\n",
      "ksings0201 https://pbs.twimg.com/profile_images/1241491411783929856/Mcg0HFMb_normal.jpg\n",
      "DavaExplorer https://pbs.twimg.com/profile_images/822512673812348929/Pcj2cCNh_normal.jpg\n",
      "dobbykins https://pbs.twimg.com/profile_images/834881645698248704/egrI2q8N_normal.jpg\n",
      "UclaBruin1998 https://pbs.twimg.com/profile_images/1521802421982441472/n8mozOvq_normal.jpg\n",
      "luv_gr8deals https://abs.twimg.com/sticky/default_profile_images/default_profile_normal.png\n",
      "SeldomSeenNiece https://pbs.twimg.com/profile_images/1126186715562106880/_P8GQcL3_normal.jpg\n",
      "madhu_mayi https://pbs.twimg.com/profile_images/2640236017/6a32135547bb7e6734e8e234e649c32c_normal.jpeg\n",
      "Pumkin5543 https://pbs.twimg.com/profile_images/1491770375205707779/Fr0o8Rn6_normal.jpg\n",
      "armysarmyrains https://pbs.twimg.com/profile_images/1515485940072001544/7a2KqhIu_normal.jpg\n",
      "LWilson53096459 https://pbs.twimg.com/profile_images/1508421560222330882/UmS6zVKG_normal.png\n",
      "Catbe1 https://pbs.twimg.com/profile_images/1096887092947365888/o-CoX1tz_normal.jpg\n",
      "TMbajonas1 https://pbs.twimg.com/profile_images/1521688190242938895/n15lSSHv_normal.png\n",
      "drwear https://pbs.twimg.com/profile_images/785853058723053568/2gdupbju_normal.jpg\n",
      "JeanetteAmodio https://pbs.twimg.com/profile_images/952389082835050496/73znhMqp_normal.jpg\n",
      "fafsquared https://pbs.twimg.com/profile_images/1499582839666397197/tZ-MRTK0_normal.jpg\n",
      "TaraLGomez2 https://pbs.twimg.com/profile_images/619290394593898496/ACh1hgHd_normal.jpg\n",
      "gingerwinger https://pbs.twimg.com/profile_images/1281664076/Liverpool-Hull-City_normal.jpg\n",
      "tbit35wc https://pbs.twimg.com/profile_images/1326100987506003968/Vb_UE01C_normal.jpg\n",
      "NennoEllen https://pbs.twimg.com/profile_images/1040721421159292933/t6cxUk6p_normal.jpg\n",
      "alex63006115 https://pbs.twimg.com/profile_images/1362864225509515265/cNnFPuI3_normal.jpg\n"
     ]
    }
   ],
   "source": [
    "# Get retweeters\n",
    "tweet_id = 1521569658960240642\n",
    "\n",
    "# By default, only the ID, name, and username fields of each user will be\n",
    "# returned\n",
    "# Additional fields can be retrieved using the user_fields parameter\n",
    "response = client.get_retweeters(tweet_id, user_fields=[\"profile_image_url\"])\n",
    "\n",
    "for user in response.data:\n",
    "    print(user.username, user.profile_image_url)"
   ]
  },
  {
   "cell_type": "markdown",
   "metadata": {},
   "source": [
    "## Reading tweets (back to v 1.1)"
   ]
  },
  {
   "cell_type": "code",
   "execution_count": 71,
   "metadata": {},
   "outputs": [],
   "source": [
    "search_words = 'Supreme Court'\n",
    "date_since = '2022-05-05'"
   ]
  },
  {
   "cell_type": "code",
   "execution_count": 93,
   "metadata": {},
   "outputs": [],
   "source": [
    "tweets = tw.Cursor(api.search_tweets,\n",
    "              q=search_words,\n",
    "              lang=\"en\").items(50)"
   ]
  },
  {
   "cell_type": "code",
   "execution_count": 94,
   "metadata": {},
   "outputs": [],
   "source": [
    "users_locs = [[tweet.user.screen_name, tweet.user.location] for tweet in tweets]\n",
    "loc_df = pd.DataFrame(data=users_locs, columns=['user','location'])"
   ]
  },
  {
   "cell_type": "code",
   "execution_count": 95,
   "metadata": {},
   "outputs": [
    {
     "data": {
      "text/html": [
       "<div>\n",
       "<style scoped>\n",
       "    .dataframe tbody tr th:only-of-type {\n",
       "        vertical-align: middle;\n",
       "    }\n",
       "\n",
       "    .dataframe tbody tr th {\n",
       "        vertical-align: top;\n",
       "    }\n",
       "\n",
       "    .dataframe thead th {\n",
       "        text-align: right;\n",
       "    }\n",
       "</style>\n",
       "<table border=\"1\" class=\"dataframe\">\n",
       "  <thead>\n",
       "    <tr style=\"text-align: right;\">\n",
       "      <th></th>\n",
       "      <th>user</th>\n",
       "      <th>location</th>\n",
       "    </tr>\n",
       "  </thead>\n",
       "  <tbody>\n",
       "    <tr>\n",
       "      <th>0</th>\n",
       "      <td>Chadillac17</td>\n",
       "      <td>Madison, WI</td>\n",
       "    </tr>\n",
       "    <tr>\n",
       "      <th>1</th>\n",
       "      <td>Rich_Snowman</td>\n",
       "      <td></td>\n",
       "    </tr>\n",
       "    <tr>\n",
       "      <th>2</th>\n",
       "      <td>BeLikeJoe2020</td>\n",
       "      <td>The Tardis</td>\n",
       "    </tr>\n",
       "    <tr>\n",
       "      <th>3</th>\n",
       "      <td>DeniseParringt4</td>\n",
       "      <td></td>\n",
       "    </tr>\n",
       "    <tr>\n",
       "      <th>4</th>\n",
       "      <td>surfcityphoto</td>\n",
       "      <td>Foley, AL</td>\n",
       "    </tr>\n",
       "  </tbody>\n",
       "</table>\n",
       "</div>"
      ],
      "text/plain": [
       "              user     location\n",
       "0      Chadillac17  Madison, WI\n",
       "1     Rich_Snowman             \n",
       "2    BeLikeJoe2020   The Tardis\n",
       "3  DeniseParringt4             \n",
       "4    surfcityphoto    Foley, AL"
      ]
     },
     "execution_count": 95,
     "metadata": {},
     "output_type": "execute_result"
    }
   ],
   "source": [
    "loc_df.head()"
   ]
  },
  {
   "cell_type": "code",
   "execution_count": 104,
   "metadata": {},
   "outputs": [],
   "source": [
    "tweets = tw.Cursor(api.search_tweets,\n",
    "              q=search_words,\n",
    "              lang=\"en\").items(500)"
   ]
  },
  {
   "cell_type": "code",
   "execution_count": 105,
   "metadata": {},
   "outputs": [],
   "source": [
    "all_tweets = [tweet.text for tweet in tweets]"
   ]
  },
  {
   "cell_type": "code",
   "execution_count": 97,
   "metadata": {},
   "outputs": [],
   "source": [
    "import re"
   ]
  },
  {
   "cell_type": "code",
   "execution_count": 98,
   "metadata": {},
   "outputs": [],
   "source": [
    "def remove_url(txt):\n",
    "    \"\"\"Replace URLs found in a text string with nothing \n",
    "    (i.e. it will remove the URL from the string).\n",
    "\n",
    "    Parameters\n",
    "    ----------\n",
    "    txt : string\n",
    "        A text string that you want to parse and remove urls.\n",
    "\n",
    "    Returns\n",
    "    -------\n",
    "    The same txt string with url's removed.\n",
    "    \"\"\"\n",
    "\n",
    "    return \" \".join(re.sub(\"([^0-9A-Za-z \\t])|(\\w+:\\/\\/\\S+)\", \"\", txt).split())"
   ]
  },
  {
   "cell_type": "code",
   "execution_count": 99,
   "metadata": {},
   "outputs": [
    {
     "data": {
      "text/plain": [
       "tweepy.cursor.ItemIterator"
      ]
     },
     "execution_count": 99,
     "metadata": {},
     "output_type": "execute_result"
    }
   ],
   "source": [
    "type(tweets)"
   ]
  },
  {
   "cell_type": "code",
   "execution_count": 107,
   "metadata": {},
   "outputs": [
    {
     "data": {
      "text/plain": [
       "['RT DeclanLeary Abortion fanaticism only makes sense when you accept the spiritual dimension of this conflict The cult of Moloch is alive',\n",
       " 'RT TeriKanefield Good thread I had some of this in my blog post this weekendThe reason the Supreme Court has been behind the times',\n",
       " 'RT tnicholsmd When a Supreme Court Justice writes that abortion should be outlawed for the purpose of generating an increased domestic s',\n",
       " 'RT MrAndyNgo Antifa in the Pacific NW have become reactivated for violence following the leak of the Supreme Court draft opinion Theyr',\n",
       " 'RT NoLieWithBTC NEW Sen Kirsten Gillibrand It is an outrage that we have 5 justices on the Supreme Court who lied LIED in their c']"
      ]
     },
     "execution_count": 107,
     "metadata": {},
     "output_type": "execute_result"
    }
   ],
   "source": [
    "all_tweets_no_urls = [remove_url(tweet) for tweet in all_tweets]\n",
    "all_tweets_no_urls[:5]"
   ]
  },
  {
   "cell_type": "code",
   "execution_count": 108,
   "metadata": {},
   "outputs": [
    {
     "data": {
      "text/plain": [
       "[['rt',\n",
       "  'declanleary',\n",
       "  'abortion',\n",
       "  'fanaticism',\n",
       "  'only',\n",
       "  'makes',\n",
       "  'sense',\n",
       "  'when',\n",
       "  'you',\n",
       "  'accept',\n",
       "  'the',\n",
       "  'spiritual',\n",
       "  'dimension',\n",
       "  'of',\n",
       "  'this',\n",
       "  'conflict',\n",
       "  'the',\n",
       "  'cult',\n",
       "  'of',\n",
       "  'moloch',\n",
       "  'is',\n",
       "  'alive'],\n",
       " ['rt',\n",
       "  'terikanefield',\n",
       "  'good',\n",
       "  'thread',\n",
       "  'i',\n",
       "  'had',\n",
       "  'some',\n",
       "  'of',\n",
       "  'this',\n",
       "  'in',\n",
       "  'my',\n",
       "  'blog',\n",
       "  'post',\n",
       "  'this',\n",
       "  'weekendthe',\n",
       "  'reason',\n",
       "  'the',\n",
       "  'supreme',\n",
       "  'court',\n",
       "  'has',\n",
       "  'been',\n",
       "  'behind',\n",
       "  'the',\n",
       "  'times']]"
      ]
     },
     "execution_count": 108,
     "metadata": {},
     "output_type": "execute_result"
    }
   ],
   "source": [
    "words_in_tweet = [tweet.lower().split() for tweet in all_tweets_no_urls]\n",
    "words_in_tweet[:2]"
   ]
  },
  {
   "cell_type": "markdown",
   "metadata": {},
   "source": [
    "To get the count of how many times each word appears in the sample, you can use the built-in Python library `collections`, which helps create a special type of a Python dictonary. The `collection.Counter` object has a useful built-in method `most_common` that will return the most commonly used words and the number of times that they are used."
   ]
  },
  {
   "cell_type": "code",
   "execution_count": 109,
   "metadata": {},
   "outputs": [],
   "source": [
    "import collections\n",
    "import itertools"
   ]
  },
  {
   "cell_type": "code",
   "execution_count": 110,
   "metadata": {},
   "outputs": [
    {
     "data": {
      "text/plain": [
       "[('the', 516),\n",
       " ('rt', 455),\n",
       " ('supreme', 401),\n",
       " ('court', 382),\n",
       " ('of', 252),\n",
       " ('to', 212),\n",
       " ('a', 189),\n",
       " ('that', 171),\n",
       " ('in', 170),\n",
       " ('is', 169),\n",
       " ('and', 114),\n",
       " ('for', 111),\n",
       " ('justices', 102),\n",
       " ('on', 100),\n",
       " ('lied', 86)]"
      ]
     },
     "execution_count": 110,
     "metadata": {},
     "output_type": "execute_result"
    }
   ],
   "source": [
    "# List of all words across tweets\n",
    "all_words_no_urls = list(itertools.chain(*words_in_tweet))\n",
    "\n",
    "# Create counter\n",
    "counts_no_urls = collections.Counter(all_words_no_urls)\n",
    "\n",
    "counts_no_urls.most_common(15)"
   ]
  },
  {
   "cell_type": "code",
   "execution_count": 111,
   "metadata": {},
   "outputs": [
    {
     "data": {
      "text/html": [
       "<div>\n",
       "<style scoped>\n",
       "    .dataframe tbody tr th:only-of-type {\n",
       "        vertical-align: middle;\n",
       "    }\n",
       "\n",
       "    .dataframe tbody tr th {\n",
       "        vertical-align: top;\n",
       "    }\n",
       "\n",
       "    .dataframe thead th {\n",
       "        text-align: right;\n",
       "    }\n",
       "</style>\n",
       "<table border=\"1\" class=\"dataframe\">\n",
       "  <thead>\n",
       "    <tr style=\"text-align: right;\">\n",
       "      <th></th>\n",
       "      <th>words</th>\n",
       "      <th>count</th>\n",
       "    </tr>\n",
       "  </thead>\n",
       "  <tbody>\n",
       "    <tr>\n",
       "      <th>0</th>\n",
       "      <td>the</td>\n",
       "      <td>516</td>\n",
       "    </tr>\n",
       "    <tr>\n",
       "      <th>1</th>\n",
       "      <td>rt</td>\n",
       "      <td>455</td>\n",
       "    </tr>\n",
       "    <tr>\n",
       "      <th>2</th>\n",
       "      <td>supreme</td>\n",
       "      <td>401</td>\n",
       "    </tr>\n",
       "    <tr>\n",
       "      <th>3</th>\n",
       "      <td>court</td>\n",
       "      <td>382</td>\n",
       "    </tr>\n",
       "    <tr>\n",
       "      <th>4</th>\n",
       "      <td>of</td>\n",
       "      <td>252</td>\n",
       "    </tr>\n",
       "  </tbody>\n",
       "</table>\n",
       "</div>"
      ],
      "text/plain": [
       "     words  count\n",
       "0      the    516\n",
       "1       rt    455\n",
       "2  supreme    401\n",
       "3    court    382\n",
       "4       of    252"
      ]
     },
     "execution_count": 111,
     "metadata": {},
     "output_type": "execute_result"
    }
   ],
   "source": [
    "clean_tweets_no_urls = pd.DataFrame(counts_no_urls.most_common(15),\n",
    "                             columns=['words', 'count'])\n",
    "\n",
    "clean_tweets_no_urls.head()"
   ]
  },
  {
   "cell_type": "code",
   "execution_count": 112,
   "metadata": {},
   "outputs": [
    {
     "data": {
      "image/png": "[encoded data removed]",
      "text/plain": [
       "<Figure size 576x576 with 1 Axes>"
      ]
     },
     "metadata": {
      "needs_background": "light"
     },
     "output_type": "display_data"
    }
   ],
   "source": [
    "fig, ax = plt.subplots(figsize=(8, 8))\n",
    "\n",
    "# Plot horizontal bar graph\n",
    "clean_tweets_no_urls.sort_values(by='count').plot.barh(x='words',\n",
    "                      y='count',\n",
    "                      ax=ax,\n",
    "                      color=\"purple\")\n",
    "\n",
    "ax.set_title(\"Common Words Found in Tweets (Including All Words)\")\n",
    "\n",
    "plt.show()"
   ]
  },
  {
   "cell_type": "code",
   "execution_count": 113,
   "metadata": {},
   "outputs": [],
   "source": [
    "import nltk\n",
    "from nltk.corpus import stopwords"
   ]
  },
  {
   "cell_type": "code",
   "execution_count": 114,
   "metadata": {},
   "outputs": [
    {
     "name": "stderr",
     "output_type": "stream",
     "text": [
      "[nltk_data] Downloading package stopwords to /Users/wei/nltk_data...\n",
      "[nltk_data]   Unzipping corpora/stopwords.zip.\n"
     ]
    },
    {
     "data": {
      "text/plain": [
       "True"
      ]
     },
     "execution_count": 114,
     "metadata": {},
     "output_type": "execute_result"
    }
   ],
   "source": [
    "nltk.download('stopwords')"
   ]
  },
  {
   "cell_type": "code",
   "execution_count": 115,
   "metadata": {},
   "outputs": [
    {
     "data": {
      "text/plain": [
       "['about', 'this', 'be', 'same', 'and', 'as', 'having', 'down', 'haven', 'were']"
      ]
     },
     "execution_count": 115,
     "metadata": {},
     "output_type": "execute_result"
    }
   ],
   "source": [
    "stop_words = set(stopwords.words('english'))\n",
    "\n",
    "# View a few words from the set\n",
    "list(stop_words)[0:10]"
   ]
  },
  {
   "cell_type": "code",
   "execution_count": 116,
   "metadata": {},
   "outputs": [
    {
     "data": {
      "text/plain": [
       "['rt',\n",
       " 'declanleary',\n",
       " 'abortion',\n",
       " 'fanaticism',\n",
       " 'only',\n",
       " 'makes',\n",
       " 'sense',\n",
       " 'when',\n",
       " 'you',\n",
       " 'accept',\n",
       " 'the',\n",
       " 'spiritual',\n",
       " 'dimension',\n",
       " 'of',\n",
       " 'this',\n",
       " 'conflict',\n",
       " 'the',\n",
       " 'cult',\n",
       " 'of',\n",
       " 'moloch',\n",
       " 'is',\n",
       " 'alive']"
      ]
     },
     "execution_count": 116,
     "metadata": {},
     "output_type": "execute_result"
    }
   ],
   "source": [
    "words_in_tweet[0]"
   ]
  },
  {
   "cell_type": "code",
   "execution_count": 117,
   "metadata": {},
   "outputs": [
    {
     "data": {
      "text/plain": [
       "['rt',\n",
       " 'declanleary',\n",
       " 'abortion',\n",
       " 'fanaticism',\n",
       " 'makes',\n",
       " 'sense',\n",
       " 'accept',\n",
       " 'spiritual',\n",
       " 'dimension',\n",
       " 'conflict',\n",
       " 'cult',\n",
       " 'moloch',\n",
       " 'alive']"
      ]
     },
     "execution_count": 117,
     "metadata": {},
     "output_type": "execute_result"
    }
   ],
   "source": [
    "# Remove stop words from each tweet list of words\n",
    "tweets_nsw = [[word for word in tweet_words if not word in stop_words]\n",
    "              for tweet_words in words_in_tweet]\n",
    "\n",
    "tweets_nsw[0]"
   ]
  },
  {
   "cell_type": "code",
   "execution_count": 120,
   "metadata": {},
   "outputs": [
    {
     "data": {
      "text/plain": [
       "[('rt', 455),\n",
       " ('supreme', 401),\n",
       " ('court', 382),\n",
       " ('justices', 102),\n",
       " ('lied', 86),\n",
       " ('justice', 83),\n",
       " ('thomas', 75),\n",
       " ('clarence', 71),\n",
       " ('domestic', 67),\n",
       " ('v', 64),\n",
       " ('abortion', 58),\n",
       " ('draft', 58),\n",
       " ('noliewithbtc', 55),\n",
       " ('new', 52),\n",
       " ('roe', 52),\n",
       " ('women', 50),\n",
       " ('supply', 50),\n",
       " ('5', 48),\n",
       " ('c', 47),\n",
       " ('breaking', 47)]"
      ]
     },
     "execution_count": 120,
     "metadata": {},
     "output_type": "execute_result"
    }
   ],
   "source": [
    "all_words_nsw = list(itertools.chain(*tweets_nsw))\n",
    "\n",
    "counts_nsw = collections.Counter(all_words_nsw)\n",
    "\n",
    "counts_nsw.most_common(20)"
   ]
  },
  {
   "cell_type": "code",
   "execution_count": 119,
   "metadata": {},
   "outputs": [
    {
     "data": {
      "image/png": "[encoded data removed]",
      "text/plain": [
       "<Figure size 576x576 with 1 Axes>"
      ]
     },
     "metadata": {
      "needs_background": "light"
     },
     "output_type": "display_data"
    }
   ],
   "source": [
    "clean_tweets_nsw = pd.DataFrame(counts_nsw.most_common(15),\n",
    "                             columns=['words', 'count'])\n",
    "\n",
    "fig, ax = plt.subplots(figsize=(8, 8))\n",
    "\n",
    "# Plot horizontal bar graph\n",
    "clean_tweets_nsw.sort_values(by='count').plot.barh(x='words',\n",
    "                      y='count',\n",
    "                      ax=ax,\n",
    "                      color=\"purple\")\n",
    "\n",
    "ax.set_title(\"Common Words Found in Tweets (Without Stop Words)\")\n",
    "\n",
    "plt.show()"
   ]
  },
  {
   "cell_type": "markdown",
   "metadata": {},
   "source": [
    "## Collection words removal"
   ]
  },
  {
   "cell_type": "code",
   "execution_count": 121,
   "metadata": {},
   "outputs": [],
   "source": [
    "collection_words = ['supreme', 'court', 'justices','people','trumps','rt']"
   ]
  },
  {
   "cell_type": "code",
   "execution_count": 122,
   "metadata": {},
   "outputs": [],
   "source": [
    "tweets_nsw_nc = [[w for w in word if not w in collection_words]\n",
    "                 for word in tweets_nsw]"
   ]
  },
  {
   "cell_type": "code",
   "execution_count": 123,
   "metadata": {},
   "outputs": [
    {
     "data": {
      "text/plain": [
       "[('lied', 86),\n",
       " ('justice', 83),\n",
       " ('thomas', 75),\n",
       " ('clarence', 71),\n",
       " ('domestic', 67),\n",
       " ('v', 64),\n",
       " ('abortion', 58),\n",
       " ('draft', 58),\n",
       " ('noliewithbtc', 55),\n",
       " ('new', 52),\n",
       " ('roe', 52),\n",
       " ('women', 50),\n",
       " ('supply', 50),\n",
       " ('5', 48),\n",
       " ('c', 47)]"
      ]
     },
     "execution_count": 123,
     "metadata": {},
     "output_type": "execute_result"
    }
   ],
   "source": [
    "# Flatten list of words in clean tweets\n",
    "all_words_nsw_nc = list(itertools.chain(*tweets_nsw_nc))\n",
    "\n",
    "# Create counter of words in clean tweets\n",
    "counts_nsw_nc = collections.Counter(all_words_nsw_nc)\n",
    "\n",
    "counts_nsw_nc.most_common(15)"
   ]
  },
  {
   "cell_type": "code",
   "execution_count": 124,
   "metadata": {},
   "outputs": [
    {
     "data": {
      "text/plain": [
       "1335"
      ]
     },
     "execution_count": 124,
     "metadata": {},
     "output_type": "execute_result"
    }
   ],
   "source": [
    "len(counts_nsw_nc)"
   ]
  },
  {
   "cell_type": "code",
   "execution_count": 125,
   "metadata": {},
   "outputs": [
    {
     "data": {
      "text/html": [
       "<div>\n",
       "<style scoped>\n",
       "    .dataframe tbody tr th:only-of-type {\n",
       "        vertical-align: middle;\n",
       "    }\n",
       "\n",
       "    .dataframe tbody tr th {\n",
       "        vertical-align: top;\n",
       "    }\n",
       "\n",
       "    .dataframe thead th {\n",
       "        text-align: right;\n",
       "    }\n",
       "</style>\n",
       "<table border=\"1\" class=\"dataframe\">\n",
       "  <thead>\n",
       "    <tr style=\"text-align: right;\">\n",
       "      <th></th>\n",
       "      <th>words</th>\n",
       "      <th>count</th>\n",
       "    </tr>\n",
       "  </thead>\n",
       "  <tbody>\n",
       "    <tr>\n",
       "      <th>0</th>\n",
       "      <td>lied</td>\n",
       "      <td>86</td>\n",
       "    </tr>\n",
       "    <tr>\n",
       "      <th>1</th>\n",
       "      <td>justice</td>\n",
       "      <td>83</td>\n",
       "    </tr>\n",
       "    <tr>\n",
       "      <th>2</th>\n",
       "      <td>thomas</td>\n",
       "      <td>75</td>\n",
       "    </tr>\n",
       "    <tr>\n",
       "      <th>3</th>\n",
       "      <td>clarence</td>\n",
       "      <td>71</td>\n",
       "    </tr>\n",
       "    <tr>\n",
       "      <th>4</th>\n",
       "      <td>domestic</td>\n",
       "      <td>67</td>\n",
       "    </tr>\n",
       "  </tbody>\n",
       "</table>\n",
       "</div>"
      ],
      "text/plain": [
       "      words  count\n",
       "0      lied     86\n",
       "1   justice     83\n",
       "2    thomas     75\n",
       "3  clarence     71\n",
       "4  domestic     67"
      ]
     },
     "execution_count": 125,
     "metadata": {},
     "output_type": "execute_result"
    }
   ],
   "source": [
    "clean_tweets_ncw = pd.DataFrame(counts_nsw_nc.most_common(15),\n",
    "                             columns=['words', 'count'])\n",
    "clean_tweets_ncw.head()"
   ]
  },
  {
   "cell_type": "code",
   "execution_count": 126,
   "metadata": {},
   "outputs": [
    {
     "data": {
      "image/png": "[encoded data removed]",
      "text/plain": [
       "<Figure size 576x576 with 1 Axes>"
      ]
     },
     "metadata": {
      "needs_background": "light"
     },
     "output_type": "display_data"
    }
   ],
   "source": [
    "fig, ax = plt.subplots(figsize=(8, 8))\n",
    "\n",
    "# Plot horizontal bar graph\n",
    "clean_tweets_ncw.sort_values(by='count').plot.barh(x='words',\n",
    "                      y='count',\n",
    "                      ax=ax,\n",
    "                      color=\"purple\")\n",
    "\n",
    "ax.set_title(\"Common Words Found in Tweets (Without Stop or Collection Words)\")\n",
    "\n",
    "plt.show()"
   ]
  },
  {
   "cell_type": "code",
   "execution_count": 127,
   "metadata": {},
   "outputs": [],
   "source": [
    "import networkx as nx\n",
    "import seaborn as sns"
   ]
  },
  {
   "cell_type": "code",
   "execution_count": 128,
   "metadata": {},
   "outputs": [],
   "source": [
    "from nltk import bigrams"
   ]
  },
  {
   "cell_type": "code",
   "execution_count": 129,
   "metadata": {},
   "outputs": [],
   "source": [
    "import warnings\n",
    "warnings.filterwarnings(\"ignore\")\n",
    "\n",
    "sns.set(font_scale=1.5)\n",
    "sns.set_style(\"whitegrid\")"
   ]
  },
  {
   "cell_type": "code",
   "execution_count": 130,
   "metadata": {},
   "outputs": [
    {
     "data": {
      "text/plain": [
       "[('declanleary', 'abortion'),\n",
       " ('abortion', 'fanaticism'),\n",
       " ('fanaticism', 'makes'),\n",
       " ('makes', 'sense'),\n",
       " ('sense', 'accept'),\n",
       " ('accept', 'spiritual'),\n",
       " ('spiritual', 'dimension'),\n",
       " ('dimension', 'conflict'),\n",
       " ('conflict', 'cult'),\n",
       " ('cult', 'moloch'),\n",
       " ('moloch', 'alive')]"
      ]
     },
     "execution_count": 130,
     "metadata": {},
     "output_type": "execute_result"
    }
   ],
   "source": [
    "# Create list of lists containing bigrams in tweets\n",
    "terms_bigram = [list(bigrams(tweet)) for tweet in tweets_nsw_nc]\n",
    "\n",
    "# View bigrams for the first tweet\n",
    "terms_bigram[0]"
   ]
  },
  {
   "cell_type": "code",
   "execution_count": 131,
   "metadata": {},
   "outputs": [
    {
     "data": {
      "text/plain": [
       "[(('clarence', 'thomas'), 65),\n",
       " (('domestic', 'supply'), 50),\n",
       " (('noliewithbtc', 'new'), 44),\n",
       " (('supply', 'infants'), 44),\n",
       " (('new', 'sen'), 42),\n",
       " (('sen', 'kirsten'), 42),\n",
       " (('kirsten', 'gillibrand'), 42),\n",
       " (('gillibrand', 'outrage'), 42),\n",
       " (('outrage', '5'), 42),\n",
       " (('5', 'lied'), 42),\n",
       " (('lied', 'lied'), 42),\n",
       " (('lied', 'c'), 42),\n",
       " (('roe', 'v'), 38),\n",
       " (('justice', 'clarence'), 37),\n",
       " (('v', 'wade'), 35),\n",
       " (('amy', 'coney'), 33),\n",
       " (('occupydemocrats', 'breaking'), 25),\n",
       " (('rschooley', 'supposed'), 24),\n",
       " (('supposed', 'believe'), 24),\n",
       " (('believe', 'faith'), 24)]"
      ]
     },
     "execution_count": 131,
     "metadata": {},
     "output_type": "execute_result"
    }
   ],
   "source": [
    "# Flatten list of bigrams in clean tweets\n",
    "bigrams = list(itertools.chain(*terms_bigram))\n",
    "\n",
    "# Create counter of words in clean bigrams\n",
    "bigram_counts = collections.Counter(bigrams)\n",
    "\n",
    "bigram_counts.most_common(20)"
   ]
  },
  {
   "cell_type": "code",
   "execution_count": 132,
   "metadata": {},
   "outputs": [
    {
     "data": {
      "text/html": [
       "<div>\n",
       "<style scoped>\n",
       "    .dataframe tbody tr th:only-of-type {\n",
       "        vertical-align: middle;\n",
       "    }\n",
       "\n",
       "    .dataframe tbody tr th {\n",
       "        vertical-align: top;\n",
       "    }\n",
       "\n",
       "    .dataframe thead th {\n",
       "        text-align: right;\n",
       "    }\n",
       "</style>\n",
       "<table border=\"1\" class=\"dataframe\">\n",
       "  <thead>\n",
       "    <tr style=\"text-align: right;\">\n",
       "      <th></th>\n",
       "      <th>bigram</th>\n",
       "      <th>count</th>\n",
       "    </tr>\n",
       "  </thead>\n",
       "  <tbody>\n",
       "    <tr>\n",
       "      <th>0</th>\n",
       "      <td>(clarence, thomas)</td>\n",
       "      <td>65</td>\n",
       "    </tr>\n",
       "    <tr>\n",
       "      <th>1</th>\n",
       "      <td>(domestic, supply)</td>\n",
       "      <td>50</td>\n",
       "    </tr>\n",
       "    <tr>\n",
       "      <th>2</th>\n",
       "      <td>(noliewithbtc, new)</td>\n",
       "      <td>44</td>\n",
       "    </tr>\n",
       "    <tr>\n",
       "      <th>3</th>\n",
       "      <td>(supply, infants)</td>\n",
       "      <td>44</td>\n",
       "    </tr>\n",
       "    <tr>\n",
       "      <th>4</th>\n",
       "      <td>(new, sen)</td>\n",
       "      <td>42</td>\n",
       "    </tr>\n",
       "    <tr>\n",
       "      <th>5</th>\n",
       "      <td>(sen, kirsten)</td>\n",
       "      <td>42</td>\n",
       "    </tr>\n",
       "    <tr>\n",
       "      <th>6</th>\n",
       "      <td>(kirsten, gillibrand)</td>\n",
       "      <td>42</td>\n",
       "    </tr>\n",
       "    <tr>\n",
       "      <th>7</th>\n",
       "      <td>(gillibrand, outrage)</td>\n",
       "      <td>42</td>\n",
       "    </tr>\n",
       "    <tr>\n",
       "      <th>8</th>\n",
       "      <td>(outrage, 5)</td>\n",
       "      <td>42</td>\n",
       "    </tr>\n",
       "    <tr>\n",
       "      <th>9</th>\n",
       "      <td>(5, lied)</td>\n",
       "      <td>42</td>\n",
       "    </tr>\n",
       "    <tr>\n",
       "      <th>10</th>\n",
       "      <td>(lied, lied)</td>\n",
       "      <td>42</td>\n",
       "    </tr>\n",
       "    <tr>\n",
       "      <th>11</th>\n",
       "      <td>(lied, c)</td>\n",
       "      <td>42</td>\n",
       "    </tr>\n",
       "    <tr>\n",
       "      <th>12</th>\n",
       "      <td>(roe, v)</td>\n",
       "      <td>38</td>\n",
       "    </tr>\n",
       "    <tr>\n",
       "      <th>13</th>\n",
       "      <td>(justice, clarence)</td>\n",
       "      <td>37</td>\n",
       "    </tr>\n",
       "    <tr>\n",
       "      <th>14</th>\n",
       "      <td>(v, wade)</td>\n",
       "      <td>35</td>\n",
       "    </tr>\n",
       "    <tr>\n",
       "      <th>15</th>\n",
       "      <td>(amy, coney)</td>\n",
       "      <td>33</td>\n",
       "    </tr>\n",
       "    <tr>\n",
       "      <th>16</th>\n",
       "      <td>(occupydemocrats, breaking)</td>\n",
       "      <td>25</td>\n",
       "    </tr>\n",
       "    <tr>\n",
       "      <th>17</th>\n",
       "      <td>(rschooley, supposed)</td>\n",
       "      <td>24</td>\n",
       "    </tr>\n",
       "    <tr>\n",
       "      <th>18</th>\n",
       "      <td>(supposed, believe)</td>\n",
       "      <td>24</td>\n",
       "    </tr>\n",
       "    <tr>\n",
       "      <th>19</th>\n",
       "      <td>(believe, faith)</td>\n",
       "      <td>24</td>\n",
       "    </tr>\n",
       "  </tbody>\n",
       "</table>\n",
       "</div>"
      ],
      "text/plain": [
       "                         bigram  count\n",
       "0            (clarence, thomas)     65\n",
       "1            (domestic, supply)     50\n",
       "2           (noliewithbtc, new)     44\n",
       "3             (supply, infants)     44\n",
       "4                    (new, sen)     42\n",
       "5                (sen, kirsten)     42\n",
       "6         (kirsten, gillibrand)     42\n",
       "7         (gillibrand, outrage)     42\n",
       "8                  (outrage, 5)     42\n",
       "9                     (5, lied)     42\n",
       "10                 (lied, lied)     42\n",
       "11                    (lied, c)     42\n",
       "12                     (roe, v)     38\n",
       "13          (justice, clarence)     37\n",
       "14                    (v, wade)     35\n",
       "15                 (amy, coney)     33\n",
       "16  (occupydemocrats, breaking)     25\n",
       "17        (rschooley, supposed)     24\n",
       "18          (supposed, believe)     24\n",
       "19             (believe, faith)     24"
      ]
     },
     "execution_count": 132,
     "metadata": {},
     "output_type": "execute_result"
    }
   ],
   "source": [
    "bigram_df = pd.DataFrame(bigram_counts.most_common(20),\n",
    "                             columns=['bigram', 'count'])\n",
    "\n",
    "bigram_df"
   ]
  },
  {
   "cell_type": "code",
   "execution_count": 133,
   "metadata": {},
   "outputs": [],
   "source": [
    "# Create dictionary of bigrams and their counts\n",
    "d = bigram_df.set_index('bigram').T.to_dict('records')"
   ]
  },
  {
   "cell_type": "code",
   "execution_count": 134,
   "metadata": {},
   "outputs": [
    {
     "data": {
      "text/plain": [
       "[{('clarence', 'thomas'): 65,\n",
       "  ('domestic', 'supply'): 50,\n",
       "  ('noliewithbtc', 'new'): 44,\n",
       "  ('supply', 'infants'): 44,\n",
       "  ('new', 'sen'): 42,\n",
       "  ('sen', 'kirsten'): 42,\n",
       "  ('kirsten', 'gillibrand'): 42,\n",
       "  ('gillibrand', 'outrage'): 42,\n",
       "  ('outrage', '5'): 42,\n",
       "  ('5', 'lied'): 42,\n",
       "  ('lied', 'lied'): 42,\n",
       "  ('lied', 'c'): 42,\n",
       "  ('roe', 'v'): 38,\n",
       "  ('justice', 'clarence'): 37,\n",
       "  ('v', 'wade'): 35,\n",
       "  ('amy', 'coney'): 33,\n",
       "  ('occupydemocrats', 'breaking'): 25,\n",
       "  ('rschooley', 'supposed'): 24,\n",
       "  ('supposed', 'believe'): 24,\n",
       "  ('believe', 'faith'): 24}]"
      ]
     },
     "execution_count": 134,
     "metadata": {},
     "output_type": "execute_result"
    }
   ],
   "source": [
    "d"
   ]
  },
  {
   "cell_type": "code",
   "execution_count": 136,
   "metadata": {},
   "outputs": [
    {
     "name": "stdout",
     "output_type": "stream",
     "text": [
      "Collecting textblob\n",
      "  Downloading textblob-0.17.1-py2.py3-none-any.whl (636 kB)\n",
      "\u001b[K     |████████████████████████████████| 636 kB 1.3 MB/s eta 0:00:01\n",
      "\u001b[?25hRequirement already satisfied: nltk>=3.1 in /Users/wei/opt/anaconda3/lib/python3.8/site-packages (from textblob) (3.7)\n",
      "Requirement already satisfied: joblib in /Users/wei/opt/anaconda3/lib/python3.8/site-packages (from nltk>=3.1->textblob) (1.1.0)\n",
      "Requirement already satisfied: click in /Users/wei/opt/anaconda3/lib/python3.8/site-packages (from nltk>=3.1->textblob) (8.0.4)\n",
      "Requirement already satisfied: tqdm in /Users/wei/opt/anaconda3/lib/python3.8/site-packages (from nltk>=3.1->textblob) (4.64.0)\n",
      "Requirement already satisfied: regex>=2021.8.3 in /Users/wei/opt/anaconda3/lib/python3.8/site-packages (from nltk>=3.1->textblob) (2022.3.15)\n",
      "Installing collected packages: textblob\n",
      "Successfully installed textblob-0.17.1\n",
      "Note: you may need to restart the kernel to use updated packages.\n"
     ]
    }
   ],
   "source": [
    "pip install -U textblob"
   ]
  },
  {
   "cell_type": "code",
   "execution_count": 137,
   "metadata": {},
   "outputs": [],
   "source": [
    "from textblob import TextBlob"
   ]
  },
  {
   "cell_type": "code",
   "execution_count": 138,
   "metadata": {},
   "outputs": [
    {
     "data": {
      "text/plain": [
       "(0.03333333333333333,\n",
       " TextBlob(\"RT DeclanLeary Abortion fanaticism only makes sense when you accept the spiritual dimension of this conflict The cult of Moloch is alive\"))"
      ]
     },
     "execution_count": 138,
     "metadata": {},
     "output_type": "execute_result"
    }
   ],
   "source": [
    "# Create textblob objects of the tweets\n",
    "sentiment_objects = [TextBlob(tweet) for tweet in all_tweets_no_urls]\n",
    "\n",
    "sentiment_objects[0].polarity, sentiment_objects[0]"
   ]
  },
  {
   "cell_type": "code",
   "execution_count": 139,
   "metadata": {},
   "outputs": [
    {
     "data": {
      "text/plain": [
       "(0.14999999999999997,\n",
       " TextBlob(\"RT TeriKanefield Good thread I had some of this in my blog post this weekendThe reason the Supreme Court has been behind the times\"))"
      ]
     },
     "execution_count": 139,
     "metadata": {},
     "output_type": "execute_result"
    }
   ],
   "source": [
    "sentiment_objects[1].polarity, sentiment_objects[1]"
   ]
  },
  {
   "cell_type": "code",
   "execution_count": 140,
   "metadata": {},
   "outputs": [
    {
     "data": {
      "text/plain": [
       "(0.13636363636363635,\n",
       " TextBlob(\"RT NoLieWithBTC NEW Sen Kirsten Gillibrand It is an outrage that we have 5 justices on the Supreme Court who lied LIED in their c\"))"
      ]
     },
     "execution_count": 140,
     "metadata": {},
     "output_type": "execute_result"
    }
   ],
   "source": [
    "sentiment_objects[4].polarity, sentiment_objects[4]"
   ]
  },
  {
   "cell_type": "code",
   "execution_count": 141,
   "metadata": {},
   "outputs": [
    {
     "data": {
      "text/plain": [
       "[0.03333333333333333,\n",
       " 'RT DeclanLeary Abortion fanaticism only makes sense when you accept the spiritual dimension of this conflict The cult of Moloch is alive']"
      ]
     },
     "execution_count": 141,
     "metadata": {},
     "output_type": "execute_result"
    }
   ],
   "source": [
    "# Create list of polarity valuesx and tweet text\n",
    "sentiment_values = [[tweet.sentiment.polarity, str(tweet)] for tweet in sentiment_objects]\n",
    "\n",
    "sentiment_values[0]"
   ]
  },
  {
   "cell_type": "code",
   "execution_count": 142,
   "metadata": {},
   "outputs": [
    {
     "data": {
      "text/html": [
       "<div>\n",
       "<style scoped>\n",
       "    .dataframe tbody tr th:only-of-type {\n",
       "        vertical-align: middle;\n",
       "    }\n",
       "\n",
       "    .dataframe tbody tr th {\n",
       "        vertical-align: top;\n",
       "    }\n",
       "\n",
       "    .dataframe thead th {\n",
       "        text-align: right;\n",
       "    }\n",
       "</style>\n",
       "<table border=\"1\" class=\"dataframe\">\n",
       "  <thead>\n",
       "    <tr style=\"text-align: right;\">\n",
       "      <th></th>\n",
       "      <th>polarity</th>\n",
       "      <th>tweet</th>\n",
       "    </tr>\n",
       "  </thead>\n",
       "  <tbody>\n",
       "    <tr>\n",
       "      <th>0</th>\n",
       "      <td>0.033333</td>\n",
       "      <td>RT DeclanLeary Abortion fanaticism only makes ...</td>\n",
       "    </tr>\n",
       "    <tr>\n",
       "      <th>1</th>\n",
       "      <td>0.150000</td>\n",
       "      <td>RT TeriKanefield Good thread I had some of thi...</td>\n",
       "    </tr>\n",
       "    <tr>\n",
       "      <th>2</th>\n",
       "      <td>0.000000</td>\n",
       "      <td>RT tnicholsmd When a Supreme Court Justice wri...</td>\n",
       "    </tr>\n",
       "    <tr>\n",
       "      <th>3</th>\n",
       "      <td>0.000000</td>\n",
       "      <td>RT MrAndyNgo Antifa in the Pacific NW have bec...</td>\n",
       "    </tr>\n",
       "    <tr>\n",
       "      <th>4</th>\n",
       "      <td>0.136364</td>\n",
       "      <td>RT NoLieWithBTC NEW Sen Kirsten Gillibrand It ...</td>\n",
       "    </tr>\n",
       "  </tbody>\n",
       "</table>\n",
       "</div>"
      ],
      "text/plain": [
       "   polarity                                              tweet\n",
       "0  0.033333  RT DeclanLeary Abortion fanaticism only makes ...\n",
       "1  0.150000  RT TeriKanefield Good thread I had some of thi...\n",
       "2  0.000000  RT tnicholsmd When a Supreme Court Justice wri...\n",
       "3  0.000000  RT MrAndyNgo Antifa in the Pacific NW have bec...\n",
       "4  0.136364  RT NoLieWithBTC NEW Sen Kirsten Gillibrand It ..."
      ]
     },
     "execution_count": 142,
     "metadata": {},
     "output_type": "execute_result"
    }
   ],
   "source": [
    "sentiment_df = pd.DataFrame(sentiment_values, columns=[\"polarity\", \"tweet\"])\n",
    "\n",
    "sentiment_df.head()"
   ]
  },
  {
   "cell_type": "code",
   "execution_count": 144,
   "metadata": {},
   "outputs": [
    {
     "data": {
      "image/png": "[encoded data removed]",
      "text/plain": [
       "<Figure size 576x432 with 1 Axes>"
      ]
     },
     "metadata": {},
     "output_type": "display_data"
    }
   ],
   "source": [
    "fig, ax = plt.subplots(figsize=(8, 6))\n",
    "\n",
    "# Plot histogram of the polarity values\n",
    "sentiment_df.hist(bins=[-1, -0.75, -0.5, -0.25, 0.25, 0.5, 0.75, 1],\n",
    "             ax=ax,\n",
    "             color=\"purple\")\n",
    "\n",
    "plt.title(\"Sentiments from Tweets on Supreme Court\")\n",
    "plt.show()"
   ]
  },
  {
   "cell_type": "code",
   "execution_count": 145,
   "metadata": {},
   "outputs": [],
   "source": [
    "# Remove polarity values equal to zero\n",
    "sentiment_df = sentiment_df[sentiment_df.polarity != 0]"
   ]
  },
  {
   "cell_type": "code",
   "execution_count": 146,
   "metadata": {},
   "outputs": [
    {
     "data": {
      "image/png": "[encoded data removed]",
      "text/plain": [
       "<Figure size 576x432 with 1 Axes>"
      ]
     },
     "metadata": {},
     "output_type": "display_data"
    }
   ],
   "source": [
    "fig, ax = plt.subplots(figsize=(8, 6))\n",
    "\n",
    "# Plot histogram with break at zero\n",
    "sentiment_df.hist(bins=[-1, -0.75, -0.5, -0.25, 0.0, 0.25, 0.5, 0.75, 1],\n",
    "             ax=ax,\n",
    "             color=\"purple\")\n",
    "\n",
    "plt.title(\"Sentiments from Tweets on Donald Trump\")\n",
    "plt.show()"
   ]
  },
  {
   "cell_type": "markdown",
   "metadata": {},
   "source": [
    "## `twython`"
   ]
  },
  {
   "cell_type": "code",
   "execution_count": 3,
   "metadata": {},
   "outputs": [
    {
     "name": "stdout",
     "output_type": "stream",
     "text": [
      "Collecting twython\n",
      "  Downloading twython-3.9.1-py3-none-any.whl (33 kB)\n",
      "Collecting requests-oauthlib>=0.4.0\n",
      "  Downloading requests_oauthlib-1.3.1-py2.py3-none-any.whl (23 kB)\n",
      "Requirement already satisfied: requests>=2.1.0 in /Users/wxiao/opt/anaconda3/lib/python3.8/site-packages (from twython) (2.27.1)\n",
      "Requirement already satisfied: certifi>=2017.4.17 in /Users/wxiao/opt/anaconda3/lib/python3.8/site-packages (from requests>=2.1.0->twython) (2021.10.8)\n",
      "Requirement already satisfied: idna<4,>=2.5 in /Users/wxiao/opt/anaconda3/lib/python3.8/site-packages (from requests>=2.1.0->twython) (3.3)\n",
      "Requirement already satisfied: urllib3<1.27,>=1.21.1 in /Users/wxiao/opt/anaconda3/lib/python3.8/site-packages (from requests>=2.1.0->twython) (1.26.8)\n",
      "Requirement already satisfied: charset-normalizer~=2.0.0 in /Users/wxiao/opt/anaconda3/lib/python3.8/site-packages (from requests>=2.1.0->twython) (2.0.4)\n",
      "Collecting oauthlib>=3.0.0\n",
      "  Downloading oauthlib-3.2.0-py3-none-any.whl (151 kB)\n",
      "\u001b[K     |████████████████████████████████| 151 kB 2.9 MB/s eta 0:00:01\n",
      "\u001b[?25hInstalling collected packages: oauthlib, requests-oauthlib, twython\n",
      "Successfully installed oauthlib-3.2.0 requests-oauthlib-1.3.1 twython-3.9.1\n",
      "Note: you may need to restart the kernel to use updated packages.\n"
     ]
    }
   ],
   "source": [
    "pip install twython"
   ]
  },
  {
   "cell_type": "markdown",
   "metadata": {},
   "source": [
    "## Search API"
   ]
  },
  {
   "cell_type": "code",
   "execution_count": 1,
   "metadata": {},
   "outputs": [],
   "source": [
    "import pandas as pd\n",
    "import matplotlib.pyplot as plt"
   ]
  },
  {
   "cell_type": "code",
   "execution_count": 4,
   "metadata": {},
   "outputs": [],
   "source": [
    "# Import the Twython class\n",
    "from twython import Twython\n",
    "import json\n",
    "\n",
    "# Load credentials from json file\n",
    "with open(\"twitter_credentials.json\", \"r\") as file:\n",
    "    creds = json.load(file)\n",
    "\n",
    "# Instantiate an object\n",
    "python_tweets = Twython(creds['CONSUMER_KEY'], creds['CONSUMER_SECRET'])"
   ]
  },
  {
   "cell_type": "code",
   "execution_count": 7,
   "metadata": {},
   "outputs": [],
   "source": [
    "# Create our query\n",
    "query = {'q': 'Donald Trump',\n",
    "        'result_type': 'popular',\n",
    "        'count': 3,\n",
    "        'lang': 'en',\n",
    "        }"
   ]
  },
  {
   "cell_type": "code",
   "execution_count": 8,
   "metadata": {},
   "outputs": [
    {
     "data": {
      "text/plain": [
       "{'statuses': [{'created_at': 'Wed May 04 21:17:22 +0000 2022',\n",
       "   'id': 1521962209319940097,\n",
       "   'id_str': '1521962209319940097',\n",
       "   'text': 'BREAKING: Donald Trump absurdly claims that \"nobody has done more for Christianity\" than him — meaning that he now… https://t.co/aHlriRFVSG',\n",
       "   'truncated': True,\n",
       "   'entities': {'hashtags': [],\n",
       "    'symbols': [],\n",
       "    'user_mentions': [],\n",
       "    'urls': [{'url': 'https://t.co/aHlriRFVSG',\n",
       "      'expanded_url': 'https://twitter.com/i/web/status/1521962209319940097',\n",
       "      'display_url': 'twitter.com/i/web/status/1…',\n",
       "      'indices': [116, 139]}]},\n",
       "   'metadata': {'result_type': 'popular', 'iso_language_code': 'en'},\n",
       "   'source': '<a href=\"https://mobile.twitter.com\" rel=\"nofollow\">Twitter Web App</a>',\n",
       "   'in_reply_to_status_id': None,\n",
       "   'in_reply_to_status_id_str': None,\n",
       "   'in_reply_to_user_id': None,\n",
       "   'in_reply_to_user_id_str': None,\n",
       "   'in_reply_to_screen_name': None,\n",
       "   'user': {'id': 878284831,\n",
       "    'id_str': '878284831',\n",
       "    'name': 'Occupy Democrats',\n",
       "    'screen_name': 'OccupyDemocrats',\n",
       "    'location': 'United States',\n",
       "    'description': 'Grassroots political organization & news website supporing progressive Democrats. NY Times reported that our reach dominated Trump on Facebook before his ban.',\n",
       "    'url': 'https://t.co/DD4R7PMEhq',\n",
       "    'entities': {'url': {'urls': [{'url': 'https://t.co/DD4R7PMEhq',\n",
       "        'expanded_url': 'http://facebook.com/OccupyDemocrats',\n",
       "        'display_url': 'facebook.com/OccupyDemocrats',\n",
       "        'indices': [0, 23]}]},\n",
       "     'description': {'urls': []}},\n",
       "    'protected': False,\n",
       "    'followers_count': 342888,\n",
       "    'friends_count': 19982,\n",
       "    'listed_count': 1747,\n",
       "    'created_at': 'Sat Oct 13 17:12:40 +0000 2012',\n",
       "    'favourites_count': 46690,\n",
       "    'utc_offset': None,\n",
       "    'time_zone': None,\n",
       "    'geo_enabled': True,\n",
       "    'verified': True,\n",
       "    'statuses_count': 91062,\n",
       "    'lang': None,\n",
       "    'contributors_enabled': False,\n",
       "    'is_translator': False,\n",
       "    'is_translation_enabled': False,\n",
       "    'profile_background_color': 'C0DEED',\n",
       "    'profile_background_image_url': 'http://abs.twimg.com/images/themes/theme1/bg.png',\n",
       "    'profile_background_image_url_https': 'https://abs.twimg.com/images/themes/theme1/bg.png',\n",
       "    'profile_background_tile': True,\n",
       "    'profile_image_url': 'http://pbs.twimg.com/profile_images/1359256353563361281/575wUJYy_normal.jpg',\n",
       "    'profile_image_url_https': 'https://pbs.twimg.com/profile_images/1359256353563361281/575wUJYy_normal.jpg',\n",
       "    'profile_banner_url': 'https://pbs.twimg.com/profile_banners/878284831/1486412431',\n",
       "    'profile_link_color': '1B95E0',\n",
       "    'profile_sidebar_border_color': 'FFFFFF',\n",
       "    'profile_sidebar_fill_color': 'DDEEF6',\n",
       "    'profile_text_color': '333333',\n",
       "    'profile_use_background_image': True,\n",
       "    'has_extended_profile': False,\n",
       "    'default_profile': False,\n",
       "    'default_profile_image': False,\n",
       "    'following': None,\n",
       "    'follow_request_sent': None,\n",
       "    'notifications': None,\n",
       "    'translator_type': 'none',\n",
       "    'withheld_in_countries': []},\n",
       "   'geo': None,\n",
       "   'coordinates': None,\n",
       "   'place': None,\n",
       "   'contributors': None,\n",
       "   'is_quote_status': False,\n",
       "   'retweet_count': 1911,\n",
       "   'favorite_count': 3741,\n",
       "   'favorited': False,\n",
       "   'retweeted': False,\n",
       "   'lang': 'en'},\n",
       "  {'created_at': 'Thu May 05 00:34:32 +0000 2022',\n",
       "   'id': 1522011831908380672,\n",
       "   'id_str': '1522011831908380672',\n",
       "   'text': 'DONALD TRUMP WON 🥇 🇺🇸',\n",
       "   'truncated': False,\n",
       "   'entities': {'hashtags': [],\n",
       "    'symbols': [],\n",
       "    'user_mentions': [],\n",
       "    'urls': []},\n",
       "   'metadata': {'result_type': 'popular', 'iso_language_code': 'en'},\n",
       "   'source': '<a href=\"http://twitter.com/download/iphone\" rel=\"nofollow\">Twitter for iPhone</a>',\n",
       "   'in_reply_to_status_id': None,\n",
       "   'in_reply_to_status_id_str': None,\n",
       "   'in_reply_to_user_id': None,\n",
       "   'in_reply_to_user_id_str': None,\n",
       "   'in_reply_to_screen_name': None,\n",
       "   'user': {'id': 1100153767708819457,\n",
       "    'id_str': '1100153767708819457',\n",
       "    'name': 'Sandy Smith NC',\n",
       "    'screen_name': 'SandySmithNC',\n",
       "    'location': 'North Carolina, USA',\n",
       "    'description': 'Proud Conservative Republican  ⭐️2022 U.S. Congress-(#NC01) ⭐️2020 Nominee⭐️#ProTrump #ProVets #ProWall #Pro2nd #ProLife #MAGA https://t.co/wC2nHrLx7B',\n",
       "    'url': 'https://t.co/pGiYaRcgxZ',\n",
       "    'entities': {'url': {'urls': [{'url': 'https://t.co/pGiYaRcgxZ',\n",
       "        'expanded_url': 'https://sandysmithnc.com',\n",
       "        'display_url': 'sandysmithnc.com',\n",
       "        'indices': [0, 23]}]},\n",
       "     'description': {'urls': [{'url': 'https://t.co/wC2nHrLx7B',\n",
       "        'expanded_url': 'http://t.me/sandysmithnc',\n",
       "        'display_url': 't.me/sandysmithnc',\n",
       "        'indices': [127, 150]}]}},\n",
       "    'protected': False,\n",
       "    'followers_count': 27298,\n",
       "    'friends_count': 4331,\n",
       "    'listed_count': 70,\n",
       "    'created_at': 'Mon Feb 25 22:01:12 +0000 2019',\n",
       "    'favourites_count': 3168,\n",
       "    'utc_offset': None,\n",
       "    'time_zone': None,\n",
       "    'geo_enabled': True,\n",
       "    'verified': True,\n",
       "    'statuses_count': 2112,\n",
       "    'lang': None,\n",
       "    'contributors_enabled': False,\n",
       "    'is_translator': False,\n",
       "    'is_translation_enabled': False,\n",
       "    'profile_background_color': 'F5F8FA',\n",
       "    'profile_background_image_url': None,\n",
       "    'profile_background_image_url_https': None,\n",
       "    'profile_background_tile': False,\n",
       "    'profile_image_url': 'http://pbs.twimg.com/profile_images/1390040445217083404/P5q3dc3v_normal.jpg',\n",
       "    'profile_image_url_https': 'https://pbs.twimg.com/profile_images/1390040445217083404/P5q3dc3v_normal.jpg',\n",
       "    'profile_banner_url': 'https://pbs.twimg.com/profile_banners/1100153767708819457/1620771926',\n",
       "    'profile_link_color': '1DA1F2',\n",
       "    'profile_sidebar_border_color': 'C0DEED',\n",
       "    'profile_sidebar_fill_color': 'DDEEF6',\n",
       "    'profile_text_color': '333333',\n",
       "    'profile_use_background_image': True,\n",
       "    'has_extended_profile': False,\n",
       "    'default_profile': True,\n",
       "    'default_profile_image': False,\n",
       "    'following': None,\n",
       "    'follow_request_sent': None,\n",
       "    'notifications': None,\n",
       "    'translator_type': 'none',\n",
       "    'withheld_in_countries': []},\n",
       "   'geo': None,\n",
       "   'coordinates': None,\n",
       "   'place': None,\n",
       "   'contributors': None,\n",
       "   'is_quote_status': False,\n",
       "   'retweet_count': 3356,\n",
       "   'favorite_count': 26812,\n",
       "   'favorited': False,\n",
       "   'retweeted': False,\n",
       "   'lang': 'en'},\n",
       "  {'created_at': 'Wed May 04 00:29:42 +0000 2022',\n",
       "   'id': 1521648224964161537,\n",
       "   'id_str': '1521648224964161537',\n",
       "   'text': \"Trump's Department of Homeland Security delayed &amp; altered an intelligence report related to Russian interference in… https://t.co/l2lgexW8As\",\n",
       "   'truncated': True,\n",
       "   'entities': {'hashtags': [],\n",
       "    'symbols': [],\n",
       "    'user_mentions': [],\n",
       "    'urls': [{'url': 'https://t.co/l2lgexW8As',\n",
       "      'expanded_url': 'https://twitter.com/i/web/status/1521648224964161537',\n",
       "      'display_url': 'twitter.com/i/web/status/1…',\n",
       "      'indices': [121, 144]}]},\n",
       "   'metadata': {'result_type': 'popular', 'iso_language_code': 'en'},\n",
       "   'source': '<a href=\"https://mobile.twitter.com\" rel=\"nofollow\">Twitter Web App</a>',\n",
       "   'in_reply_to_status_id': None,\n",
       "   'in_reply_to_status_id_str': None,\n",
       "   'in_reply_to_user_id': None,\n",
       "   'in_reply_to_user_id_str': None,\n",
       "   'in_reply_to_screen_name': None,\n",
       "   'user': {'id': 105327432,\n",
       "    'id_str': '105327432',\n",
       "    'name': 'Julia Davis',\n",
       "    'screen_name': 'JuliaDavisNews',\n",
       "    'location': 'United States',\n",
       "    'description': \"Columnist @TheDailyBeast, creator of the Russian Media Monitor, member @TheEmmys, @SAGAFTRA, @FLEOAORG.\\n\\nI watch Russian state TV, so you don't have to.\",\n",
       "    'url': 'https://t.co/jkgE3TNxS4',\n",
       "    'entities': {'url': {'urls': [{'url': 'https://t.co/jkgE3TNxS4',\n",
       "        'expanded_url': 'https://www.thedailybeast.com/author/julia-davis',\n",
       "        'display_url': 'thedailybeast.com/author/julia-d…',\n",
       "        'indices': [0, 23]}]},\n",
       "     'description': {'urls': []}},\n",
       "    'protected': False,\n",
       "    'followers_count': 269594,\n",
       "    'friends_count': 1628,\n",
       "    'listed_count': 3862,\n",
       "    'created_at': 'Sat Jan 16 01:34:50 +0000 2010',\n",
       "    'favourites_count': 138542,\n",
       "    'utc_offset': None,\n",
       "    'time_zone': None,\n",
       "    'geo_enabled': False,\n",
       "    'verified': True,\n",
       "    'statuses_count': 102172,\n",
       "    'lang': None,\n",
       "    'contributors_enabled': False,\n",
       "    'is_translator': False,\n",
       "    'is_translation_enabled': False,\n",
       "    'profile_background_color': 'F71B1B',\n",
       "    'profile_background_image_url': 'http://abs.twimg.com/images/themes/theme12/bg.gif',\n",
       "    'profile_background_image_url_https': 'https://abs.twimg.com/images/themes/theme12/bg.gif',\n",
       "    'profile_background_tile': False,\n",
       "    'profile_image_url': 'http://pbs.twimg.com/profile_images/1173814137878646784/Gu54B4pc_normal.png',\n",
       "    'profile_image_url_https': 'https://pbs.twimg.com/profile_images/1173814137878646784/Gu54B4pc_normal.png',\n",
       "    'profile_banner_url': 'https://pbs.twimg.com/profile_banners/105327432/1650210538',\n",
       "    'profile_link_color': '395A61',\n",
       "    'profile_sidebar_border_color': '1AFF05',\n",
       "    'profile_sidebar_fill_color': 'FFD9F7',\n",
       "    'profile_text_color': '0E0F0F',\n",
       "    'profile_use_background_image': True,\n",
       "    'has_extended_profile': True,\n",
       "    'default_profile': False,\n",
       "    'default_profile_image': False,\n",
       "    'following': None,\n",
       "    'follow_request_sent': None,\n",
       "    'notifications': None,\n",
       "    'translator_type': 'none',\n",
       "    'withheld_in_countries': []},\n",
       "   'geo': None,\n",
       "   'coordinates': None,\n",
       "   'place': None,\n",
       "   'contributors': None,\n",
       "   'is_quote_status': False,\n",
       "   'retweet_count': 6253,\n",
       "   'favorite_count': 11079,\n",
       "   'favorited': False,\n",
       "   'retweeted': False,\n",
       "   'possibly_sensitive': False,\n",
       "   'lang': 'en'}],\n",
       " 'search_metadata': {'completed_in': 0.025,\n",
       "  'max_id': 0,\n",
       "  'max_id_str': '0',\n",
       "  'next_results': '?max_id=1521648224964161536&q=Donald%20Trump&lang=en&count=3&include_entities=1&result_type=popular',\n",
       "  'query': 'Donald+Trump',\n",
       "  'count': 3,\n",
       "  'since_id': 0,\n",
       "  'since_id_str': '0'}}"
      ]
     },
     "execution_count": 8,
     "metadata": {},
     "output_type": "execute_result"
    }
   ],
   "source": [
    "python_tweets.search(**query)"
   ]
  },
  {
   "cell_type": "code",
   "execution_count": 9,
   "metadata": {},
   "outputs": [
    {
     "data": {
      "text/html": [
       "<div>\n",
       "<style scoped>\n",
       "    .dataframe tbody tr th:only-of-type {\n",
       "        vertical-align: middle;\n",
       "    }\n",
       "\n",
       "    .dataframe tbody tr th {\n",
       "        vertical-align: top;\n",
       "    }\n",
       "\n",
       "    .dataframe thead th {\n",
       "        text-align: right;\n",
       "    }\n",
       "</style>\n",
       "<table border=\"1\" class=\"dataframe\">\n",
       "  <thead>\n",
       "    <tr style=\"text-align: right;\">\n",
       "      <th></th>\n",
       "      <th>user</th>\n",
       "      <th>date</th>\n",
       "      <th>text</th>\n",
       "      <th>favorite_count</th>\n",
       "    </tr>\n",
       "  </thead>\n",
       "  <tbody>\n",
       "    <tr>\n",
       "      <th>1</th>\n",
       "      <td>SandySmithNC</td>\n",
       "      <td>Thu May 05 00:34:32 +0000 2022</td>\n",
       "      <td>DONALD TRUMP WON 🥇 🇺🇸</td>\n",
       "      <td>26823</td>\n",
       "    </tr>\n",
       "    <tr>\n",
       "      <th>2</th>\n",
       "      <td>JuliaDavisNews</td>\n",
       "      <td>Wed May 04 00:29:42 +0000 2022</td>\n",
       "      <td>Trump's Department of Homeland Security delaye...</td>\n",
       "      <td>11079</td>\n",
       "    </tr>\n",
       "    <tr>\n",
       "      <th>0</th>\n",
       "      <td>OccupyDemocrats</td>\n",
       "      <td>Wed May 04 21:17:22 +0000 2022</td>\n",
       "      <td>BREAKING: Donald Trump absurdly claims that \"n...</td>\n",
       "      <td>3741</td>\n",
       "    </tr>\n",
       "  </tbody>\n",
       "</table>\n",
       "</div>"
      ],
      "text/plain": [
       "              user                            date  \\\n",
       "1     SandySmithNC  Thu May 05 00:34:32 +0000 2022   \n",
       "2   JuliaDavisNews  Wed May 04 00:29:42 +0000 2022   \n",
       "0  OccupyDemocrats  Wed May 04 21:17:22 +0000 2022   \n",
       "\n",
       "                                                text  favorite_count  \n",
       "1                              DONALD TRUMP WON 🥇 🇺🇸           26823  \n",
       "2  Trump's Department of Homeland Security delaye...           11079  \n",
       "0  BREAKING: Donald Trump absurdly claims that \"n...            3741  "
      ]
     },
     "execution_count": 9,
     "metadata": {},
     "output_type": "execute_result"
    }
   ],
   "source": [
    "# Search tweets\n",
    "dict_ = {'user': [], 'date': [], 'text': [], 'favorite_count': []}\n",
    "for status in python_tweets.search(**query)['statuses']:\n",
    "    dict_['user'].append(status['user']['screen_name'])\n",
    "    dict_['date'].append(status['created_at'])\n",
    "    dict_['text'].append(status['text'])\n",
    "    dict_['favorite_count'].append(status['favorite_count'])\n",
    "\n",
    "# Structure data in a pandas DataFrame for easier manipulation\n",
    "df = pd.DataFrame(dict_)\n",
    "df.sort_values(by='favorite_count', inplace=True, ascending=False)\n",
    "df.head(5)"
   ]
  },
  {
   "cell_type": "markdown",
   "metadata": {},
   "source": [
    "## Streaming API"
   ]
  },
  {
   "cell_type": "markdown",
   "metadata": {},
   "source": [
    "While the previous example showed a one-off search, a more interesting case would be to collect a stream of tweets. This is done using the Twitter Streaming API, and Twython has an easy way to do it through the TwythonStreamer class. We'll need to define a class MyStreamer that inherits TwythonStreamer and then override the on_success and on_error methods, as follows.\n",
    "\n",
    "The on_success method is called automatically when twitter sends us data, while the on_error whenever a problem occurs with the API (most commonly due to constraints of the Twitter APIs). The added method save_to_csv is a useful way to store tweets to file.\n",
    "\n",
    "Similar to the previous example, we won't save all the data in a tweet, but only the fields we are interested in, such as: hashtags used, user name, user's location, and the text of the tweet itself. There's a lot of interesting information in a tweet, so feel free to experiment with it. Note that we'll store the tweet location as present on the user's profile, which might not correspond to the current or real location of the user sending the tweet. This is because only a small portion of Twitter users provide their current location - usually in the coordinates key of the tweet data."
   ]
  },
  {
   "cell_type": "code",
   "execution_count": 10,
   "metadata": {},
   "outputs": [],
   "source": [
    "from twython import TwythonStreamer\n",
    "import csv\n",
    "\n",
    "# Filter out unwanted data\n",
    "def process_tweet(tweet):\n",
    "    d = {}\n",
    "    d['hashtags'] = [hashtag['text'] for hashtag in tweet['entities']['hashtags']]\n",
    "    d['text'] = tweet['text']\n",
    "    d['user'] = tweet['user']['screen_name']\n",
    "    d['user_loc'] = tweet['user']['location']\n",
    "    return d\n",
    "    \n",
    "    \n",
    "# Create a class that inherits TwythonStreamer\n",
    "class MyStreamer(TwythonStreamer):     \n",
    "    # Received data\n",
    "    def on_success(self, data):\n",
    "            \n",
    "        # Only collect tweets in English        \n",
    "        if data['lang'] == 'en':\n",
    "            tweet_data = process_tweet(data)\n",
    "            self.save_to_csv(tweet_data)\n",
    "\n",
    "    # Problem with the API\n",
    "    def on_error(self, status_code, data):\n",
    "        print(status_code, data)\n",
    "        self.disconnect()\n",
    "        \n",
    "    # Save each tweet to csv file\n",
    "    def save_to_csv(self, tweet):\n",
    "        with open(r'saved_tweets.csv', 'a') as file:\n",
    "            writer = csv.writer(file)\n",
    "            writer.writerow(list(tweet.values()))"
   ]
  },
  {
   "cell_type": "markdown",
   "metadata": {},
   "source": [
    "The next thing to do is instantiate an object of the MyStreamer class with our credentials passed as arguments, and we'll use the filter method to only collect tweets we're interested in. We'll create our filter with the track argument which provides the filter keywords, in our case \"python\". Besides the track argument, there are more possibilities to fine-tune your filter, listed in the [basic streaming parameters](https://developer.twitter.com/en/docs/tweets/filter-realtime/guides/basic-stream-parameters), such as: collecting tweets from selected users, languages, locations etc. The paid versions of the Streaming API would provide much more filtering options."
   ]
  },
  {
   "cell_type": "code",
   "execution_count": 11,
   "metadata": {},
   "outputs": [
    {
     "ename": "KeyboardInterrupt",
     "evalue": "",
     "output_type": "error",
     "traceback": [
      "\u001b[0;31m---------------------------------------------------------------------------\u001b[0m",
      "\u001b[0;31mKeyboardInterrupt\u001b[0m                         Traceback (most recent call last)",
      "Input \u001b[0;32mIn [11]\u001b[0m, in \u001b[0;36m<cell line: 5>\u001b[0;34m()\u001b[0m\n\u001b[1;32m      2\u001b[0m stream \u001b[38;5;241m=\u001b[39m MyStreamer(creds[\u001b[38;5;124m'\u001b[39m\u001b[38;5;124mCONSUMER_KEY\u001b[39m\u001b[38;5;124m'\u001b[39m], creds[\u001b[38;5;124m'\u001b[39m\u001b[38;5;124mCONSUMER_SECRET\u001b[39m\u001b[38;5;124m'\u001b[39m], \n\u001b[1;32m      3\u001b[0m                     creds[\u001b[38;5;124m'\u001b[39m\u001b[38;5;124mACCESS_TOKEN\u001b[39m\u001b[38;5;124m'\u001b[39m], creds[\u001b[38;5;124m'\u001b[39m\u001b[38;5;124mACCESS_SECRET\u001b[39m\u001b[38;5;124m'\u001b[39m])\n\u001b[1;32m      4\u001b[0m \u001b[38;5;66;03m# Start the stream\u001b[39;00m\n\u001b[0;32m----> 5\u001b[0m \u001b[43mstream\u001b[49m\u001b[38;5;241;43m.\u001b[39;49m\u001b[43mstatuses\u001b[49m\u001b[38;5;241;43m.\u001b[39;49m\u001b[43mfilter\u001b[49m\u001b[43m(\u001b[49m\u001b[43mtrack\u001b[49m\u001b[38;5;241;43m=\u001b[39;49m\u001b[38;5;124;43m'\u001b[39;49m\u001b[38;5;124;43mDonald Trump\u001b[39;49m\u001b[38;5;124;43m'\u001b[39;49m\u001b[43m)\u001b[49m\n",
      "File \u001b[0;32m~/opt/anaconda3/lib/python3.8/site-packages/twython/streaming/types.py:47\u001b[0m, in \u001b[0;36mTwythonStreamerTypesStatuses.filter\u001b[0;34m(self, **params)\u001b[0m\n\u001b[1;32m     38\u001b[0m \u001b[38;5;124mr\u001b[39m\u001b[38;5;124;03m\"\"\"Stream statuses/filter\u001b[39;00m\n\u001b[1;32m     39\u001b[0m \n\u001b[1;32m     40\u001b[0m \u001b[38;5;124;03m:param \\*\\*params: Parameters to send with your stream request\u001b[39;00m\n\u001b[0;32m   (...)\u001b[0m\n\u001b[1;32m     43\u001b[0m \u001b[38;5;124;03mhttps://developer.twitter.com/en/docs/tweets/filter-realtime/api-reference/post-statuses-filter\u001b[39;00m\n\u001b[1;32m     44\u001b[0m \u001b[38;5;124;03m\"\"\"\u001b[39;00m\n\u001b[1;32m     45\u001b[0m url \u001b[38;5;241m=\u001b[39m \u001b[38;5;124m'\u001b[39m\u001b[38;5;124mhttps://stream.twitter.com/\u001b[39m\u001b[38;5;132;01m%s\u001b[39;00m\u001b[38;5;124m/statuses/filter.json\u001b[39m\u001b[38;5;124m'\u001b[39m \\\n\u001b[1;32m     46\u001b[0m       \u001b[38;5;241m%\u001b[39m \u001b[38;5;28mself\u001b[39m\u001b[38;5;241m.\u001b[39mstreamer\u001b[38;5;241m.\u001b[39mapi_version\n\u001b[0;32m---> 47\u001b[0m \u001b[38;5;28;43mself\u001b[39;49m\u001b[38;5;241;43m.\u001b[39;49m\u001b[43mstreamer\u001b[49m\u001b[38;5;241;43m.\u001b[39;49m\u001b[43m_request\u001b[49m\u001b[43m(\u001b[49m\u001b[43murl\u001b[49m\u001b[43m,\u001b[49m\u001b[43m \u001b[49m\u001b[38;5;124;43m'\u001b[39;49m\u001b[38;5;124;43mPOST\u001b[39;49m\u001b[38;5;124;43m'\u001b[39;49m\u001b[43m,\u001b[49m\u001b[43m \u001b[49m\u001b[43mparams\u001b[49m\u001b[38;5;241;43m=\u001b[39;49m\u001b[43mparams\u001b[49m\u001b[43m)\u001b[49m\n",
      "File \u001b[0;32m~/opt/anaconda3/lib/python3.8/site-packages/twython/streaming/api.py:139\u001b[0m, in \u001b[0;36mTwythonStreamer._request\u001b[0;34m(self, url, method, params)\u001b[0m\n\u001b[1;32m    136\u001b[0m \u001b[38;5;28;01mwhile\u001b[39;00m \u001b[38;5;28mself\u001b[39m\u001b[38;5;241m.\u001b[39mconnected:\n\u001b[1;32m    137\u001b[0m     response \u001b[38;5;241m=\u001b[39m _send(retry_counter)\n\u001b[0;32m--> 139\u001b[0m     \u001b[38;5;28;01mfor\u001b[39;00m line \u001b[38;5;129;01min\u001b[39;00m response\u001b[38;5;241m.\u001b[39miter_lines(\u001b[38;5;28mself\u001b[39m\u001b[38;5;241m.\u001b[39mchunk_size):\n\u001b[1;32m    140\u001b[0m         \u001b[38;5;28;01mif\u001b[39;00m \u001b[38;5;129;01mnot\u001b[39;00m \u001b[38;5;28mself\u001b[39m\u001b[38;5;241m.\u001b[39mconnected:\n\u001b[1;32m    141\u001b[0m             \u001b[38;5;28;01mbreak\u001b[39;00m\n",
      "File \u001b[0;32m~/opt/anaconda3/lib/python3.8/site-packages/requests/models.py:804\u001b[0m, in \u001b[0;36mResponse.iter_lines\u001b[0;34m(self, chunk_size, decode_unicode, delimiter)\u001b[0m\n\u001b[1;32m    795\u001b[0m \u001b[38;5;124;03m\"\"\"Iterates over the response data, one line at a time.  When\u001b[39;00m\n\u001b[1;32m    796\u001b[0m \u001b[38;5;124;03mstream=True is set on the request, this avoids reading the\u001b[39;00m\n\u001b[1;32m    797\u001b[0m \u001b[38;5;124;03mcontent at once into memory for large responses.\u001b[39;00m\n\u001b[1;32m    798\u001b[0m \n\u001b[1;32m    799\u001b[0m \u001b[38;5;124;03m.. note:: This method is not reentrant safe.\u001b[39;00m\n\u001b[1;32m    800\u001b[0m \u001b[38;5;124;03m\"\"\"\u001b[39;00m\n\u001b[1;32m    802\u001b[0m pending \u001b[38;5;241m=\u001b[39m \u001b[38;5;28;01mNone\u001b[39;00m\n\u001b[0;32m--> 804\u001b[0m \u001b[38;5;28;01mfor\u001b[39;00m chunk \u001b[38;5;129;01min\u001b[39;00m \u001b[38;5;28mself\u001b[39m\u001b[38;5;241m.\u001b[39miter_content(chunk_size\u001b[38;5;241m=\u001b[39mchunk_size, decode_unicode\u001b[38;5;241m=\u001b[39mdecode_unicode):\n\u001b[1;32m    806\u001b[0m     \u001b[38;5;28;01mif\u001b[39;00m pending \u001b[38;5;129;01mis\u001b[39;00m \u001b[38;5;129;01mnot\u001b[39;00m \u001b[38;5;28;01mNone\u001b[39;00m:\n\u001b[1;32m    807\u001b[0m         chunk \u001b[38;5;241m=\u001b[39m pending \u001b[38;5;241m+\u001b[39m chunk\n",
      "File \u001b[0;32m~/opt/anaconda3/lib/python3.8/site-packages/requests/models.py:760\u001b[0m, in \u001b[0;36mResponse.iter_content.<locals>.generate\u001b[0;34m()\u001b[0m\n\u001b[1;32m    758\u001b[0m \u001b[38;5;28;01mif\u001b[39;00m \u001b[38;5;28mhasattr\u001b[39m(\u001b[38;5;28mself\u001b[39m\u001b[38;5;241m.\u001b[39mraw, \u001b[38;5;124m'\u001b[39m\u001b[38;5;124mstream\u001b[39m\u001b[38;5;124m'\u001b[39m):\n\u001b[1;32m    759\u001b[0m     \u001b[38;5;28;01mtry\u001b[39;00m:\n\u001b[0;32m--> 760\u001b[0m         \u001b[38;5;28;01mfor\u001b[39;00m chunk \u001b[38;5;129;01min\u001b[39;00m \u001b[38;5;28mself\u001b[39m\u001b[38;5;241m.\u001b[39mraw\u001b[38;5;241m.\u001b[39mstream(chunk_size, decode_content\u001b[38;5;241m=\u001b[39m\u001b[38;5;28;01mTrue\u001b[39;00m):\n\u001b[1;32m    761\u001b[0m             \u001b[38;5;28;01myield\u001b[39;00m chunk\n\u001b[1;32m    762\u001b[0m     \u001b[38;5;28;01mexcept\u001b[39;00m ProtocolError \u001b[38;5;28;01mas\u001b[39;00m e:\n",
      "File \u001b[0;32m~/opt/anaconda3/lib/python3.8/site-packages/urllib3/response.py:572\u001b[0m, in \u001b[0;36mHTTPResponse.stream\u001b[0;34m(self, amt, decode_content)\u001b[0m\n\u001b[1;32m    556\u001b[0m \u001b[38;5;124;03m\"\"\"\u001b[39;00m\n\u001b[1;32m    557\u001b[0m \u001b[38;5;124;03mA generator wrapper for the read() method. A call will block until\u001b[39;00m\n\u001b[1;32m    558\u001b[0m \u001b[38;5;124;03m``amt`` bytes have been read from the connection or until the\u001b[39;00m\n\u001b[0;32m   (...)\u001b[0m\n\u001b[1;32m    569\u001b[0m \u001b[38;5;124;03m    'content-encoding' header.\u001b[39;00m\n\u001b[1;32m    570\u001b[0m \u001b[38;5;124;03m\"\"\"\u001b[39;00m\n\u001b[1;32m    571\u001b[0m \u001b[38;5;28;01mif\u001b[39;00m \u001b[38;5;28mself\u001b[39m\u001b[38;5;241m.\u001b[39mchunked \u001b[38;5;129;01mand\u001b[39;00m \u001b[38;5;28mself\u001b[39m\u001b[38;5;241m.\u001b[39msupports_chunked_reads():\n\u001b[0;32m--> 572\u001b[0m     \u001b[38;5;28;01mfor\u001b[39;00m line \u001b[38;5;129;01min\u001b[39;00m \u001b[38;5;28mself\u001b[39m\u001b[38;5;241m.\u001b[39mread_chunked(amt, decode_content\u001b[38;5;241m=\u001b[39mdecode_content):\n\u001b[1;32m    573\u001b[0m         \u001b[38;5;28;01myield\u001b[39;00m line\n\u001b[1;32m    574\u001b[0m \u001b[38;5;28;01melse\u001b[39;00m:\n",
      "File \u001b[0;32m~/opt/anaconda3/lib/python3.8/site-packages/urllib3/response.py:764\u001b[0m, in \u001b[0;36mHTTPResponse.read_chunked\u001b[0;34m(self, amt, decode_content)\u001b[0m\n\u001b[1;32m    761\u001b[0m     \u001b[38;5;28;01mreturn\u001b[39;00m\n\u001b[1;32m    763\u001b[0m \u001b[38;5;28;01mwhile\u001b[39;00m \u001b[38;5;28;01mTrue\u001b[39;00m:\n\u001b[0;32m--> 764\u001b[0m     \u001b[38;5;28;43mself\u001b[39;49m\u001b[38;5;241;43m.\u001b[39;49m\u001b[43m_update_chunk_length\u001b[49m\u001b[43m(\u001b[49m\u001b[43m)\u001b[49m\n\u001b[1;32m    765\u001b[0m     \u001b[38;5;28;01mif\u001b[39;00m \u001b[38;5;28mself\u001b[39m\u001b[38;5;241m.\u001b[39mchunk_left \u001b[38;5;241m==\u001b[39m \u001b[38;5;241m0\u001b[39m:\n\u001b[1;32m    766\u001b[0m         \u001b[38;5;28;01mbreak\u001b[39;00m\n",
      "File \u001b[0;32m~/opt/anaconda3/lib/python3.8/site-packages/urllib3/response.py:694\u001b[0m, in \u001b[0;36mHTTPResponse._update_chunk_length\u001b[0;34m(self)\u001b[0m\n\u001b[1;32m    692\u001b[0m \u001b[38;5;28;01mif\u001b[39;00m \u001b[38;5;28mself\u001b[39m\u001b[38;5;241m.\u001b[39mchunk_left \u001b[38;5;129;01mis\u001b[39;00m \u001b[38;5;129;01mnot\u001b[39;00m \u001b[38;5;28;01mNone\u001b[39;00m:\n\u001b[1;32m    693\u001b[0m     \u001b[38;5;28;01mreturn\u001b[39;00m\n\u001b[0;32m--> 694\u001b[0m line \u001b[38;5;241m=\u001b[39m \u001b[38;5;28;43mself\u001b[39;49m\u001b[38;5;241;43m.\u001b[39;49m\u001b[43m_fp\u001b[49m\u001b[38;5;241;43m.\u001b[39;49m\u001b[43mfp\u001b[49m\u001b[38;5;241;43m.\u001b[39;49m\u001b[43mreadline\u001b[49m\u001b[43m(\u001b[49m\u001b[43m)\u001b[49m\n\u001b[1;32m    695\u001b[0m line \u001b[38;5;241m=\u001b[39m line\u001b[38;5;241m.\u001b[39msplit(\u001b[38;5;124mb\u001b[39m\u001b[38;5;124m\"\u001b[39m\u001b[38;5;124m;\u001b[39m\u001b[38;5;124m\"\u001b[39m, \u001b[38;5;241m1\u001b[39m)[\u001b[38;5;241m0\u001b[39m]\n\u001b[1;32m    696\u001b[0m \u001b[38;5;28;01mtry\u001b[39;00m:\n",
      "File \u001b[0;32m~/opt/anaconda3/lib/python3.8/socket.py:669\u001b[0m, in \u001b[0;36mSocketIO.readinto\u001b[0;34m(self, b)\u001b[0m\n\u001b[1;32m    667\u001b[0m \u001b[38;5;28;01mwhile\u001b[39;00m \u001b[38;5;28;01mTrue\u001b[39;00m:\n\u001b[1;32m    668\u001b[0m     \u001b[38;5;28;01mtry\u001b[39;00m:\n\u001b[0;32m--> 669\u001b[0m         \u001b[38;5;28;01mreturn\u001b[39;00m \u001b[38;5;28;43mself\u001b[39;49m\u001b[38;5;241;43m.\u001b[39;49m\u001b[43m_sock\u001b[49m\u001b[38;5;241;43m.\u001b[39;49m\u001b[43mrecv_into\u001b[49m\u001b[43m(\u001b[49m\u001b[43mb\u001b[49m\u001b[43m)\u001b[49m\n\u001b[1;32m    670\u001b[0m     \u001b[38;5;28;01mexcept\u001b[39;00m timeout:\n\u001b[1;32m    671\u001b[0m         \u001b[38;5;28mself\u001b[39m\u001b[38;5;241m.\u001b[39m_timeout_occurred \u001b[38;5;241m=\u001b[39m \u001b[38;5;28;01mTrue\u001b[39;00m\n",
      "File \u001b[0;32m~/opt/anaconda3/lib/python3.8/ssl.py:1241\u001b[0m, in \u001b[0;36mSSLSocket.recv_into\u001b[0;34m(self, buffer, nbytes, flags)\u001b[0m\n\u001b[1;32m   1237\u001b[0m     \u001b[38;5;28;01mif\u001b[39;00m flags \u001b[38;5;241m!=\u001b[39m \u001b[38;5;241m0\u001b[39m:\n\u001b[1;32m   1238\u001b[0m         \u001b[38;5;28;01mraise\u001b[39;00m \u001b[38;5;167;01mValueError\u001b[39;00m(\n\u001b[1;32m   1239\u001b[0m           \u001b[38;5;124m\"\u001b[39m\u001b[38;5;124mnon-zero flags not allowed in calls to recv_into() on \u001b[39m\u001b[38;5;132;01m%s\u001b[39;00m\u001b[38;5;124m\"\u001b[39m \u001b[38;5;241m%\u001b[39m\n\u001b[1;32m   1240\u001b[0m           \u001b[38;5;28mself\u001b[39m\u001b[38;5;241m.\u001b[39m\u001b[38;5;18m__class__\u001b[39m)\n\u001b[0;32m-> 1241\u001b[0m     \u001b[38;5;28;01mreturn\u001b[39;00m \u001b[38;5;28;43mself\u001b[39;49m\u001b[38;5;241;43m.\u001b[39;49m\u001b[43mread\u001b[49m\u001b[43m(\u001b[49m\u001b[43mnbytes\u001b[49m\u001b[43m,\u001b[49m\u001b[43m \u001b[49m\u001b[43mbuffer\u001b[49m\u001b[43m)\u001b[49m\n\u001b[1;32m   1242\u001b[0m \u001b[38;5;28;01melse\u001b[39;00m:\n\u001b[1;32m   1243\u001b[0m     \u001b[38;5;28;01mreturn\u001b[39;00m \u001b[38;5;28msuper\u001b[39m()\u001b[38;5;241m.\u001b[39mrecv_into(buffer, nbytes, flags)\n",
      "File \u001b[0;32m~/opt/anaconda3/lib/python3.8/ssl.py:1099\u001b[0m, in \u001b[0;36mSSLSocket.read\u001b[0;34m(self, len, buffer)\u001b[0m\n\u001b[1;32m   1097\u001b[0m \u001b[38;5;28;01mtry\u001b[39;00m:\n\u001b[1;32m   1098\u001b[0m     \u001b[38;5;28;01mif\u001b[39;00m buffer \u001b[38;5;129;01mis\u001b[39;00m \u001b[38;5;129;01mnot\u001b[39;00m \u001b[38;5;28;01mNone\u001b[39;00m:\n\u001b[0;32m-> 1099\u001b[0m         \u001b[38;5;28;01mreturn\u001b[39;00m \u001b[38;5;28;43mself\u001b[39;49m\u001b[38;5;241;43m.\u001b[39;49m\u001b[43m_sslobj\u001b[49m\u001b[38;5;241;43m.\u001b[39;49m\u001b[43mread\u001b[49m\u001b[43m(\u001b[49m\u001b[38;5;28;43mlen\u001b[39;49m\u001b[43m,\u001b[49m\u001b[43m \u001b[49m\u001b[43mbuffer\u001b[49m\u001b[43m)\u001b[49m\n\u001b[1;32m   1100\u001b[0m     \u001b[38;5;28;01melse\u001b[39;00m:\n\u001b[1;32m   1101\u001b[0m         \u001b[38;5;28;01mreturn\u001b[39;00m \u001b[38;5;28mself\u001b[39m\u001b[38;5;241m.\u001b[39m_sslobj\u001b[38;5;241m.\u001b[39mread(\u001b[38;5;28mlen\u001b[39m)\n",
      "\u001b[0;31mKeyboardInterrupt\u001b[0m: "
     ]
    }
   ],
   "source": [
    "# Instantiate from our streaming class\n",
    "stream = MyStreamer(creds['CONSUMER_KEY'], creds['CONSUMER_SECRET'], \n",
    "                    creds['ACCESS_TOKEN'], creds['ACCESS_SECRET'])\n",
    "# Start the stream\n",
    "stream.statuses.filter(track='Donald Trump')"
   ]
  },
  {
   "cell_type": "code",
   "execution_count": 12,
   "metadata": {},
   "outputs": [
    {
     "data": {
      "text/html": [
       "<div>\n",
       "<style scoped>\n",
       "    .dataframe tbody tr th:only-of-type {\n",
       "        vertical-align: middle;\n",
       "    }\n",
       "\n",
       "    .dataframe tbody tr th {\n",
       "        vertical-align: top;\n",
       "    }\n",
       "\n",
       "    .dataframe thead th {\n",
       "        text-align: right;\n",
       "    }\n",
       "</style>\n",
       "<table border=\"1\" class=\"dataframe\">\n",
       "  <thead>\n",
       "    <tr style=\"text-align: right;\">\n",
       "      <th></th>\n",
       "      <th>[]</th>\n",
       "      <th>RT @HimalayaMayflo1: Almighty God!!! \\nThank you to everyone for being there with him the whole time! https://t.co/uSXb1oKDvm</th>\n",
       "      <th>YNing2016</th>\n",
       "      <th>Unnamed: 3</th>\n",
       "    </tr>\n",
       "  </thead>\n",
       "  <tbody>\n",
       "    <tr>\n",
       "      <th>0</th>\n",
       "      <td>[]</td>\n",
       "      <td>RT @nytimes: The Manhattan district attorney’s...</td>\n",
       "      <td>Keepitdrooling</td>\n",
       "      <td>NaN</td>\n",
       "    </tr>\n",
       "    <tr>\n",
       "      <th>1</th>\n",
       "      <td>[]</td>\n",
       "      <td>RT @SethAbramson: BREAKING NEWS: \"The Manhatta...</td>\n",
       "      <td>Jackson05405935</td>\n",
       "      <td>NaN</td>\n",
       "    </tr>\n",
       "    <tr>\n",
       "      <th>2</th>\n",
       "      <td>[]</td>\n",
       "      <td>RT @HuffPost: President Donald Trump reportedl...</td>\n",
       "      <td>EvelDick</td>\n",
       "      <td>The taint of the USA, Florida</td>\n",
       "    </tr>\n",
       "    <tr>\n",
       "      <th>3</th>\n",
       "      <td>[]</td>\n",
       "      <td>RT @naturalmelva: Is this part of infrastructu...</td>\n",
       "      <td>naturalmelva</td>\n",
       "      <td>Oregon</td>\n",
       "    </tr>\n",
       "    <tr>\n",
       "      <th>4</th>\n",
       "      <td>[]</td>\n",
       "      <td>RT @MeidasTouch: The Manhattan DA has informed...</td>\n",
       "      <td>Aliphaire</td>\n",
       "      <td>Maryland, USA</td>\n",
       "    </tr>\n",
       "  </tbody>\n",
       "</table>\n",
       "</div>"
      ],
      "text/plain": [
       "   []  \\\n",
       "0  []   \n",
       "1  []   \n",
       "2  []   \n",
       "3  []   \n",
       "4  []   \n",
       "\n",
       "  RT @HimalayaMayflo1: Almighty God!!! \\nThank you to everyone for being there with him the whole time! https://t.co/uSXb1oKDvm  \\\n",
       "0  RT @nytimes: The Manhattan district attorney’s...                                                                              \n",
       "1  RT @SethAbramson: BREAKING NEWS: \"The Manhatta...                                                                              \n",
       "2  RT @HuffPost: President Donald Trump reportedl...                                                                              \n",
       "3  RT @naturalmelva: Is this part of infrastructu...                                                                              \n",
       "4  RT @MeidasTouch: The Manhattan DA has informed...                                                                              \n",
       "\n",
       "         YNing2016                     Unnamed: 3  \n",
       "0   Keepitdrooling                            NaN  \n",
       "1  Jackson05405935                            NaN  \n",
       "2         EvelDick  The taint of the USA, Florida  \n",
       "3     naturalmelva                         Oregon  \n",
       "4        Aliphaire                  Maryland, USA  "
      ]
     },
     "execution_count": 12,
     "metadata": {},
     "output_type": "execute_result"
    }
   ],
   "source": [
    "tweets = pd.read_csv(\"saved_tweets.csv\")\n",
    "tweets.head()"
   ]
  },
  {
   "cell_type": "code",
   "execution_count": 13,
   "metadata": {},
   "outputs": [],
   "source": [
    "tweets.columns = ['hashtags','text','user','user location']"
   ]
  },
  {
   "cell_type": "code",
   "execution_count": 14,
   "metadata": {},
   "outputs": [
    {
     "data": {
      "text/html": [
       "<div>\n",
       "<style scoped>\n",
       "    .dataframe tbody tr th:only-of-type {\n",
       "        vertical-align: middle;\n",
       "    }\n",
       "\n",
       "    .dataframe tbody tr th {\n",
       "        vertical-align: top;\n",
       "    }\n",
       "\n",
       "    .dataframe thead th {\n",
       "        text-align: right;\n",
       "    }\n",
       "</style>\n",
       "<table border=\"1\" class=\"dataframe\">\n",
       "  <thead>\n",
       "    <tr style=\"text-align: right;\">\n",
       "      <th></th>\n",
       "      <th>hashtags</th>\n",
       "      <th>text</th>\n",
       "      <th>user</th>\n",
       "      <th>user location</th>\n",
       "    </tr>\n",
       "  </thead>\n",
       "  <tbody>\n",
       "    <tr>\n",
       "      <th>0</th>\n",
       "      <td>[]</td>\n",
       "      <td>RT @nytimes: The Manhattan district attorney’s...</td>\n",
       "      <td>Keepitdrooling</td>\n",
       "      <td>NaN</td>\n",
       "    </tr>\n",
       "    <tr>\n",
       "      <th>1</th>\n",
       "      <td>[]</td>\n",
       "      <td>RT @SethAbramson: BREAKING NEWS: \"The Manhatta...</td>\n",
       "      <td>Jackson05405935</td>\n",
       "      <td>NaN</td>\n",
       "    </tr>\n",
       "    <tr>\n",
       "      <th>2</th>\n",
       "      <td>[]</td>\n",
       "      <td>RT @HuffPost: President Donald Trump reportedl...</td>\n",
       "      <td>EvelDick</td>\n",
       "      <td>The taint of the USA, Florida</td>\n",
       "    </tr>\n",
       "    <tr>\n",
       "      <th>3</th>\n",
       "      <td>[]</td>\n",
       "      <td>RT @naturalmelva: Is this part of infrastructu...</td>\n",
       "      <td>naturalmelva</td>\n",
       "      <td>Oregon</td>\n",
       "    </tr>\n",
       "    <tr>\n",
       "      <th>4</th>\n",
       "      <td>[]</td>\n",
       "      <td>RT @MeidasTouch: The Manhattan DA has informed...</td>\n",
       "      <td>Aliphaire</td>\n",
       "      <td>Maryland, USA</td>\n",
       "    </tr>\n",
       "  </tbody>\n",
       "</table>\n",
       "</div>"
      ],
      "text/plain": [
       "  hashtags                                               text  \\\n",
       "0       []  RT @nytimes: The Manhattan district attorney’s...   \n",
       "1       []  RT @SethAbramson: BREAKING NEWS: \"The Manhatta...   \n",
       "2       []  RT @HuffPost: President Donald Trump reportedl...   \n",
       "3       []  RT @naturalmelva: Is this part of infrastructu...   \n",
       "4       []  RT @MeidasTouch: The Manhattan DA has informed...   \n",
       "\n",
       "              user                  user location  \n",
       "0   Keepitdrooling                            NaN  \n",
       "1  Jackson05405935                            NaN  \n",
       "2         EvelDick  The taint of the USA, Florida  \n",
       "3     naturalmelva                         Oregon  \n",
       "4        Aliphaire                  Maryland, USA  "
      ]
     },
     "execution_count": 14,
     "metadata": {},
     "output_type": "execute_result"
    }
   ],
   "source": [
    "tweets.head()"
   ]
  },
  {
   "cell_type": "code",
   "execution_count": 15,
   "metadata": {},
   "outputs": [
    {
     "data": {
      "text/plain": [
       "[('trump', 31),\n",
       " ('defeatthune', 20),\n",
       " ('cadetbonespurs', 16),\n",
       " ('trumpcrimefamily', 15),\n",
       " ('demvoice1', 15),\n",
       " ('maga', 12),\n",
       " ('wtpblue', 12),\n",
       " ('onev1', 11),\n",
       " ('freshvoicesrise', 10),\n",
       " ('wethepeople', 10),\n",
       " ('donaldjtrump', 10),\n",
       " ('covid19', 10),\n",
       " ('qanon', 9),\n",
       " ('whitehouse', 9),\n",
       " ('smartnews', 9),\n",
       " ('donaldtrump', 8),\n",
       " ('backtheblue', 7),\n",
       " ('defendthepolice', 7),\n",
       " ('saveamerica', 7),\n",
       " ('cpactx', 7)]"
      ]
     },
     "execution_count": 15,
     "metadata": {},
     "output_type": "execute_result"
    }
   ],
   "source": [
    "from collections import Counter\n",
    "import ast\n",
    "\n",
    "# Extract hashtags and put them in a list\n",
    "list_hashtag_strings = [entry for entry in tweets.hashtags]\n",
    "list_hashtag_lists = ast.literal_eval(','.join(list_hashtag_strings))\n",
    "hashtag_list = [ht.lower() for list_ in list_hashtag_lists for ht in list_]\n",
    "\n",
    "# Count most common hashtags\n",
    "counter_hashtags = Counter(hashtag_list)\n",
    "counter_hashtags.most_common(20)"
   ]
  },
  {
   "cell_type": "code",
   "execution_count": 17,
   "metadata": {},
   "outputs": [
    {
     "name": "stdout",
     "output_type": "stream",
     "text": [
      "Collecting geopy\n",
      "  Downloading geopy-2.2.0-py3-none-any.whl (118 kB)\n",
      "\u001b[K     |████████████████████████████████| 118 kB 2.3 MB/s eta 0:00:01\n",
      "\u001b[?25hCollecting geographiclib<2,>=1.49\n",
      "  Downloading geographiclib-1.52-py3-none-any.whl (38 kB)\n",
      "Installing collected packages: geographiclib, geopy\n",
      "Successfully installed geographiclib-1.52 geopy-2.2.0\n",
      "Note: you may need to restart the kernel to use updated packages.\n"
     ]
    }
   ],
   "source": [
    "pip install geopy"
   ]
  },
  {
   "cell_type": "code",
   "execution_count": 18,
   "metadata": {},
   "outputs": [
    {
     "name": "stdout",
     "output_type": "stream",
     "text": [
      "Collecting gmplot\n",
      "  Downloading gmplot-1.4.1-py3-none-any.whl (164 kB)\n",
      "\u001b[K     |████████████████████████████████| 164 kB 2.4 MB/s eta 0:00:01\n",
      "\u001b[?25hRequirement already satisfied: requests in /Users/wxiao/opt/anaconda3/lib/python3.8/site-packages (from gmplot) (2.27.1)\n",
      "Requirement already satisfied: certifi>=2017.4.17 in /Users/wxiao/opt/anaconda3/lib/python3.8/site-packages (from requests->gmplot) (2021.10.8)\n",
      "Requirement already satisfied: idna<4,>=2.5 in /Users/wxiao/opt/anaconda3/lib/python3.8/site-packages (from requests->gmplot) (3.3)\n",
      "Requirement already satisfied: urllib3<1.27,>=1.21.1 in /Users/wxiao/opt/anaconda3/lib/python3.8/site-packages (from requests->gmplot) (1.26.8)\n",
      "Requirement already satisfied: charset-normalizer~=2.0.0 in /Users/wxiao/opt/anaconda3/lib/python3.8/site-packages (from requests->gmplot) (2.0.4)\n",
      "Installing collected packages: gmplot\n",
      "Successfully installed gmplot-1.4.1\n",
      "Note: you may need to restart the kernel to use updated packages.\n"
     ]
    }
   ],
   "source": [
    "pip install gmplot"
   ]
  },
  {
   "cell_type": "code",
   "execution_count": 19,
   "metadata": {
    "scrolled": true
   },
   "outputs": [
    {
     "ename": "ConfigurationError",
     "evalue": "Using Nominatim with default or sample `user_agent` \"my-application\" is strongly discouraged, as it violates Nominatim's ToS https://operations.osmfoundation.org/policies/nominatim/ and may possibly cause 403 and 429 HTTP errors. Please specify a custom `user_agent` with `Nominatim(user_agent=\"my-application\")` or by overriding the default `user_agent`: `geopy.geocoders.options.default_user_agent = \"my-application\"`.",
     "output_type": "error",
     "traceback": [
      "\u001b[0;31m---------------------------------------------------------------------------\u001b[0m",
      "\u001b[0;31mConfigurationError\u001b[0m                        Traceback (most recent call last)",
      "Input \u001b[0;32mIn [19]\u001b[0m, in \u001b[0;36m<cell line: 4>\u001b[0;34m()\u001b[0m\n\u001b[1;32m      1\u001b[0m \u001b[38;5;28;01mfrom\u001b[39;00m \u001b[38;5;21;01mgeopy\u001b[39;00m\u001b[38;5;21;01m.\u001b[39;00m\u001b[38;5;21;01mgeocoders\u001b[39;00m \u001b[38;5;28;01mimport\u001b[39;00m Nominatim\n\u001b[1;32m      2\u001b[0m \u001b[38;5;28;01mimport\u001b[39;00m \u001b[38;5;21;01mgmplot\u001b[39;00m\n\u001b[0;32m----> 4\u001b[0m geolocator \u001b[38;5;241m=\u001b[39m \u001b[43mNominatim\u001b[49m\u001b[43m(\u001b[49m\u001b[43muser_agent\u001b[49m\u001b[38;5;241;43m=\u001b[39;49m\u001b[38;5;124;43m\"\u001b[39;49m\u001b[38;5;124;43mmy-application\u001b[39;49m\u001b[38;5;124;43m\"\u001b[39;49m\u001b[43m)\u001b[49m\n\u001b[1;32m      6\u001b[0m \u001b[38;5;66;03m# Go through all tweets and add locations to 'coordinates' dictionary\u001b[39;00m\n\u001b[1;32m      7\u001b[0m coordinates \u001b[38;5;241m=\u001b[39m {\u001b[38;5;124m'\u001b[39m\u001b[38;5;124mlatitude\u001b[39m\u001b[38;5;124m'\u001b[39m: [], \u001b[38;5;124m'\u001b[39m\u001b[38;5;124mlongitude\u001b[39m\u001b[38;5;124m'\u001b[39m: []}\n",
      "File \u001b[0;32m~/opt/anaconda3/lib/python3.8/site-packages/geopy/geocoders/nominatim.py:105\u001b[0m, in \u001b[0;36mNominatim.__init__\u001b[0;34m(self, timeout, proxies, domain, scheme, user_agent, ssl_context, adapter_factory)\u001b[0m\n\u001b[1;32m    101\u001b[0m \u001b[38;5;28mself\u001b[39m\u001b[38;5;241m.\u001b[39mdomain \u001b[38;5;241m=\u001b[39m domain\u001b[38;5;241m.\u001b[39mstrip(\u001b[38;5;124m'\u001b[39m\u001b[38;5;124m/\u001b[39m\u001b[38;5;124m'\u001b[39m)\n\u001b[1;32m    103\u001b[0m \u001b[38;5;28;01mif\u001b[39;00m (\u001b[38;5;28mself\u001b[39m\u001b[38;5;241m.\u001b[39mdomain \u001b[38;5;241m==\u001b[39m _DEFAULT_NOMINATIM_DOMAIN\n\u001b[1;32m    104\u001b[0m         \u001b[38;5;129;01mand\u001b[39;00m \u001b[38;5;28mself\u001b[39m\u001b[38;5;241m.\u001b[39mheaders[\u001b[38;5;124m'\u001b[39m\u001b[38;5;124mUser-Agent\u001b[39m\u001b[38;5;124m'\u001b[39m] \u001b[38;5;129;01min\u001b[39;00m _REJECTED_USER_AGENTS):\n\u001b[0;32m--> 105\u001b[0m     \u001b[38;5;28;01mraise\u001b[39;00m ConfigurationError(\n\u001b[1;32m    106\u001b[0m         \u001b[38;5;124m'\u001b[39m\u001b[38;5;124mUsing Nominatim with default or sample `user_agent` \u001b[39m\u001b[38;5;124m\"\u001b[39m\u001b[38;5;132;01m%s\u001b[39;00m\u001b[38;5;124m\"\u001b[39m\u001b[38;5;124m is \u001b[39m\u001b[38;5;124m'\u001b[39m\n\u001b[1;32m    107\u001b[0m         \u001b[38;5;124m'\u001b[39m\u001b[38;5;124mstrongly discouraged, as it violates Nominatim\u001b[39m\u001b[38;5;130;01m\\'\u001b[39;00m\u001b[38;5;124ms ToS \u001b[39m\u001b[38;5;124m'\u001b[39m\n\u001b[1;32m    108\u001b[0m         \u001b[38;5;124m'\u001b[39m\u001b[38;5;124mhttps://operations.osmfoundation.org/policies/nominatim/ \u001b[39m\u001b[38;5;124m'\u001b[39m\n\u001b[1;32m    109\u001b[0m         \u001b[38;5;124m'\u001b[39m\u001b[38;5;124mand may possibly cause 403 and 429 HTTP errors. \u001b[39m\u001b[38;5;124m'\u001b[39m\n\u001b[1;32m    110\u001b[0m         \u001b[38;5;124m'\u001b[39m\u001b[38;5;124mPlease specify a custom `user_agent` with \u001b[39m\u001b[38;5;124m'\u001b[39m\n\u001b[1;32m    111\u001b[0m         \u001b[38;5;124m'\u001b[39m\u001b[38;5;124m`Nominatim(user_agent=\u001b[39m\u001b[38;5;124m\"\u001b[39m\u001b[38;5;124mmy-application\u001b[39m\u001b[38;5;124m\"\u001b[39m\u001b[38;5;124m)` or by \u001b[39m\u001b[38;5;124m'\u001b[39m\n\u001b[1;32m    112\u001b[0m         \u001b[38;5;124m'\u001b[39m\u001b[38;5;124moverriding the default `user_agent`: \u001b[39m\u001b[38;5;124m'\u001b[39m\n\u001b[1;32m    113\u001b[0m         \u001b[38;5;124m'\u001b[39m\u001b[38;5;124m`geopy.geocoders.options.default_user_agent = \u001b[39m\u001b[38;5;124m\"\u001b[39m\u001b[38;5;124mmy-application\u001b[39m\u001b[38;5;124m\"\u001b[39m\u001b[38;5;124m`.\u001b[39m\u001b[38;5;124m'\u001b[39m\n\u001b[1;32m    114\u001b[0m         \u001b[38;5;241m%\u001b[39m \u001b[38;5;28mself\u001b[39m\u001b[38;5;241m.\u001b[39mheaders[\u001b[38;5;124m'\u001b[39m\u001b[38;5;124mUser-Agent\u001b[39m\u001b[38;5;124m'\u001b[39m]\n\u001b[1;32m    115\u001b[0m     )\n\u001b[1;32m    117\u001b[0m \u001b[38;5;28mself\u001b[39m\u001b[38;5;241m.\u001b[39mapi \u001b[38;5;241m=\u001b[39m \u001b[38;5;124m\"\u001b[39m\u001b[38;5;132;01m%s\u001b[39;00m\u001b[38;5;124m://\u001b[39m\u001b[38;5;132;01m%s\u001b[39;00m\u001b[38;5;132;01m%s\u001b[39;00m\u001b[38;5;124m\"\u001b[39m \u001b[38;5;241m%\u001b[39m (\u001b[38;5;28mself\u001b[39m\u001b[38;5;241m.\u001b[39mscheme, \u001b[38;5;28mself\u001b[39m\u001b[38;5;241m.\u001b[39mdomain, \u001b[38;5;28mself\u001b[39m\u001b[38;5;241m.\u001b[39mgeocode_path)\n\u001b[1;32m    118\u001b[0m \u001b[38;5;28mself\u001b[39m\u001b[38;5;241m.\u001b[39mreverse_api \u001b[38;5;241m=\u001b[39m \u001b[38;5;124m\"\u001b[39m\u001b[38;5;132;01m%s\u001b[39;00m\u001b[38;5;124m://\u001b[39m\u001b[38;5;132;01m%s\u001b[39;00m\u001b[38;5;132;01m%s\u001b[39;00m\u001b[38;5;124m\"\u001b[39m \u001b[38;5;241m%\u001b[39m (\u001b[38;5;28mself\u001b[39m\u001b[38;5;241m.\u001b[39mscheme, \u001b[38;5;28mself\u001b[39m\u001b[38;5;241m.\u001b[39mdomain, \u001b[38;5;28mself\u001b[39m\u001b[38;5;241m.\u001b[39mreverse_path)\n",
      "\u001b[0;31mConfigurationError\u001b[0m: Using Nominatim with default or sample `user_agent` \"my-application\" is strongly discouraged, as it violates Nominatim's ToS https://operations.osmfoundation.org/policies/nominatim/ and may possibly cause 403 and 429 HTTP errors. Please specify a custom `user_agent` with `Nominatim(user_agent=\"my-application\")` or by overriding the default `user_agent`: `geopy.geocoders.options.default_user_agent = \"my-application\"`."
     ]
    }
   ],
   "source": [
    "from geopy.geocoders import Nominatim\n",
    "import gmplot\n",
    "\n",
    "geolocator = Nominatim(user_agent=\"my-application\")\n",
    "\n",
    "# Go through all tweets and add locations to 'coordinates' dictionary\n",
    "coordinates = {'latitude': [], 'longitude': []}\n",
    "for count, user_loc in enumerate(tweets.location):\n",
    "    try:\n",
    "        location = geolocator.geocode(user_loc)\n",
    "        \n",
    "        # If coordinates are found for location\n",
    "        if location:\n",
    "            coordinates['latitude'].append(location.latitude)\n",
    "            coordinates['longitude'].append(location.longitude)\n",
    "            \n",
    "    # If too many connection requests\n",
    "    except:\n",
    "        pass\n",
    "    \n",
    "# Instantiate and center a GoogleMapPlotter object to show our map\n",
    "gmap = gmplot.GoogleMapPlotter(30, 0, 3)\n",
    "\n",
    "# Insert points on the map passing a list of latitudes and longitudes\n",
    "gmap.heatmap(coordinates['latitude'], coordinates['longitude'], radius=20)\n",
    "\n",
    "# Save the map to html file\n",
    "gmap.draw(\"python_heatmap.html\")"
   ]
  }
 ],
 "metadata": {
  "kernelspec": {
   "display_name": "Python 3 (ipykernel)",
   "language": "python",
   "name": "python3"
  },
  "language_info": {
   "codemirror_mode": {
    "name": "ipython",
    "version": 3
   },
   "file_extension": ".py",
   "mimetype": "text/x-python",
   "name": "python",
   "nbconvert_exporter": "python",
   "pygments_lexer": "ipython3",
   "version": "3.9.10+"
  }
 },
 "nbformat": 4,
 "nbformat_minor": 4
}
